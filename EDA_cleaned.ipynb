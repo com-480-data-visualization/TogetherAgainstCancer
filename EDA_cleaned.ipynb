{
 "cells": [
  {
   "cell_type": "code",
   "execution_count": 1,
   "metadata": {},
   "outputs": [],
   "source": [
    "import pandas as pd\n",
    "import numpy as np\n",
    "import matplotlib.pyplot as plt\n",
    "import seaborn as sns\n",
    "import plotly.express as px\n",
    "import plotly.graph_objects as go\n",
    "from plotly.subplots import make_subplots\n",
    "\n",
    "\n",
    "#to ignore warnings\n",
    "import warnings\n",
    "warnings.filterwarnings('ignore')"
   ]
  },
  {
   "cell_type": "code",
   "execution_count": 2,
   "metadata": {},
   "outputs": [],
   "source": [
    "#data = pd.read_csv(\"C:/Users/ahamm/Documents/MA4/Data viz/IHME-GBD_2019_DATA-10654582-1.csv\")\n",
    "#data = pd.read_csv(\"data/IHME-GBD_2019_DATA-10654582-1.csv\")\n",
    "data = pd.read_csv(\"data/IHME-GBD_2019_DATA-daf40202-1.csv\")"
   ]
  },
  {
   "cell_type": "code",
   "execution_count": 3,
   "metadata": {},
   "outputs": [
    {
     "data": {
      "text/html": [
       "<div>\n",
       "<style scoped>\n",
       "    .dataframe tbody tr th:only-of-type {\n",
       "        vertical-align: middle;\n",
       "    }\n",
       "\n",
       "    .dataframe tbody tr th {\n",
       "        vertical-align: top;\n",
       "    }\n",
       "\n",
       "    .dataframe thead th {\n",
       "        text-align: right;\n",
       "    }\n",
       "</style>\n",
       "<table border=\"1\" class=\"dataframe\">\n",
       "  <thead>\n",
       "    <tr style=\"text-align: right;\">\n",
       "      <th></th>\n",
       "      <th>measure_id</th>\n",
       "      <th>measure_name</th>\n",
       "      <th>location_id</th>\n",
       "      <th>location_name</th>\n",
       "      <th>sex_id</th>\n",
       "      <th>sex_name</th>\n",
       "      <th>age_id</th>\n",
       "      <th>age_name</th>\n",
       "      <th>cause_id</th>\n",
       "      <th>cause_name</th>\n",
       "      <th>metric_id</th>\n",
       "      <th>metric_name</th>\n",
       "      <th>year</th>\n",
       "      <th>val</th>\n",
       "      <th>upper</th>\n",
       "      <th>lower</th>\n",
       "    </tr>\n",
       "  </thead>\n",
       "  <tbody>\n",
       "    <tr>\n",
       "      <th>0</th>\n",
       "      <td>1</td>\n",
       "      <td>Deaths</td>\n",
       "      <td>94</td>\n",
       "      <td>Switzerland</td>\n",
       "      <td>1</td>\n",
       "      <td>Male</td>\n",
       "      <td>8</td>\n",
       "      <td>15-19 years</td>\n",
       "      <td>414</td>\n",
       "      <td>Stomach cancer</td>\n",
       "      <td>1</td>\n",
       "      <td>Number</td>\n",
       "      <td>1992</td>\n",
       "      <td>0.109847</td>\n",
       "      <td>0.147407</td>\n",
       "      <td>0.077678</td>\n",
       "    </tr>\n",
       "    <tr>\n",
       "      <th>1</th>\n",
       "      <td>1</td>\n",
       "      <td>Deaths</td>\n",
       "      <td>94</td>\n",
       "      <td>Switzerland</td>\n",
       "      <td>2</td>\n",
       "      <td>Female</td>\n",
       "      <td>8</td>\n",
       "      <td>15-19 years</td>\n",
       "      <td>414</td>\n",
       "      <td>Stomach cancer</td>\n",
       "      <td>1</td>\n",
       "      <td>Number</td>\n",
       "      <td>1992</td>\n",
       "      <td>0.103194</td>\n",
       "      <td>0.134278</td>\n",
       "      <td>0.076533</td>\n",
       "    </tr>\n",
       "    <tr>\n",
       "      <th>2</th>\n",
       "      <td>1</td>\n",
       "      <td>Deaths</td>\n",
       "      <td>94</td>\n",
       "      <td>Switzerland</td>\n",
       "      <td>1</td>\n",
       "      <td>Male</td>\n",
       "      <td>8</td>\n",
       "      <td>15-19 years</td>\n",
       "      <td>414</td>\n",
       "      <td>Stomach cancer</td>\n",
       "      <td>2</td>\n",
       "      <td>Percent</td>\n",
       "      <td>1992</td>\n",
       "      <td>0.000692</td>\n",
       "      <td>0.000927</td>\n",
       "      <td>0.000491</td>\n",
       "    </tr>\n",
       "    <tr>\n",
       "      <th>3</th>\n",
       "      <td>1</td>\n",
       "      <td>Deaths</td>\n",
       "      <td>94</td>\n",
       "      <td>Switzerland</td>\n",
       "      <td>2</td>\n",
       "      <td>Female</td>\n",
       "      <td>8</td>\n",
       "      <td>15-19 years</td>\n",
       "      <td>414</td>\n",
       "      <td>Stomach cancer</td>\n",
       "      <td>2</td>\n",
       "      <td>Percent</td>\n",
       "      <td>1992</td>\n",
       "      <td>0.001555</td>\n",
       "      <td>0.002026</td>\n",
       "      <td>0.001155</td>\n",
       "    </tr>\n",
       "    <tr>\n",
       "      <th>4</th>\n",
       "      <td>1</td>\n",
       "      <td>Deaths</td>\n",
       "      <td>94</td>\n",
       "      <td>Switzerland</td>\n",
       "      <td>1</td>\n",
       "      <td>Male</td>\n",
       "      <td>8</td>\n",
       "      <td>15-19 years</td>\n",
       "      <td>414</td>\n",
       "      <td>Stomach cancer</td>\n",
       "      <td>3</td>\n",
       "      <td>Rate</td>\n",
       "      <td>1992</td>\n",
       "      <td>0.053663</td>\n",
       "      <td>0.072012</td>\n",
       "      <td>0.037947</td>\n",
       "    </tr>\n",
       "    <tr>\n",
       "      <th>5</th>\n",
       "      <td>1</td>\n",
       "      <td>Deaths</td>\n",
       "      <td>94</td>\n",
       "      <td>Switzerland</td>\n",
       "      <td>2</td>\n",
       "      <td>Female</td>\n",
       "      <td>8</td>\n",
       "      <td>15-19 years</td>\n",
       "      <td>414</td>\n",
       "      <td>Stomach cancer</td>\n",
       "      <td>3</td>\n",
       "      <td>Rate</td>\n",
       "      <td>1992</td>\n",
       "      <td>0.053364</td>\n",
       "      <td>0.069438</td>\n",
       "      <td>0.039577</td>\n",
       "    </tr>\n",
       "    <tr>\n",
       "      <th>6</th>\n",
       "      <td>1</td>\n",
       "      <td>Deaths</td>\n",
       "      <td>94</td>\n",
       "      <td>Switzerland</td>\n",
       "      <td>1</td>\n",
       "      <td>Male</td>\n",
       "      <td>9</td>\n",
       "      <td>20-24 years</td>\n",
       "      <td>414</td>\n",
       "      <td>Stomach cancer</td>\n",
       "      <td>1</td>\n",
       "      <td>Number</td>\n",
       "      <td>1992</td>\n",
       "      <td>0.581058</td>\n",
       "      <td>0.770165</td>\n",
       "      <td>0.436195</td>\n",
       "    </tr>\n",
       "    <tr>\n",
       "      <th>7</th>\n",
       "      <td>1</td>\n",
       "      <td>Deaths</td>\n",
       "      <td>94</td>\n",
       "      <td>Switzerland</td>\n",
       "      <td>2</td>\n",
       "      <td>Female</td>\n",
       "      <td>9</td>\n",
       "      <td>20-24 years</td>\n",
       "      <td>414</td>\n",
       "      <td>Stomach cancer</td>\n",
       "      <td>1</td>\n",
       "      <td>Number</td>\n",
       "      <td>1992</td>\n",
       "      <td>0.409267</td>\n",
       "      <td>0.526591</td>\n",
       "      <td>0.306827</td>\n",
       "    </tr>\n",
       "    <tr>\n",
       "      <th>8</th>\n",
       "      <td>1</td>\n",
       "      <td>Deaths</td>\n",
       "      <td>94</td>\n",
       "      <td>Switzerland</td>\n",
       "      <td>1</td>\n",
       "      <td>Male</td>\n",
       "      <td>9</td>\n",
       "      <td>20-24 years</td>\n",
       "      <td>414</td>\n",
       "      <td>Stomach cancer</td>\n",
       "      <td>2</td>\n",
       "      <td>Percent</td>\n",
       "      <td>1992</td>\n",
       "      <td>0.001453</td>\n",
       "      <td>0.001925</td>\n",
       "      <td>0.001087</td>\n",
       "    </tr>\n",
       "    <tr>\n",
       "      <th>9</th>\n",
       "      <td>1</td>\n",
       "      <td>Deaths</td>\n",
       "      <td>94</td>\n",
       "      <td>Switzerland</td>\n",
       "      <td>2</td>\n",
       "      <td>Female</td>\n",
       "      <td>9</td>\n",
       "      <td>20-24 years</td>\n",
       "      <td>414</td>\n",
       "      <td>Stomach cancer</td>\n",
       "      <td>2</td>\n",
       "      <td>Percent</td>\n",
       "      <td>1992</td>\n",
       "      <td>0.003664</td>\n",
       "      <td>0.004716</td>\n",
       "      <td>0.002743</td>\n",
       "    </tr>\n",
       "  </tbody>\n",
       "</table>\n",
       "</div>"
      ],
      "text/plain": [
       "   measure_id measure_name  location_id location_name  sex_id sex_name  \\\n",
       "0           1       Deaths           94   Switzerland       1     Male   \n",
       "1           1       Deaths           94   Switzerland       2   Female   \n",
       "2           1       Deaths           94   Switzerland       1     Male   \n",
       "3           1       Deaths           94   Switzerland       2   Female   \n",
       "4           1       Deaths           94   Switzerland       1     Male   \n",
       "5           1       Deaths           94   Switzerland       2   Female   \n",
       "6           1       Deaths           94   Switzerland       1     Male   \n",
       "7           1       Deaths           94   Switzerland       2   Female   \n",
       "8           1       Deaths           94   Switzerland       1     Male   \n",
       "9           1       Deaths           94   Switzerland       2   Female   \n",
       "\n",
       "   age_id     age_name  cause_id      cause_name  metric_id metric_name  year  \\\n",
       "0       8  15-19 years       414  Stomach cancer          1      Number  1992   \n",
       "1       8  15-19 years       414  Stomach cancer          1      Number  1992   \n",
       "2       8  15-19 years       414  Stomach cancer          2     Percent  1992   \n",
       "3       8  15-19 years       414  Stomach cancer          2     Percent  1992   \n",
       "4       8  15-19 years       414  Stomach cancer          3        Rate  1992   \n",
       "5       8  15-19 years       414  Stomach cancer          3        Rate  1992   \n",
       "6       9  20-24 years       414  Stomach cancer          1      Number  1992   \n",
       "7       9  20-24 years       414  Stomach cancer          1      Number  1992   \n",
       "8       9  20-24 years       414  Stomach cancer          2     Percent  1992   \n",
       "9       9  20-24 years       414  Stomach cancer          2     Percent  1992   \n",
       "\n",
       "        val     upper     lower  \n",
       "0  0.109847  0.147407  0.077678  \n",
       "1  0.103194  0.134278  0.076533  \n",
       "2  0.000692  0.000927  0.000491  \n",
       "3  0.001555  0.002026  0.001155  \n",
       "4  0.053663  0.072012  0.037947  \n",
       "5  0.053364  0.069438  0.039577  \n",
       "6  0.581058  0.770165  0.436195  \n",
       "7  0.409267  0.526591  0.306827  \n",
       "8  0.001453  0.001925  0.001087  \n",
       "9  0.003664  0.004716  0.002743  "
      ]
     },
     "execution_count": 3,
     "metadata": {},
     "output_type": "execute_result"
    }
   ],
   "source": [
    "data.head(10)"
   ]
  },
  {
   "cell_type": "markdown",
   "metadata": {},
   "source": [
    "### I - General informations upon our dataset"
   ]
  },
  {
   "cell_type": "markdown",
   "metadata": {},
   "source": [
    "For our study, we will use the GBD databank to obtain datasets on various cancer types and associated mortality, filtering by metrics, location, age, and sex from 1990 to 2019. This database was selected for its user-friendly interface that allows pre-download filtering, minimizing the need for preprocessing and avoiding dataset compatibility issues."
   ]
  },
  {
   "cell_type": "markdown",
   "metadata": {},
   "source": [
    "#### 1) Basic informations"
   ]
  },
  {
   "cell_type": "code",
   "execution_count": 4,
   "metadata": {},
   "outputs": [
    {
     "name": "stdout",
     "output_type": "stream",
     "text": [
      "Shape of the dataset: (348570, 16)\n",
      "\n",
      "Columns in the dataset: Index(['measure_id', 'measure_name', 'location_id', 'location_name', 'sex_id',\n",
      "       'sex_name', 'age_id', 'age_name', 'cause_id', 'cause_name', 'metric_id',\n",
      "       'metric_name', 'year', 'val', 'upper', 'lower'],\n",
      "      dtype='object')\n",
      "\n",
      "Data types of columns:\n",
      " measure_id         int64\n",
      "measure_name      object\n",
      "location_id        int64\n",
      "location_name     object\n",
      "sex_id             int64\n",
      "sex_name          object\n",
      "age_id             int64\n",
      "age_name          object\n",
      "cause_id           int64\n",
      "cause_name        object\n",
      "metric_id          int64\n",
      "metric_name       object\n",
      "year               int64\n",
      "val              float64\n",
      "upper            float64\n",
      "lower            float64\n",
      "dtype: object\n",
      "\n",
      "Number of unique values per feature:\n",
      " measure_id            6\n",
      "measure_name          6\n",
      "location_id           2\n",
      "location_name         2\n",
      "sex_id                2\n",
      "sex_name              2\n",
      "age_id               17\n",
      "age_name             17\n",
      "cause_id             10\n",
      "cause_name           10\n",
      "metric_id             3\n",
      "metric_name           3\n",
      "year                 30\n",
      "val              321553\n",
      "upper            321609\n",
      "lower            321605\n",
      "dtype: int64\n",
      "\n",
      "Unique values in each feature:\n",
      " measure_id                                      [1, 2, 3, 4, 5, 6]\n",
      "measure_name     [Deaths, DALYs (Disability-Adjusted Life Years...\n",
      "location_id                                             [94, 4743]\n",
      "location_name                        [Switzerland, European Union]\n",
      "sex_id                                                      [1, 2]\n",
      "sex_name                                            [Male, Female]\n",
      "age_id           [8, 9, 10, 11, 12, 13, 14, 15, 16, 17, 18, 19,...\n",
      "age_name         [15-19 years, 20-24 years, 25-29 years, 30-34 ...\n",
      "cause_id         [414, 417, 426, 429, 441, 465, 471, 477, 480, ...\n",
      "cause_name       [Stomach cancer, Liver cancer, Tracheal, bronc...\n",
      "metric_id                                                [1, 2, 3]\n",
      "metric_name                                [Number, Percent, Rate]\n",
      "year             [1992, 1991, 1990, 1993, 1994, 1995, 1998, 199...\n",
      "val              [0.1098472023599947, 0.1031936192341883, 0.000...\n",
      "upper            [0.147407433534562, 0.1342777596025871, 0.0009...\n",
      "lower            [0.0776775036957153, 0.0765327859711474, 0.000...\n",
      "dtype: object\n"
     ]
    }
   ],
   "source": [
    "# Display basic information about the dataset\n",
    "print(\"Shape of the dataset:\", data.shape)\n",
    "print(\"\\nColumns in the dataset:\", data.columns)\n",
    "print(\"\\nData types of columns:\\n\", data.dtypes)\n",
    "print(\"\\nNumber of unique values per feature:\\n\",data.nunique())\n",
    "print(\"\\nUnique values in each feature:\\n\",data.apply(lambda c : c.unique()))"
   ]
  },
  {
   "cell_type": "markdown",
   "metadata": {},
   "source": [
    "Features :\n",
    "\n",
    "Overall we have 16 columns corresponding to 10 features in this dataset, some features are coming in 2 columns, one with the ID and one with the name of the variable. \n",
    "\n",
    "* `measure_name`: It is the measure that `val`quantifies. Its values are : `Deaths`, `DALYs` (the number of years lost due to ill-health, disability, or early death), `YLDs`(the number of years lived with disability), `YLLs`(the number of years of life lost comapred to the expected life years), `Prevalence` (the proportion of cases in the population at a given time), `incidence` (the rate of occurrence of new cases).\n",
    "Notice that DALYs = YLDs + YLLs.\n",
    "* `location_name`: It is the place where the measure has been recorded. Here we have access to measures from Switzerland and the European Union.\n",
    "* `sex_name`: Male or Female.\n",
    "* `age_name`: Here this feature has a unique value `all ages`,then each row convey numbers including people of all ages.\n",
    "* `cause_name`: It is the disease for which we make measurement. Here we focus on ten cancer categories : Pancreatic, Ovarian, Kidney, Brain/Central nervous system, Thyroid, Stomach, Liver, Tracheal/Bronchus/Lung, Breast, Colon/rectum.\n",
    "* `metric name`: It the type of metric (the unit) of the measurement. Then `val` can be stated in absolute `Number`, in `Percent` of the population or in `Rate`(measure of the frequency with which the event occurs)\n",
    "* `year`: The year on which `val`is computed. It ranges from 1990 to 2019.\n",
    "* `val`: The value computed for a given cancer, it has a certain metric and describe a particular measure.\n",
    "* `upper`: the upper confidence interval of `val`.\n",
    "* `lower`: The lower confidence interval of `val`."
   ]
  },
  {
   "cell_type": "markdown",
   "metadata": {},
   "source": [
    "#### 2) What are the different types of cancer we'll be studying ?"
   ]
  },
  {
   "cell_type": "markdown",
   "metadata": {},
   "source": [
    "For our study, we decided to focus on 10 different types of cancer"
   ]
  },
  {
   "cell_type": "code",
   "execution_count": 5,
   "metadata": {},
   "outputs": [
    {
     "name": "stdout",
     "output_type": "stream",
     "text": [
      "Ids of the types of cancer in our dataset : [414 417 426 429 441 465 471 477 480 456]\n",
      "Names of the types of cancer in our dataset : ['Stomach cancer' 'Liver cancer' 'Tracheal, bronchus, and lung cancer'\n",
      " 'Breast cancer' 'Colon and rectum cancer' 'Ovarian cancer'\n",
      " 'Kidney cancer' 'Brain and central nervous system cancer'\n",
      " 'Thyroid cancer' 'Pancreatic cancer']\n"
     ]
    }
   ],
   "source": [
    "# Types of cancer - ids\n",
    "cause_ids = data['cause_id'].unique()\n",
    "print(f\"Ids of the types of cancer in our dataset : {cause_ids}\")\n",
    "\n",
    "cause_names = data['cause_name'].unique()\n",
    "print(f\"Names of the types of cancer in our dataset : {cause_names}\")"
   ]
  },
  {
   "cell_type": "markdown",
   "metadata": {},
   "source": [
    "#### 3) Assessment : How do we assess the impact of these cancers?"
   ]
  },
  {
   "cell_type": "code",
   "execution_count": 6,
   "metadata": {},
   "outputs": [
    {
     "name": "stdout",
     "output_type": "stream",
     "text": [
      "List of metrics for understanding cancer impact within our dataset: ['Deaths' 'DALYs (Disability-Adjusted Life Years)'\n",
      " 'YLDs (Years Lived with Disability)' 'YLLs (Years of Life Lost)'\n",
      " 'Prevalence' 'Incidence']\n"
     ]
    }
   ],
   "source": [
    "measure_names = data.measure_name.unique()\n",
    "print(f\"List of metrics for understanding cancer impact within our dataset: {measure_names}\")"
   ]
  },
  {
   "cell_type": "markdown",
   "metadata": {},
   "source": [
    "#### 4) What are the studied regions (geographical regions) ?"
   ]
  },
  {
   "cell_type": "code",
   "execution_count": 7,
   "metadata": {},
   "outputs": [
    {
     "name": "stdout",
     "output_type": "stream",
     "text": [
      "List of geographical regions we'll focus on in our study : ['Switzerland' 'European Union']\n"
     ]
    }
   ],
   "source": [
    "location_names = data.location_name.unique()\n",
    "print(f\"List of geographical regions we'll focus on in our study : {location_names}\")"
   ]
  },
  {
   "cell_type": "markdown",
   "metadata": {},
   "source": [
    "#### 5) What are the ages impacted by cancer ?"
   ]
  },
  {
   "cell_type": "code",
   "execution_count": 8,
   "metadata": {},
   "outputs": [
    {
     "name": "stdout",
     "output_type": "stream",
     "text": [
      "List of people's ages that are impacted by cancer : ['15-19 years' '20-24 years' '25-29 years' '30-34 years' '35-39 years'\n",
      " '40-44 years' '45-49 years' '50-54 years' '55-59 years' '60-64 years'\n",
      " '65-69 years' '70-74 years' '50-69 years' '25-49 years' '75+ years'\n",
      " '<5 years' '5-14 years']\n",
      "List of IDs people's ages that are impacted by cancer : [  8   9  10  11  12  13  14  15  16  17  18  19  25 206 234   1  23]\n"
     ]
    }
   ],
   "source": [
    "age_names = data.age_name.unique()\n",
    "print(f\"List of people's ages that are impacted by cancer : {age_names}\")\n",
    "\n",
    "age_ids = data.age_id.unique()\n",
    "print(f\"List of IDs people's ages that are impacted by cancer : {age_ids}\")"
   ]
  },
  {
   "cell_type": "markdown",
   "metadata": {},
   "source": [
    "## II - EDA"
   ]
  },
  {
   "cell_type": "markdown",
   "metadata": {},
   "source": [
    "#### 1) Check for Duplication"
   ]
  },
  {
   "cell_type": "code",
   "execution_count": 9,
   "metadata": {},
   "outputs": [],
   "source": [
    "#assert that there are no duplicated rows\n",
    "assert(data.drop_duplicates().shape == data.shape)"
   ]
  },
  {
   "cell_type": "code",
   "execution_count": 10,
   "metadata": {},
   "outputs": [
    {
     "data": {
      "text/plain": [
       "measure_id            6\n",
       "measure_name          6\n",
       "location_id           2\n",
       "location_name         2\n",
       "sex_id                2\n",
       "sex_name              2\n",
       "age_id               17\n",
       "age_name             17\n",
       "cause_id             10\n",
       "cause_name           10\n",
       "metric_id             3\n",
       "metric_name           3\n",
       "year                 30\n",
       "val              321553\n",
       "upper            321609\n",
       "lower            321605\n",
       "dtype: int64"
      ]
     },
     "execution_count": 10,
     "metadata": {},
     "output_type": "execute_result"
    }
   ],
   "source": [
    "data.nunique()"
   ]
  },
  {
   "cell_type": "markdown",
   "metadata": {},
   "source": [
    "#### 2) Missing Values Calculation"
   ]
  },
  {
   "cell_type": "code",
   "execution_count": 11,
   "metadata": {},
   "outputs": [
    {
     "data": {
      "text/plain": [
       "measure_id       0\n",
       "measure_name     0\n",
       "location_id      0\n",
       "location_name    0\n",
       "sex_id           0\n",
       "sex_name         0\n",
       "age_id           0\n",
       "age_name         0\n",
       "cause_id         0\n",
       "cause_name       0\n",
       "metric_id        0\n",
       "metric_name      0\n",
       "year             0\n",
       "val              0\n",
       "upper            0\n",
       "lower            0\n",
       "dtype: int64"
      ]
     },
     "execution_count": 11,
     "metadata": {},
     "output_type": "execute_result"
    }
   ],
   "source": [
    "data.isnull().sum()"
   ]
  },
  {
   "cell_type": "markdown",
   "metadata": {},
   "source": [
    "As we can see, in our dataset, there's no missing values."
   ]
  },
  {
   "cell_type": "markdown",
   "metadata": {},
   "source": [
    "#### 3) Organizing our data"
   ]
  },
  {
   "cell_type": "markdown",
   "metadata": {},
   "source": [
    "1) Sorting data : Upon reviewing the data, we recognized the potential benefits of organizing the information chronologically by year. This approach would enable us to systematically analyze the progression of cancer cases over time."
   ]
  },
  {
   "cell_type": "code",
   "execution_count": 12,
   "metadata": {},
   "outputs": [
    {
     "data": {
      "text/html": [
       "<div>\n",
       "<style scoped>\n",
       "    .dataframe tbody tr th:only-of-type {\n",
       "        vertical-align: middle;\n",
       "    }\n",
       "\n",
       "    .dataframe tbody tr th {\n",
       "        vertical-align: top;\n",
       "    }\n",
       "\n",
       "    .dataframe thead th {\n",
       "        text-align: right;\n",
       "    }\n",
       "</style>\n",
       "<table border=\"1\" class=\"dataframe\">\n",
       "  <thead>\n",
       "    <tr style=\"text-align: right;\">\n",
       "      <th></th>\n",
       "      <th>measure_id</th>\n",
       "      <th>measure_name</th>\n",
       "      <th>location_id</th>\n",
       "      <th>location_name</th>\n",
       "      <th>sex_id</th>\n",
       "      <th>sex_name</th>\n",
       "      <th>age_id</th>\n",
       "      <th>age_name</th>\n",
       "      <th>cause_id</th>\n",
       "      <th>cause_name</th>\n",
       "      <th>metric_id</th>\n",
       "      <th>metric_name</th>\n",
       "      <th>year</th>\n",
       "      <th>val</th>\n",
       "      <th>upper</th>\n",
       "      <th>lower</th>\n",
       "    </tr>\n",
       "  </thead>\n",
       "  <tbody>\n",
       "    <tr>\n",
       "      <th>277264</th>\n",
       "      <td>5</td>\n",
       "      <td>Prevalence</td>\n",
       "      <td>4743</td>\n",
       "      <td>European Union</td>\n",
       "      <td>2</td>\n",
       "      <td>Female</td>\n",
       "      <td>11</td>\n",
       "      <td>30-34 years</td>\n",
       "      <td>426</td>\n",
       "      <td>Tracheal, bronchus, and lung cancer</td>\n",
       "      <td>2</td>\n",
       "      <td>Percent</td>\n",
       "      <td>1990</td>\n",
       "      <td>0.000020</td>\n",
       "      <td>0.000022</td>\n",
       "      <td>0.000018</td>\n",
       "    </tr>\n",
       "    <tr>\n",
       "      <th>314555</th>\n",
       "      <td>6</td>\n",
       "      <td>Incidence</td>\n",
       "      <td>94</td>\n",
       "      <td>Switzerland</td>\n",
       "      <td>2</td>\n",
       "      <td>Female</td>\n",
       "      <td>25</td>\n",
       "      <td>50-69 years</td>\n",
       "      <td>471</td>\n",
       "      <td>Kidney cancer</td>\n",
       "      <td>3</td>\n",
       "      <td>Rate</td>\n",
       "      <td>1990</td>\n",
       "      <td>5.280548</td>\n",
       "      <td>6.157606</td>\n",
       "      <td>4.490293</td>\n",
       "    </tr>\n",
       "    <tr>\n",
       "      <th>314554</th>\n",
       "      <td>6</td>\n",
       "      <td>Incidence</td>\n",
       "      <td>94</td>\n",
       "      <td>Switzerland</td>\n",
       "      <td>1</td>\n",
       "      <td>Male</td>\n",
       "      <td>25</td>\n",
       "      <td>50-69 years</td>\n",
       "      <td>471</td>\n",
       "      <td>Kidney cancer</td>\n",
       "      <td>3</td>\n",
       "      <td>Rate</td>\n",
       "      <td>1990</td>\n",
       "      <td>17.371771</td>\n",
       "      <td>19.240313</td>\n",
       "      <td>15.491265</td>\n",
       "    </tr>\n",
       "    <tr>\n",
       "      <th>314553</th>\n",
       "      <td>6</td>\n",
       "      <td>Incidence</td>\n",
       "      <td>94</td>\n",
       "      <td>Switzerland</td>\n",
       "      <td>2</td>\n",
       "      <td>Female</td>\n",
       "      <td>25</td>\n",
       "      <td>50-69 years</td>\n",
       "      <td>471</td>\n",
       "      <td>Kidney cancer</td>\n",
       "      <td>2</td>\n",
       "      <td>Percent</td>\n",
       "      <td>1990</td>\n",
       "      <td>0.000012</td>\n",
       "      <td>0.000014</td>\n",
       "      <td>0.000010</td>\n",
       "    </tr>\n",
       "    <tr>\n",
       "      <th>314552</th>\n",
       "      <td>6</td>\n",
       "      <td>Incidence</td>\n",
       "      <td>94</td>\n",
       "      <td>Switzerland</td>\n",
       "      <td>1</td>\n",
       "      <td>Male</td>\n",
       "      <td>25</td>\n",
       "      <td>50-69 years</td>\n",
       "      <td>471</td>\n",
       "      <td>Kidney cancer</td>\n",
       "      <td>2</td>\n",
       "      <td>Percent</td>\n",
       "      <td>1990</td>\n",
       "      <td>0.000040</td>\n",
       "      <td>0.000047</td>\n",
       "      <td>0.000034</td>\n",
       "    </tr>\n",
       "    <tr>\n",
       "      <th>...</th>\n",
       "      <td>...</td>\n",
       "      <td>...</td>\n",
       "      <td>...</td>\n",
       "      <td>...</td>\n",
       "      <td>...</td>\n",
       "      <td>...</td>\n",
       "      <td>...</td>\n",
       "      <td>...</td>\n",
       "      <td>...</td>\n",
       "      <td>...</td>\n",
       "      <td>...</td>\n",
       "      <td>...</td>\n",
       "      <td>...</td>\n",
       "      <td>...</td>\n",
       "      <td>...</td>\n",
       "      <td>...</td>\n",
       "    </tr>\n",
       "    <tr>\n",
       "      <th>313825</th>\n",
       "      <td>6</td>\n",
       "      <td>Incidence</td>\n",
       "      <td>94</td>\n",
       "      <td>Switzerland</td>\n",
       "      <td>2</td>\n",
       "      <td>Female</td>\n",
       "      <td>16</td>\n",
       "      <td>55-59 years</td>\n",
       "      <td>471</td>\n",
       "      <td>Kidney cancer</td>\n",
       "      <td>1</td>\n",
       "      <td>Number</td>\n",
       "      <td>2019</td>\n",
       "      <td>23.121214</td>\n",
       "      <td>36.859334</td>\n",
       "      <td>13.595088</td>\n",
       "    </tr>\n",
       "    <tr>\n",
       "      <th>313824</th>\n",
       "      <td>6</td>\n",
       "      <td>Incidence</td>\n",
       "      <td>94</td>\n",
       "      <td>Switzerland</td>\n",
       "      <td>1</td>\n",
       "      <td>Male</td>\n",
       "      <td>16</td>\n",
       "      <td>55-59 years</td>\n",
       "      <td>471</td>\n",
       "      <td>Kidney cancer</td>\n",
       "      <td>1</td>\n",
       "      <td>Number</td>\n",
       "      <td>2019</td>\n",
       "      <td>56.763051</td>\n",
       "      <td>87.684218</td>\n",
       "      <td>33.706138</td>\n",
       "    </tr>\n",
       "    <tr>\n",
       "      <th>313787</th>\n",
       "      <td>6</td>\n",
       "      <td>Incidence</td>\n",
       "      <td>94</td>\n",
       "      <td>Switzerland</td>\n",
       "      <td>2</td>\n",
       "      <td>Female</td>\n",
       "      <td>234</td>\n",
       "      <td>75+ years</td>\n",
       "      <td>426</td>\n",
       "      <td>Tracheal, bronchus, and lung cancer</td>\n",
       "      <td>3</td>\n",
       "      <td>Rate</td>\n",
       "      <td>2019</td>\n",
       "      <td>132.116089</td>\n",
       "      <td>168.583689</td>\n",
       "      <td>98.126053</td>\n",
       "    </tr>\n",
       "    <tr>\n",
       "      <th>314005</th>\n",
       "      <td>6</td>\n",
       "      <td>Incidence</td>\n",
       "      <td>94</td>\n",
       "      <td>Switzerland</td>\n",
       "      <td>2</td>\n",
       "      <td>Female</td>\n",
       "      <td>17</td>\n",
       "      <td>60-64 years</td>\n",
       "      <td>471</td>\n",
       "      <td>Kidney cancer</td>\n",
       "      <td>1</td>\n",
       "      <td>Number</td>\n",
       "      <td>2019</td>\n",
       "      <td>32.223622</td>\n",
       "      <td>50.805569</td>\n",
       "      <td>19.762338</td>\n",
       "    </tr>\n",
       "    <tr>\n",
       "      <th>348569</th>\n",
       "      <td>6</td>\n",
       "      <td>Incidence</td>\n",
       "      <td>4743</td>\n",
       "      <td>European Union</td>\n",
       "      <td>2</td>\n",
       "      <td>Female</td>\n",
       "      <td>206</td>\n",
       "      <td>25-49 years</td>\n",
       "      <td>477</td>\n",
       "      <td>Brain and central nervous system cancer</td>\n",
       "      <td>3</td>\n",
       "      <td>Rate</td>\n",
       "      <td>2019</td>\n",
       "      <td>5.460701</td>\n",
       "      <td>7.067124</td>\n",
       "      <td>3.200432</td>\n",
       "    </tr>\n",
       "  </tbody>\n",
       "</table>\n",
       "<p>348570 rows × 16 columns</p>\n",
       "</div>"
      ],
      "text/plain": [
       "        measure_id measure_name  location_id   location_name  sex_id sex_name  \\\n",
       "277264           5   Prevalence         4743  European Union       2   Female   \n",
       "314555           6    Incidence           94     Switzerland       2   Female   \n",
       "314554           6    Incidence           94     Switzerland       1     Male   \n",
       "314553           6    Incidence           94     Switzerland       2   Female   \n",
       "314552           6    Incidence           94     Switzerland       1     Male   \n",
       "...            ...          ...          ...             ...     ...      ...   \n",
       "313825           6    Incidence           94     Switzerland       2   Female   \n",
       "313824           6    Incidence           94     Switzerland       1     Male   \n",
       "313787           6    Incidence           94     Switzerland       2   Female   \n",
       "314005           6    Incidence           94     Switzerland       2   Female   \n",
       "348569           6    Incidence         4743  European Union       2   Female   \n",
       "\n",
       "        age_id     age_name  cause_id  \\\n",
       "277264      11  30-34 years       426   \n",
       "314555      25  50-69 years       471   \n",
       "314554      25  50-69 years       471   \n",
       "314553      25  50-69 years       471   \n",
       "314552      25  50-69 years       471   \n",
       "...        ...          ...       ...   \n",
       "313825      16  55-59 years       471   \n",
       "313824      16  55-59 years       471   \n",
       "313787     234    75+ years       426   \n",
       "314005      17  60-64 years       471   \n",
       "348569     206  25-49 years       477   \n",
       "\n",
       "                                     cause_name  metric_id metric_name  year  \\\n",
       "277264      Tracheal, bronchus, and lung cancer          2     Percent  1990   \n",
       "314555                            Kidney cancer          3        Rate  1990   \n",
       "314554                            Kidney cancer          3        Rate  1990   \n",
       "314553                            Kidney cancer          2     Percent  1990   \n",
       "314552                            Kidney cancer          2     Percent  1990   \n",
       "...                                         ...        ...         ...   ...   \n",
       "313825                            Kidney cancer          1      Number  2019   \n",
       "313824                            Kidney cancer          1      Number  2019   \n",
       "313787      Tracheal, bronchus, and lung cancer          3        Rate  2019   \n",
       "314005                            Kidney cancer          1      Number  2019   \n",
       "348569  Brain and central nervous system cancer          3        Rate  2019   \n",
       "\n",
       "               val       upper      lower  \n",
       "277264    0.000020    0.000022   0.000018  \n",
       "314555    5.280548    6.157606   4.490293  \n",
       "314554   17.371771   19.240313  15.491265  \n",
       "314553    0.000012    0.000014   0.000010  \n",
       "314552    0.000040    0.000047   0.000034  \n",
       "...            ...         ...        ...  \n",
       "313825   23.121214   36.859334  13.595088  \n",
       "313824   56.763051   87.684218  33.706138  \n",
       "313787  132.116089  168.583689  98.126053  \n",
       "314005   32.223622   50.805569  19.762338  \n",
       "348569    5.460701    7.067124   3.200432  \n",
       "\n",
       "[348570 rows x 16 columns]"
      ]
     },
     "execution_count": 12,
     "metadata": {},
     "output_type": "execute_result"
    }
   ],
   "source": [
    "data = data.sort_values(by='year')\n",
    "data"
   ]
  },
  {
   "cell_type": "markdown",
   "metadata": {},
   "source": [
    "2. Subdivide datasets and save"
   ]
  },
  {
   "cell_type": "code",
   "execution_count": 13,
   "metadata": {},
   "outputs": [],
   "source": [
    "for name in data.cause_name.unique():\n",
    "    data[data.cause_name==name].to_csv(f'data/by_{name.replace(\" \",\"_\")}.csv')\n",
    "\n",
    "for name in data.metric_name.unique():\n",
    "    data[data.metric_name==name].to_csv(f'data/by_{name}.csv')"
   ]
  },
  {
   "cell_type": "code",
   "execution_count": 14,
   "metadata": {},
   "outputs": [],
   "source": [
    "data_rate = pd.read_csv('data/by_Rate.csv')\n",
    "data_number = pd.read_csv('data/by_Number.csv')\n",
    "data_percent = pd.read_csv('data/by_Percent.csv')"
   ]
  },
  {
   "cell_type": "markdown",
   "metadata": {},
   "source": [
    "#### 4) Our study\n",
    "\n",
    "Our study aims to uncover patterns between various cancer types and their impact on populations in Switzerland and the European Union.\n",
    "\n",
    "We will undertake analyses utilizing a range of indicators provided by the GBD databank to gain insights into how cancers affect individuals' lives. As stated previously these indicators include:\n",
    "\n",
    "- **`Deaths`**: The number of deaths within a population over a specific period.\n",
    "- **`DALYs (Disability-adjusted life years)`**: A measure combining years of life lost due to premature death and years lived with a disability, reflecting total years of healthy life lost.\n",
    "- **`YLDs (Years Lived with Disability)`**: The total time spent living with any health loss, adjusted by severity.\n",
    "- **`YLLs (Years of Life Lost)`**: The years lost due to premature death.\n",
    "- **`Prevalence`**: The proportion of individuals in a population who have a disease or its sequelae at a specific time.\n",
    "- **`Incidence`**: The count of new disease cases within a certain time frame in a specified population."
   ]
  },
  {
   "cell_type": "code",
   "execution_count": 16,
   "metadata": {},
   "outputs": [
    {
     "data": {
      "text/plain": [
       "array(['Prevalence', 'Incidence', 'YLLs (Years of Life Lost)',\n",
       "       'YLDs (Years Lived with Disability)',\n",
       "       'DALYs (Disability-Adjusted Life Years)', 'Deaths'], dtype=object)"
      ]
     },
     "execution_count": 16,
     "metadata": {},
     "output_type": "execute_result"
    }
   ],
   "source": [
    "data.measure_name.unique()"
   ]
  },
  {
   "cell_type": "markdown",
   "metadata": {},
   "source": [
    "Thanks to these metrics, our analysis will strive to address key questions:\n",
    "\n",
    "1) How have cancer cases changed over time within the studied populations?\n",
    "2) What are the characteristics of the individuals affected by these cancers, including their origin (Switzerland or EU), sex, and age at death?"
   ]
  },
  {
   "cell_type": "markdown",
   "metadata": {},
   "source": [
    "##### A - Evolution of Cancer Cases Over Time"
   ]
  },
  {
   "cell_type": "markdown",
   "metadata": {},
   "source": [
    "**ANALYSIS 1 : average percentage of cancer deaths relative to deaths from all causes in both the European Union and Switzerland from 1990 to 2019**\n",
    "\n",
    "To track the progression of cancer cases, we initially considered it essential to understand the percentage of deaths due to cancer within the two populations. Consequently, we decided to analyze the average percentage of cancer deaths relative to deaths from all causes in both the European Union and Switzerland from 1990 to 2019."
   ]
  },
  {
   "cell_type": "code",
   "execution_count": 17,
   "metadata": {},
   "outputs": [],
   "source": [
    "colors = px.colors.qualitative.Bold"
   ]
  },
  {
   "cell_type": "code",
   "execution_count": 22,
   "metadata": {},
   "outputs": [
    {
     "data": {
      "application/vnd.plotly.v1+json": {
       "config": {
        "plotlyServerURL": "https://plot.ly"
       },
       "data": [
        {
         "line": {
          "color": "rgb(127, 60, 141)"
         },
         "name": "Female/European Union",
         "opacity": 1,
         "type": "scatter",
         "x": [
          1990,
          1991,
          1992,
          1993,
          1994,
          1995,
          1996,
          1997,
          1998,
          1999,
          2000,
          2001,
          2002,
          2003,
          2004,
          2005,
          2006,
          2007,
          2008,
          2009,
          2010,
          2011,
          2012,
          2013,
          2014,
          2015,
          2016,
          2017,
          2018,
          2019
         ],
         "y": [
          0.02231133333821451,
          0.02240293041649487,
          0.02252718427855782,
          0.022608493748180285,
          0.022693244274500392,
          0.02288483113297913,
          0.02311930792680713,
          0.023499180361431955,
          0.023865857211766036,
          0.024188359079828043,
          0.02464212360478253,
          0.024952402619243204,
          0.025300211602203297,
          0.02554523292400907,
          0.026007563295304674,
          0.02628065173766931,
          0.026624019365773084,
          0.026954837706364844,
          0.027285287116679414,
          0.027606164036434476,
          0.0278305928407169,
          0.028138955538948508,
          0.028370929194111005,
          0.028533444816305813,
          0.028666663900261506,
          0.028520967519066815,
          0.028565143353894755,
          0.028586819919209333,
          0.028598687673665878,
          0.028614184136202443
         ]
        },
        {
         "hoverinfo": "skip",
         "line": {
          "color": "rgb(127, 60, 141)",
          "width": 0.1
         },
         "mode": "lines",
         "showlegend": false,
         "type": "scatter",
         "x": [
          1990,
          1991,
          1992,
          1993,
          1994,
          1995,
          1996,
          1997,
          1998,
          1999,
          2000,
          2001,
          2002,
          2003,
          2004,
          2005,
          2006,
          2007,
          2008,
          2009,
          2010,
          2011,
          2012,
          2013,
          2014,
          2015,
          2016,
          2017,
          2018,
          2019
         ],
         "y": [
          0.020944098167524256,
          0.021056915477168644,
          0.021205905139457328,
          0.021296366617845775,
          0.021384201959333958,
          0.021573440243744555,
          0.0218045888198061,
          0.022160962083429464,
          0.022487979796002262,
          0.02276557306302057,
          0.02313785807565249,
          0.023383615279386556,
          0.023672459361081276,
          0.023861076088130508,
          0.024247099145289976,
          0.024465958336457334,
          0.02474718990061478,
          0.025021390904815623,
          0.025291102925615584,
          0.025544717585737377,
          0.025706803916887094,
          0.025956338167612215,
          0.026101845891016707,
          0.026199562806182092,
          0.02622491997008461,
          0.0260385901878258,
          0.025960086071015687,
          0.025842606084680246,
          0.025741062036431932,
          0.02563924654113245
         ]
        },
        {
         "fill": "tonexty",
         "hoverinfo": "skip",
         "line": {
          "color": "rgb(127, 60, 141)",
          "width": 0.1
         },
         "mode": "lines",
         "showlegend": false,
         "type": "scatter",
         "x": [
          1990,
          1991,
          1992,
          1993,
          1994,
          1995,
          1996,
          1997,
          1998,
          1999,
          2000,
          2001,
          2002,
          2003,
          2004,
          2005,
          2006,
          2007,
          2008,
          2009,
          2010,
          2011,
          2012,
          2013,
          2014,
          2015,
          2016,
          2017,
          2018,
          2019
         ],
         "y": [
          0.023641755424188254,
          0.023679580308929565,
          0.023762875140343438,
          0.023811591408746568,
          0.023856015614694664,
          0.02403131190713083,
          0.024215950577796932,
          0.024565482147073985,
          0.024908932186240695,
          0.025223389373509063,
          0.025657791964680744,
          0.025986246663023387,
          0.026355681615594418,
          0.026641842200909947,
          0.027126594842048386,
          0.027410415741201722,
          0.027798818807645963,
          0.028159758248580906,
          0.02852929248303155,
          0.028901799577048227,
          0.02915738860723025,
          0.02951593224670266,
          0.02982617994593001,
          0.030062505011006057,
          0.030316089391400857,
          0.030222013091498284,
          0.030411383313205576,
          0.030603962357051206,
          0.03077749058638421,
          0.03097542941958049
         ]
        },
        {
         "line": {
          "color": "rgb(17, 165, 121)"
         },
         "name": "Male/European Union",
         "opacity": 1,
         "type": "scatter",
         "x": [
          1990,
          1991,
          1992,
          1993,
          1994,
          1995,
          1996,
          1997,
          1998,
          1999,
          2000,
          2001,
          2002,
          2003,
          2004,
          2005,
          2006,
          2007,
          2008,
          2009,
          2010,
          2011,
          2012,
          2013,
          2014,
          2015,
          2016,
          2017,
          2018,
          2019
         ],
         "y": [
          0.015426092254087321,
          0.015429641049572704,
          0.015444426996588755,
          0.015444204568284853,
          0.015445781677696693,
          0.015522860978525328,
          0.01569089504765461,
          0.015919350884667078,
          0.016171474794737333,
          0.01642374682463925,
          0.01670062500615436,
          0.016865960382034143,
          0.017080687430736086,
          0.01725843660966253,
          0.01753904886936213,
          0.017718925806855232,
          0.017911995730322535,
          0.01810333471589356,
          0.018310212497796692,
          0.018538999887555373,
          0.01867732374802528,
          0.018814820501869556,
          0.018912660275752696,
          0.01899321562830864,
          0.019027306806905273,
          0.019021106979880548,
          0.018961224955204872,
          0.019009497474244994,
          0.019031708500218368,
          0.01906525765811992
         ]
        },
        {
         "hoverinfo": "skip",
         "line": {
          "color": "rgb(17, 165, 121)",
          "width": 0.1
         },
         "mode": "lines",
         "showlegend": false,
         "type": "scatter",
         "x": [
          1990,
          1991,
          1992,
          1993,
          1994,
          1995,
          1996,
          1997,
          1998,
          1999,
          2000,
          2001,
          2002,
          2003,
          2004,
          2005,
          2006,
          2007,
          2008,
          2009,
          2010,
          2011,
          2012,
          2013,
          2014,
          2015,
          2016,
          2017,
          2018,
          2019
         ],
         "y": [
          0.014663372199413518,
          0.014666623545310885,
          0.01467982146137071,
          0.014677539873551205,
          0.014674632206391654,
          0.014739491214806591,
          0.014896055832291187,
          0.015107407298170969,
          0.015333364313263067,
          0.01556204183476351,
          0.015782639361282057,
          0.015925253446664296,
          0.01610400311945861,
          0.016248696339207294,
          0.01647885808801507,
          0.01664074523715829,
          0.016793299273885995,
          0.016946773765876458,
          0.017104960314351443,
          0.017279063369721744,
          0.017362151133498607,
          0.017435938302911638,
          0.017481791440877595,
          0.017480564309724937,
          0.017398627756017013,
          0.017372523881883317,
          0.017186761608656412,
          0.01713268639417191,
          0.01707635972919835,
          0.0170092654720282
         ]
        },
        {
         "fill": "tonexty",
         "hoverinfo": "skip",
         "line": {
          "color": "rgb(17, 165, 121)",
          "width": 0.1
         },
         "mode": "lines",
         "showlegend": false,
         "type": "scatter",
         "x": [
          1990,
          1991,
          1992,
          1993,
          1994,
          1995,
          1996,
          1997,
          1998,
          1999,
          2000,
          2001,
          2002,
          2003,
          2004,
          2005,
          2006,
          2007,
          2008,
          2009,
          2010,
          2011,
          2012,
          2013,
          2014,
          2015,
          2016,
          2017,
          2018,
          2019
         ],
         "y": [
          0.01613583247942029,
          0.016120936421640933,
          0.016106298879414813,
          0.016090907146089985,
          0.016089126785999427,
          0.016157567601254044,
          0.016316557776358036,
          0.016546927908778347,
          0.01679074078202885,
          0.017046039025010295,
          0.017319194297123957,
          0.017489763755320114,
          0.017713977526482627,
          0.017909245066766524,
          0.018197122363767932,
          0.0183882101519013,
          0.0185885646771059,
          0.01879612147144734,
          0.01903246755981467,
          0.019292350857247634,
          0.019469541821079083,
          0.01966041806895774,
          0.01980017707193137,
          0.019945094714834452,
          0.020067980278662852,
          0.020093653280534817,
          0.02015701516151084,
          0.02033012751113877,
          0.020449819122341097,
          0.020584834349387002
         ]
        },
        {
         "line": {
          "color": "rgb(57, 105, 172)"
         },
         "name": "Female/Switzerland",
         "opacity": 1,
         "type": "scatter",
         "x": [
          1990,
          1991,
          1992,
          1993,
          1994,
          1995,
          1996,
          1997,
          1998,
          1999,
          2000,
          2001,
          2002,
          2003,
          2004,
          2005,
          2006,
          2007,
          2008,
          2009,
          2010,
          2011,
          2012,
          2013,
          2014,
          2015,
          2016,
          2017,
          2018,
          2019
         ],
         "y": [
          0.025423224890025426,
          0.025410681669695102,
          0.02533395880250818,
          0.025177895691334697,
          0.024704745377006183,
          0.024797242497934444,
          0.025256299641874418,
          0.025652962114362104,
          0.026368183031697856,
          0.02640299026248044,
          0.026331407803679208,
          0.02730317960820238,
          0.0277049672773519,
          0.028245592515246533,
          0.028733142226091374,
          0.02892744556024815,
          0.029246140401579652,
          0.02964332576763771,
          0.02996937875496334,
          0.030350822454539628,
          0.030419561309744703,
          0.030628281496806548,
          0.030596453972472258,
          0.030562754316450468,
          0.03049884650596473,
          0.03034789492746317,
          0.0303103656513678,
          0.030172432909345154,
          0.030142779529738827,
          0.030137741214442442
         ]
        },
        {
         "hoverinfo": "skip",
         "line": {
          "color": "rgb(57, 105, 172)",
          "width": 0.1
         },
         "mode": "lines",
         "showlegend": false,
         "type": "scatter",
         "x": [
          1990,
          1991,
          1992,
          1993,
          1994,
          1995,
          1996,
          1997,
          1998,
          1999,
          2000,
          2001,
          2002,
          2003,
          2004,
          2005,
          2006,
          2007,
          2008,
          2009,
          2010,
          2011,
          2012,
          2013,
          2014,
          2015,
          2016,
          2017,
          2018,
          2019
         ],
         "y": [
          0.022250737308840852,
          0.02222852252177874,
          0.022182310500512004,
          0.022072153923353287,
          0.02167274329129262,
          0.021800465226189187,
          0.02214102045547953,
          0.022393287584916925,
          0.022958390888193056,
          0.0229579735825029,
          0.022903041337069226,
          0.023659298792761806,
          0.023947992360104576,
          0.024387154339222904,
          0.024782035225645854,
          0.02491804461482439,
          0.025169560656985314,
          0.025462481421574933,
          0.025730555584519817,
          0.025988596875669318,
          0.026007358130317015,
          0.026144465189622407,
          0.02600639183713645,
          0.025819114035892803,
          0.02546625273037046,
          0.024932349403874333,
          0.024623862441643878,
          0.024155873624472347,
          0.023756181217528528,
          0.023437508315795025
         ]
        },
        {
         "fill": "tonexty",
         "hoverinfo": "skip",
         "line": {
          "color": "rgb(57, 105, 172)",
          "width": 0.1
         },
         "mode": "lines",
         "showlegend": false,
         "type": "scatter",
         "x": [
          1990,
          1991,
          1992,
          1993,
          1994,
          1995,
          1996,
          1997,
          1998,
          1999,
          2000,
          2001,
          2002,
          2003,
          2004,
          2005,
          2006,
          2007,
          2008,
          2009,
          2010,
          2011,
          2012,
          2013,
          2014,
          2015,
          2016,
          2017,
          2018,
          2019
         ],
         "y": [
          0.029562727133182976,
          0.029455834268402415,
          0.029281536607750118,
          0.029042384778990904,
          0.028481159197514927,
          0.028297163376396726,
          0.028677502984933528,
          0.02905723164270166,
          0.029859869407350952,
          0.02992379326180041,
          0.029897198827420257,
          0.030964234530155038,
          0.03144030467064718,
          0.03202927433379514,
          0.03266413271435631,
          0.03290540853816523,
          0.03325467163634897,
          0.03372288769507668,
          0.03410131974733563,
          0.034577823892477655,
          0.03472419617552094,
          0.035042646602960956,
          0.035113560676794706,
          0.035318073707234575,
          0.035629237905099094,
          0.03597555207358018,
          0.03629796498897235,
          0.036600249974411275,
          0.03706619978855112,
          0.0374882370687369
         ]
        },
        {
         "line": {
          "color": "rgb(242, 183, 1)"
         },
         "name": "Male/Switzerland",
         "opacity": 1,
         "type": "scatter",
         "x": [
          1990,
          1991,
          1992,
          1993,
          1994,
          1995,
          1996,
          1997,
          1998,
          1999,
          2000,
          2001,
          2002,
          2003,
          2004,
          2005,
          2006,
          2007,
          2008,
          2009,
          2010,
          2011,
          2012,
          2013,
          2014,
          2015,
          2016,
          2017,
          2018,
          2019
         ],
         "y": [
          0.01663106649883685,
          0.016660909188874935,
          0.016664501073557644,
          0.016694281236205505,
          0.016858818001258567,
          0.016547736169137458,
          0.016848410390369564,
          0.017261145740225196,
          0.017557140399841895,
          0.017694090219981876,
          0.01795905502513491,
          0.01808480878285322,
          0.01832557912869969,
          0.018518166212701956,
          0.01879392214535261,
          0.019019051540370067,
          0.019239345819602575,
          0.019585022800044004,
          0.019772461889235315,
          0.019901311941656875,
          0.020057195581246735,
          0.020184673273673688,
          0.020191948754915645,
          0.020355398136390826,
          0.020457451524118313,
          0.020351515959435143,
          0.02031932387357049,
          0.020219170333635784,
          0.020160622775590813,
          0.020214460253290566
         ]
        },
        {
         "hoverinfo": "skip",
         "line": {
          "color": "rgb(242, 183, 1)",
          "width": 0.1
         },
         "mode": "lines",
         "showlegend": false,
         "type": "scatter",
         "x": [
          1990,
          1991,
          1992,
          1993,
          1994,
          1995,
          1996,
          1997,
          1998,
          1999,
          2000,
          2001,
          2002,
          2003,
          2004,
          2005,
          2006,
          2007,
          2008,
          2009,
          2010,
          2011,
          2012,
          2013,
          2014,
          2015,
          2016,
          2017,
          2018,
          2019
         ],
         "y": [
          0.014772107498336011,
          0.014811184699025136,
          0.014823730070606325,
          0.014855205361221754,
          0.014996886650055627,
          0.014745198084343429,
          0.014967044257836098,
          0.015280216771692723,
          0.015464667120227312,
          0.01554058844794399,
          0.015769176660216853,
          0.01585793856197288,
          0.016041058770655505,
          0.0161928389801322,
          0.016407964578024133,
          0.016604026155111713,
          0.016735835904833466,
          0.016992784899422433,
          0.017091632476498107,
          0.017141606278423677,
          0.01716166726580715,
          0.017167173449029086,
          0.017034624305174068,
          0.017029804262926253,
          0.016809937957021747,
          0.0164680836324426,
          0.016135427633571058,
          0.01580606185024956,
          0.015533574631643775,
          0.015370008091294888
         ]
        },
        {
         "fill": "tonexty",
         "hoverinfo": "skip",
         "line": {
          "color": "rgb(242, 183, 1)",
          "width": 0.1
         },
         "mode": "lines",
         "showlegend": false,
         "type": "scatter",
         "x": [
          1990,
          1991,
          1992,
          1993,
          1994,
          1995,
          1996,
          1997,
          1998,
          1999,
          2000,
          2001,
          2002,
          2003,
          2004,
          2005,
          2006,
          2007,
          2008,
          2009,
          2010,
          2011,
          2012,
          2013,
          2014,
          2015,
          2016,
          2017,
          2018,
          2019
         ],
         "y": [
          0.01919405540668908,
          0.019182201828546793,
          0.019129099012042503,
          0.019102800199415463,
          0.019223074907313016,
          0.018653471448550212,
          0.018951654550516214,
          0.019383567380063978,
          0.019710160231973816,
          0.019865937559828534,
          0.020170940023839137,
          0.02032459622982479,
          0.020611956752085332,
          0.02084877885261569,
          0.02118420928048257,
          0.02145061050316711,
          0.021719747780266474,
          0.022130968031146003,
          0.02236177628832812,
          0.022536205203939574,
          0.022808644034044045,
          0.023025894106099454,
          0.023143900426433238,
          0.02348662673591926,
          0.02386084126183771,
          0.024032473276447384,
          0.024390542956377513,
          0.024647319370957765,
          0.02491561042934123,
          0.025321066390697027
         ]
        }
       ],
       "layout": {
        "hovermode": "x unified",
        "template": {
         "data": {
          "bar": [
           {
            "error_x": {
             "color": "#2a3f5f"
            },
            "error_y": {
             "color": "#2a3f5f"
            },
            "marker": {
             "line": {
              "color": "#E5ECF6",
              "width": 0.5
             },
             "pattern": {
              "fillmode": "overlay",
              "size": 10,
              "solidity": 0.2
             }
            },
            "type": "bar"
           }
          ],
          "barpolar": [
           {
            "marker": {
             "line": {
              "color": "#E5ECF6",
              "width": 0.5
             },
             "pattern": {
              "fillmode": "overlay",
              "size": 10,
              "solidity": 0.2
             }
            },
            "type": "barpolar"
           }
          ],
          "carpet": [
           {
            "aaxis": {
             "endlinecolor": "#2a3f5f",
             "gridcolor": "white",
             "linecolor": "white",
             "minorgridcolor": "white",
             "startlinecolor": "#2a3f5f"
            },
            "baxis": {
             "endlinecolor": "#2a3f5f",
             "gridcolor": "white",
             "linecolor": "white",
             "minorgridcolor": "white",
             "startlinecolor": "#2a3f5f"
            },
            "type": "carpet"
           }
          ],
          "choropleth": [
           {
            "colorbar": {
             "outlinewidth": 0,
             "ticks": ""
            },
            "type": "choropleth"
           }
          ],
          "contour": [
           {
            "colorbar": {
             "outlinewidth": 0,
             "ticks": ""
            },
            "colorscale": [
             [
              0,
              "#0d0887"
             ],
             [
              0.1111111111111111,
              "#46039f"
             ],
             [
              0.2222222222222222,
              "#7201a8"
             ],
             [
              0.3333333333333333,
              "#9c179e"
             ],
             [
              0.4444444444444444,
              "#bd3786"
             ],
             [
              0.5555555555555556,
              "#d8576b"
             ],
             [
              0.6666666666666666,
              "#ed7953"
             ],
             [
              0.7777777777777778,
              "#fb9f3a"
             ],
             [
              0.8888888888888888,
              "#fdca26"
             ],
             [
              1,
              "#f0f921"
             ]
            ],
            "type": "contour"
           }
          ],
          "contourcarpet": [
           {
            "colorbar": {
             "outlinewidth": 0,
             "ticks": ""
            },
            "type": "contourcarpet"
           }
          ],
          "heatmap": [
           {
            "colorbar": {
             "outlinewidth": 0,
             "ticks": ""
            },
            "colorscale": [
             [
              0,
              "#0d0887"
             ],
             [
              0.1111111111111111,
              "#46039f"
             ],
             [
              0.2222222222222222,
              "#7201a8"
             ],
             [
              0.3333333333333333,
              "#9c179e"
             ],
             [
              0.4444444444444444,
              "#bd3786"
             ],
             [
              0.5555555555555556,
              "#d8576b"
             ],
             [
              0.6666666666666666,
              "#ed7953"
             ],
             [
              0.7777777777777778,
              "#fb9f3a"
             ],
             [
              0.8888888888888888,
              "#fdca26"
             ],
             [
              1,
              "#f0f921"
             ]
            ],
            "type": "heatmap"
           }
          ],
          "heatmapgl": [
           {
            "colorbar": {
             "outlinewidth": 0,
             "ticks": ""
            },
            "colorscale": [
             [
              0,
              "#0d0887"
             ],
             [
              0.1111111111111111,
              "#46039f"
             ],
             [
              0.2222222222222222,
              "#7201a8"
             ],
             [
              0.3333333333333333,
              "#9c179e"
             ],
             [
              0.4444444444444444,
              "#bd3786"
             ],
             [
              0.5555555555555556,
              "#d8576b"
             ],
             [
              0.6666666666666666,
              "#ed7953"
             ],
             [
              0.7777777777777778,
              "#fb9f3a"
             ],
             [
              0.8888888888888888,
              "#fdca26"
             ],
             [
              1,
              "#f0f921"
             ]
            ],
            "type": "heatmapgl"
           }
          ],
          "histogram": [
           {
            "marker": {
             "pattern": {
              "fillmode": "overlay",
              "size": 10,
              "solidity": 0.2
             }
            },
            "type": "histogram"
           }
          ],
          "histogram2d": [
           {
            "colorbar": {
             "outlinewidth": 0,
             "ticks": ""
            },
            "colorscale": [
             [
              0,
              "#0d0887"
             ],
             [
              0.1111111111111111,
              "#46039f"
             ],
             [
              0.2222222222222222,
              "#7201a8"
             ],
             [
              0.3333333333333333,
              "#9c179e"
             ],
             [
              0.4444444444444444,
              "#bd3786"
             ],
             [
              0.5555555555555556,
              "#d8576b"
             ],
             [
              0.6666666666666666,
              "#ed7953"
             ],
             [
              0.7777777777777778,
              "#fb9f3a"
             ],
             [
              0.8888888888888888,
              "#fdca26"
             ],
             [
              1,
              "#f0f921"
             ]
            ],
            "type": "histogram2d"
           }
          ],
          "histogram2dcontour": [
           {
            "colorbar": {
             "outlinewidth": 0,
             "ticks": ""
            },
            "colorscale": [
             [
              0,
              "#0d0887"
             ],
             [
              0.1111111111111111,
              "#46039f"
             ],
             [
              0.2222222222222222,
              "#7201a8"
             ],
             [
              0.3333333333333333,
              "#9c179e"
             ],
             [
              0.4444444444444444,
              "#bd3786"
             ],
             [
              0.5555555555555556,
              "#d8576b"
             ],
             [
              0.6666666666666666,
              "#ed7953"
             ],
             [
              0.7777777777777778,
              "#fb9f3a"
             ],
             [
              0.8888888888888888,
              "#fdca26"
             ],
             [
              1,
              "#f0f921"
             ]
            ],
            "type": "histogram2dcontour"
           }
          ],
          "mesh3d": [
           {
            "colorbar": {
             "outlinewidth": 0,
             "ticks": ""
            },
            "type": "mesh3d"
           }
          ],
          "parcoords": [
           {
            "line": {
             "colorbar": {
              "outlinewidth": 0,
              "ticks": ""
             }
            },
            "type": "parcoords"
           }
          ],
          "pie": [
           {
            "automargin": true,
            "type": "pie"
           }
          ],
          "scatter": [
           {
            "fillpattern": {
             "fillmode": "overlay",
             "size": 10,
             "solidity": 0.2
            },
            "type": "scatter"
           }
          ],
          "scatter3d": [
           {
            "line": {
             "colorbar": {
              "outlinewidth": 0,
              "ticks": ""
             }
            },
            "marker": {
             "colorbar": {
              "outlinewidth": 0,
              "ticks": ""
             }
            },
            "type": "scatter3d"
           }
          ],
          "scattercarpet": [
           {
            "marker": {
             "colorbar": {
              "outlinewidth": 0,
              "ticks": ""
             }
            },
            "type": "scattercarpet"
           }
          ],
          "scattergeo": [
           {
            "marker": {
             "colorbar": {
              "outlinewidth": 0,
              "ticks": ""
             }
            },
            "type": "scattergeo"
           }
          ],
          "scattergl": [
           {
            "marker": {
             "colorbar": {
              "outlinewidth": 0,
              "ticks": ""
             }
            },
            "type": "scattergl"
           }
          ],
          "scattermapbox": [
           {
            "marker": {
             "colorbar": {
              "outlinewidth": 0,
              "ticks": ""
             }
            },
            "type": "scattermapbox"
           }
          ],
          "scatterpolar": [
           {
            "marker": {
             "colorbar": {
              "outlinewidth": 0,
              "ticks": ""
             }
            },
            "type": "scatterpolar"
           }
          ],
          "scatterpolargl": [
           {
            "marker": {
             "colorbar": {
              "outlinewidth": 0,
              "ticks": ""
             }
            },
            "type": "scatterpolargl"
           }
          ],
          "scatterternary": [
           {
            "marker": {
             "colorbar": {
              "outlinewidth": 0,
              "ticks": ""
             }
            },
            "type": "scatterternary"
           }
          ],
          "surface": [
           {
            "colorbar": {
             "outlinewidth": 0,
             "ticks": ""
            },
            "colorscale": [
             [
              0,
              "#0d0887"
             ],
             [
              0.1111111111111111,
              "#46039f"
             ],
             [
              0.2222222222222222,
              "#7201a8"
             ],
             [
              0.3333333333333333,
              "#9c179e"
             ],
             [
              0.4444444444444444,
              "#bd3786"
             ],
             [
              0.5555555555555556,
              "#d8576b"
             ],
             [
              0.6666666666666666,
              "#ed7953"
             ],
             [
              0.7777777777777778,
              "#fb9f3a"
             ],
             [
              0.8888888888888888,
              "#fdca26"
             ],
             [
              1,
              "#f0f921"
             ]
            ],
            "type": "surface"
           }
          ],
          "table": [
           {
            "cells": {
             "fill": {
              "color": "#EBF0F8"
             },
             "line": {
              "color": "white"
             }
            },
            "header": {
             "fill": {
              "color": "#C8D4E3"
             },
             "line": {
              "color": "white"
             }
            },
            "type": "table"
           }
          ]
         },
         "layout": {
          "annotationdefaults": {
           "arrowcolor": "#2a3f5f",
           "arrowhead": 0,
           "arrowwidth": 1
          },
          "autotypenumbers": "strict",
          "coloraxis": {
           "colorbar": {
            "outlinewidth": 0,
            "ticks": ""
           }
          },
          "colorscale": {
           "diverging": [
            [
             0,
             "#8e0152"
            ],
            [
             0.1,
             "#c51b7d"
            ],
            [
             0.2,
             "#de77ae"
            ],
            [
             0.3,
             "#f1b6da"
            ],
            [
             0.4,
             "#fde0ef"
            ],
            [
             0.5,
             "#f7f7f7"
            ],
            [
             0.6,
             "#e6f5d0"
            ],
            [
             0.7,
             "#b8e186"
            ],
            [
             0.8,
             "#7fbc41"
            ],
            [
             0.9,
             "#4d9221"
            ],
            [
             1,
             "#276419"
            ]
           ],
           "sequential": [
            [
             0,
             "#0d0887"
            ],
            [
             0.1111111111111111,
             "#46039f"
            ],
            [
             0.2222222222222222,
             "#7201a8"
            ],
            [
             0.3333333333333333,
             "#9c179e"
            ],
            [
             0.4444444444444444,
             "#bd3786"
            ],
            [
             0.5555555555555556,
             "#d8576b"
            ],
            [
             0.6666666666666666,
             "#ed7953"
            ],
            [
             0.7777777777777778,
             "#fb9f3a"
            ],
            [
             0.8888888888888888,
             "#fdca26"
            ],
            [
             1,
             "#f0f921"
            ]
           ],
           "sequentialminus": [
            [
             0,
             "#0d0887"
            ],
            [
             0.1111111111111111,
             "#46039f"
            ],
            [
             0.2222222222222222,
             "#7201a8"
            ],
            [
             0.3333333333333333,
             "#9c179e"
            ],
            [
             0.4444444444444444,
             "#bd3786"
            ],
            [
             0.5555555555555556,
             "#d8576b"
            ],
            [
             0.6666666666666666,
             "#ed7953"
            ],
            [
             0.7777777777777778,
             "#fb9f3a"
            ],
            [
             0.8888888888888888,
             "#fdca26"
            ],
            [
             1,
             "#f0f921"
            ]
           ]
          },
          "colorway": [
           "#636efa",
           "#EF553B",
           "#00cc96",
           "#ab63fa",
           "#FFA15A",
           "#19d3f3",
           "#FF6692",
           "#B6E880",
           "#FF97FF",
           "#FECB52"
          ],
          "font": {
           "color": "#2a3f5f"
          },
          "geo": {
           "bgcolor": "white",
           "lakecolor": "white",
           "landcolor": "#E5ECF6",
           "showlakes": true,
           "showland": true,
           "subunitcolor": "white"
          },
          "hoverlabel": {
           "align": "left"
          },
          "hovermode": "closest",
          "mapbox": {
           "style": "light"
          },
          "paper_bgcolor": "white",
          "plot_bgcolor": "#E5ECF6",
          "polar": {
           "angularaxis": {
            "gridcolor": "white",
            "linecolor": "white",
            "ticks": ""
           },
           "bgcolor": "#E5ECF6",
           "radialaxis": {
            "gridcolor": "white",
            "linecolor": "white",
            "ticks": ""
           }
          },
          "scene": {
           "xaxis": {
            "backgroundcolor": "#E5ECF6",
            "gridcolor": "white",
            "gridwidth": 2,
            "linecolor": "white",
            "showbackground": true,
            "ticks": "",
            "zerolinecolor": "white"
           },
           "yaxis": {
            "backgroundcolor": "#E5ECF6",
            "gridcolor": "white",
            "gridwidth": 2,
            "linecolor": "white",
            "showbackground": true,
            "ticks": "",
            "zerolinecolor": "white"
           },
           "zaxis": {
            "backgroundcolor": "#E5ECF6",
            "gridcolor": "white",
            "gridwidth": 2,
            "linecolor": "white",
            "showbackground": true,
            "ticks": "",
            "zerolinecolor": "white"
           }
          },
          "shapedefaults": {
           "line": {
            "color": "#2a3f5f"
           }
          },
          "ternary": {
           "aaxis": {
            "gridcolor": "white",
            "linecolor": "white",
            "ticks": ""
           },
           "baxis": {
            "gridcolor": "white",
            "linecolor": "white",
            "ticks": ""
           },
           "bgcolor": "#E5ECF6",
           "caxis": {
            "gridcolor": "white",
            "linecolor": "white",
            "ticks": ""
           }
          },
          "title": {
           "x": 0.05
          },
          "xaxis": {
           "automargin": true,
           "gridcolor": "white",
           "linecolor": "white",
           "ticks": "",
           "title": {
            "standoff": 15
           },
           "zerolinecolor": "white",
           "zerolinewidth": 2
          },
          "yaxis": {
           "automargin": true,
           "gridcolor": "white",
           "linecolor": "white",
           "ticks": "",
           "title": {
            "standoff": 15
           },
           "zerolinecolor": "white",
           "zerolinewidth": 2
          }
         }
        },
        "title": {
         "text": "Mean proportion of deaths caused by cancer diseases (in general) from 1990 to 2019"
        },
        "xaxis": {
         "title": {
          "text": "Year"
         }
        },
        "yaxis": {
         "title": {
          "text": "Percent out of all death causes"
         }
        }
       }
      }
     },
     "metadata": {},
     "output_type": "display_data"
    }
   ],
   "source": [
    "fig = go.Figure()\n",
    "i=0\n",
    "for location, group_l in data_percent[data_percent.measure_name=='Deaths'].groupby(['location_name','sex_name','year'])[['val','lower','upper']].mean().reset_index().groupby('location_name'):\n",
    "    for sex, group_s in group_l.groupby('sex_name'):\n",
    "        fig.add_trace(go.Scatter(x=group_s['year'], y=group_s['val'], name=f'{sex}/{location}' ,line_color=colors[i],opacity=1))\n",
    "        fig.add_trace(go.Scatter(x=group_s['year'], y=group_s['lower'], fill=None, mode='lines',hoverinfo='skip',line_color=colors[i],line_width=0.1,showlegend=False))\n",
    "        fig.add_trace(go.Scatter(x=group_s['year'], y=group_s['upper'], fill='tonexty', mode='lines',hoverinfo='skip',line_color=colors[i],line_width=0.1,showlegend=False))\n",
    "        i+=1\n",
    "fig.update_xaxes(title_text=\"Year\")\n",
    "fig.update_yaxes(title_text=\"Percent out of all death causes\")\n",
    "fig.update_layout(hovermode='x unified', title='Mean proportion of deaths caused by cancer diseases (in general) from 1990 to 2019')\n",
    "fig.show()"
   ]
  },
  {
   "cell_type": "markdown",
   "metadata": {},
   "source": [
    "From the above graph, we can observe the following:\n",
    "\n",
    "- For both regions (EU and Switzerland), the mean percentage of deaths due to cancer diseases has been consistently higher for females than for males throughout the years. This could suggest that women are at a higher risk of dying from cancer or that certain cancers affecting women are more lethal. On the other hand it also suggests that men are more likely to die because of other causes.\n",
    "\n",
    "- There's an apparent increasing trend in the mean percentage of cancer deaths over time for all groups. This could indicate not only an aging population but also a better reporting and diagnosis over time.\n",
    "\n",
    "- The mean percentage of deaths due to cancer in Switzerland for both genders is consistently higher than in the European Union. However note that the confidence intervals for Switzerland data covers the ones from EU. Suggesting that the diffence is maybe only due to our sample and is not significant in truth."
   ]
  },
  {
   "cell_type": "markdown",
   "metadata": {},
   "source": [
    "**ANALYSIS 2 : Percentage of deaths caused by Kidney Cancer in both the European Union and Switzerland from 1990 to 2019**\n",
    "\n",
    "Out of curiosity, we thought it might be insightful to examine the proportion of deaths attributed to kidney cancer. In future work we will investigate each type."
   ]
  },
  {
   "cell_type": "code",
   "execution_count": 23,
   "metadata": {},
   "outputs": [
    {
     "data": {
      "application/vnd.plotly.v1+json": {
       "config": {
        "plotlyServerURL": "https://plot.ly"
       },
       "data": [
        {
         "line": {
          "color": "rgb(127, 60, 141)"
         },
         "name": "Female/European Union",
         "opacity": 1,
         "type": "scatter",
         "x": [
          1990,
          1991,
          1992,
          1993,
          1994,
          1995,
          1996,
          1997,
          1998,
          1999,
          2000,
          2001,
          2002,
          2003,
          2004,
          2005,
          2006,
          2007,
          2008,
          2009,
          2010,
          2011,
          2012,
          2013,
          2014,
          2015,
          2016,
          2017,
          2018,
          2019
         ],
         "y": [
          0.004369781745601812,
          0.0044402213014563,
          0.00454337012764883,
          0.004613059231083659,
          0.004701607403104929,
          0.004766775047155206,
          0.004857152793360912,
          0.005032346164832771,
          0.005217730915869183,
          0.0053891312647899705,
          0.005529704975459283,
          0.0056224222221244475,
          0.0057016138693595005,
          0.005788732394309659,
          0.005942261439181559,
          0.006027241585932395,
          0.006101928311206065,
          0.006159821429016888,
          0.006250296587005653,
          0.006345901146224823,
          0.0064541924016072,
          0.006542388117227858,
          0.006619933150213912,
          0.0066840694799249825,
          0.006733511591465452,
          0.006723777650126036,
          0.006785506711518764,
          0.006848155231676853,
          0.006885857024142205,
          0.006929284990042724
         ]
        },
        {
         "hoverinfo": "skip",
         "line": {
          "color": "rgb(127, 60, 141)",
          "width": 0.1
         },
         "mode": "lines",
         "showlegend": false,
         "type": "scatter",
         "x": [
          1990,
          1991,
          1992,
          1993,
          1994,
          1995,
          1996,
          1997,
          1998,
          1999,
          2000,
          2001,
          2002,
          2003,
          2004,
          2005,
          2006,
          2007,
          2008,
          2009,
          2010,
          2011,
          2012,
          2013,
          2014,
          2015,
          2016,
          2017,
          2018,
          2019
         ],
         "y": [
          0.004093772359017347,
          0.004159761312152647,
          0.004267072057433012,
          0.004334037527078342,
          0.004423512977098947,
          0.004486161308475777,
          0.00458600954436843,
          0.004757678364306753,
          0.0049422447366112825,
          0.005105382367770923,
          0.005242691994187899,
          0.005328773662752659,
          0.005400036058989983,
          0.005478302357727342,
          0.0056263130380068,
          0.005707020121444871,
          0.005771687153382012,
          0.005824575735630635,
          0.005909452693088541,
          0.005994223180664276,
          0.006086763209488053,
          0.006158900003858059,
          0.0062238458135525825,
          0.0062686136393325055,
          0.006285353990521718,
          0.006261644321397141,
          0.006284375624329188,
          0.006298702407981047,
          0.006305780325548458,
          0.0063159913350828
         ]
        },
        {
         "fill": "tonexty",
         "hoverinfo": "skip",
         "line": {
          "color": "rgb(127, 60, 141)",
          "width": 0.1
         },
         "mode": "lines",
         "showlegend": false,
         "type": "scatter",
         "x": [
          1990,
          1991,
          1992,
          1993,
          1994,
          1995,
          1996,
          1997,
          1998,
          1999,
          2000,
          2001,
          2002,
          2003,
          2004,
          2005,
          2006,
          2007,
          2008,
          2009,
          2010,
          2011,
          2012,
          2013,
          2014,
          2015,
          2016,
          2017,
          2018,
          2019
         ],
         "y": [
          0.004666032218135741,
          0.004735364138964306,
          0.004838306370428153,
          0.004909362175712241,
          0.0049901033796943,
          0.005053190136190324,
          0.005137151798073671,
          0.005317554299604271,
          0.0055041332128801645,
          0.005680249708791124,
          0.005819660908008789,
          0.005916879006308129,
          0.006002909636489094,
          0.0061059560478997355,
          0.006256310725139018,
          0.006349063524532029,
          0.006434024111828241,
          0.006496374127724194,
          0.0065984986327963764,
          0.006703047176538676,
          0.0068202538711196765,
          0.0069197927152010175,
          0.007014136993347347,
          0.007090348615619912,
          0.007170735218574858,
          0.0071775598884420595,
          0.007282898604173212,
          0.007393827827141012,
          0.007480695292211276,
          0.007564438793753418
         ]
        },
        {
         "line": {
          "color": "rgb(17, 165, 121)"
         },
         "name": "Male/European Union",
         "opacity": 1,
         "type": "scatter",
         "x": [
          1990,
          1991,
          1992,
          1993,
          1994,
          1995,
          1996,
          1997,
          1998,
          1999,
          2000,
          2001,
          2002,
          2003,
          2004,
          2005,
          2006,
          2007,
          2008,
          2009,
          2010,
          2011,
          2012,
          2013,
          2014,
          2015,
          2016,
          2017,
          2018,
          2019
         ],
         "y": [
          0.004622381710249195,
          0.00470116105313373,
          0.004794603488594453,
          0.004910235824041742,
          0.0050155463059321295,
          0.005088688563039352,
          0.005243881415617936,
          0.005458392529326829,
          0.005670562957831535,
          0.005879094379434059,
          0.006047863711902606,
          0.006132061753156688,
          0.006283659743503305,
          0.006439756829690006,
          0.006624937626593142,
          0.006763658453268753,
          0.006906779999694906,
          0.007038750290723906,
          0.0071957654832618,
          0.0073586523613545065,
          0.00753478911666336,
          0.007685558884818518,
          0.007812250046701206,
          0.007948389544671147,
          0.00805595391228724,
          0.008101143958959217,
          0.00815238074285683,
          0.008205244571515028,
          0.008280264472216359,
          0.008354780802902853
         ]
        },
        {
         "hoverinfo": "skip",
         "line": {
          "color": "rgb(17, 165, 121)",
          "width": 0.1
         },
         "mode": "lines",
         "showlegend": false,
         "type": "scatter",
         "x": [
          1990,
          1991,
          1992,
          1993,
          1994,
          1995,
          1996,
          1997,
          1998,
          1999,
          2000,
          2001,
          2002,
          2003,
          2004,
          2005,
          2006,
          2007,
          2008,
          2009,
          2010,
          2011,
          2012,
          2013,
          2014,
          2015,
          2016,
          2017,
          2018,
          2019
         ],
         "y": [
          0.004389004072494982,
          0.004463231827000553,
          0.004558034579503694,
          0.004667792154585536,
          0.0047776038667912,
          0.004853172608139788,
          0.005013847371403565,
          0.005229684357325288,
          0.005437004827787206,
          0.005639497835177364,
          0.005803549866882835,
          0.005886976782180571,
          0.006035356653312682,
          0.00617563826045077,
          0.006357405109430382,
          0.0064911196999478645,
          0.006624666165614211,
          0.006742645063281323,
          0.006892483259852082,
          0.007048671488491306,
          0.007215790171198765,
          0.007351100815766882,
          0.007464683070903283,
          0.007576022596639206,
          0.007645386329483093,
          0.007674730066181724,
          0.007685168842004517,
          0.007688775856811088,
          0.007712992937870623,
          0.0077385780812030645
         ]
        },
        {
         "fill": "tonexty",
         "hoverinfo": "skip",
         "line": {
          "color": "rgb(17, 165, 121)",
          "width": 0.1
         },
         "mode": "lines",
         "showlegend": false,
         "type": "scatter",
         "x": [
          1990,
          1991,
          1992,
          1993,
          1994,
          1995,
          1996,
          1997,
          1998,
          1999,
          2000,
          2001,
          2002,
          2003,
          2004,
          2005,
          2006,
          2007,
          2008,
          2009,
          2010,
          2011,
          2012,
          2013,
          2014,
          2015,
          2016,
          2017,
          2018,
          2019
         ],
         "y": [
          0.004872115446184641,
          0.004952059532409518,
          0.005038989154797618,
          0.005154531859980771,
          0.005257137079123047,
          0.005322884878298788,
          0.005475890078967606,
          0.0056906054809076415,
          0.0059042280190553876,
          0.0061227649238229,
          0.006296777406014647,
          0.006382204209538548,
          0.006541155853421558,
          0.006713386478772441,
          0.006901233214365077,
          0.007038517034185847,
          0.007192534318763623,
          0.007333108126856153,
          0.007499588829097229,
          0.007671470528499077,
          0.00785870019145787,
          0.008025240090737224,
          0.008162962793542694,
          0.008322044398107107,
          0.008476800091808753,
          0.00853895656475593,
          0.008650102110523418,
          0.008756145831100624,
          0.008878940733883612,
          0.009009292134579594
         ]
        },
        {
         "line": {
          "color": "rgb(57, 105, 172)"
         },
         "name": "Female/Switzerland",
         "opacity": 1,
         "type": "scatter",
         "x": [
          1990,
          1991,
          1992,
          1993,
          1994,
          1995,
          1996,
          1997,
          1998,
          1999,
          2000,
          2001,
          2002,
          2003,
          2004,
          2005,
          2006,
          2007,
          2008,
          2009,
          2010,
          2011,
          2012,
          2013,
          2014,
          2015,
          2016,
          2017,
          2018,
          2019
         ],
         "y": [
          0.0022757261101860413,
          0.002462095189095565,
          0.0026635343704875646,
          0.002908727296899253,
          0.0031577873033304176,
          0.0037384530919116524,
          0.004202073798691082,
          0.004512205864885865,
          0.004831220302534106,
          0.0049858891017659996,
          0.004919988444878112,
          0.005220325614618524,
          0.005313707354958606,
          0.0054351799995826,
          0.005567607456250518,
          0.005673938275190688,
          0.005719144776892735,
          0.005702096569691853,
          0.0057105316655737355,
          0.005622789016453529,
          0.005610522271652977,
          0.005634556554406012,
          0.005658083178682823,
          0.00569275338994083,
          0.005681678549187517,
          0.005742931784719789,
          0.0056758873128332585,
          0.005719045668735694,
          0.005768606180573406,
          0.005813092903601565
         ]
        },
        {
         "hoverinfo": "skip",
         "line": {
          "color": "rgb(57, 105, 172)",
          "width": 0.1
         },
         "mode": "lines",
         "showlegend": false,
         "type": "scatter",
         "x": [
          1990,
          1991,
          1992,
          1993,
          1994,
          1995,
          1996,
          1997,
          1998,
          1999,
          2000,
          2001,
          2002,
          2003,
          2004,
          2005,
          2006,
          2007,
          2008,
          2009,
          2010,
          2011,
          2012,
          2013,
          2014,
          2015,
          2016,
          2017,
          2018,
          2019
         ],
         "y": [
          0.0017389031252060352,
          0.001899152492846794,
          0.0020725313360416,
          0.0022728860691294175,
          0.0024765173709041235,
          0.002949812105688406,
          0.0033371359653289996,
          0.0036066881175013826,
          0.0038605110312517,
          0.003988419443257595,
          0.0039183798529353,
          0.004167599448380953,
          0.004232950039223982,
          0.004333971264162201,
          0.004434401525225753,
          0.004528598693215117,
          0.004566881569704529,
          0.0045432684448397,
          0.004536931596956229,
          0.004440556115547071,
          0.004416857627219582,
          0.004409552959269353,
          0.004380395485256947,
          0.004361721625811994,
          0.0042978799168770995,
          0.004244700212019164,
          0.004116270948651053,
          0.004072499918643783,
          0.004047921353625783,
          0.004023924471553435
         ]
        },
        {
         "fill": "tonexty",
         "hoverinfo": "skip",
         "line": {
          "color": "rgb(57, 105, 172)",
          "width": 0.1
         },
         "mode": "lines",
         "showlegend": false,
         "type": "scatter",
         "x": [
          1990,
          1991,
          1992,
          1993,
          1994,
          1995,
          1996,
          1997,
          1998,
          1999,
          2000,
          2001,
          2002,
          2003,
          2004,
          2005,
          2006,
          2007,
          2008,
          2009,
          2010,
          2011,
          2012,
          2013,
          2014,
          2015,
          2016,
          2017,
          2018,
          2019
         ],
         "y": [
          0.002921997835514335,
          0.003141239604840194,
          0.003388820197850547,
          0.0036859018784033823,
          0.003986807957677853,
          0.004679338538479246,
          0.0052370895532127945,
          0.005629326205894142,
          0.005995860996072576,
          0.006175936420136965,
          0.006136386684321989,
          0.00650401433909983,
          0.006618845380417641,
          0.006755343259034647,
          0.006905593193686576,
          0.007025524343508376,
          0.007090396095335141,
          0.007090538321016171,
          0.007115926906626224,
          0.007027451811981882,
          0.007068572998132476,
          0.007136997564610847,
          0.0072025154018075235,
          0.007307600495443683,
          0.007380831262375841,
          0.007581600633856589,
          0.007590729237445141,
          0.007790361383848752,
          0.007935223579135411,
          0.008114202534986747
         ]
        },
        {
         "line": {
          "color": "rgb(242, 183, 1)"
         },
         "name": "Male/Switzerland",
         "opacity": 1,
         "type": "scatter",
         "x": [
          1990,
          1991,
          1992,
          1993,
          1994,
          1995,
          1996,
          1997,
          1998,
          1999,
          2000,
          2001,
          2002,
          2003,
          2004,
          2005,
          2006,
          2007,
          2008,
          2009,
          2010,
          2011,
          2012,
          2013,
          2014,
          2015,
          2016,
          2017,
          2018,
          2019
         ],
         "y": [
          0.003300118389880953,
          0.0036133631406563825,
          0.00394096812489263,
          0.00430758896634133,
          0.004720148091103606,
          0.005294853977055553,
          0.005754319363238547,
          0.006010489534145112,
          0.006324977146954053,
          0.006602985513983512,
          0.0067634733833777765,
          0.0068227719171299,
          0.007009298981604565,
          0.007126569607764865,
          0.0072410864617342766,
          0.007367630035454594,
          0.007512296379870782,
          0.007619813253553829,
          0.007745345598006094,
          0.007744268320659183,
          0.007742473656511188,
          0.00794097669154549,
          0.007943964295016606,
          0.00797818920185617,
          0.007902999215106218,
          0.007840490881261352,
          0.007820766261462806,
          0.0078770088192064,
          0.007961106205505754,
          0.00805668302042627
         ]
        },
        {
         "hoverinfo": "skip",
         "line": {
          "color": "rgb(242, 183, 1)",
          "width": 0.1
         },
         "mode": "lines",
         "showlegend": false,
         "type": "scatter",
         "x": [
          1990,
          1991,
          1992,
          1993,
          1994,
          1995,
          1996,
          1997,
          1998,
          1999,
          2000,
          2001,
          2002,
          2003,
          2004,
          2005,
          2006,
          2007,
          2008,
          2009,
          2010,
          2011,
          2012,
          2013,
          2014,
          2015,
          2016,
          2017,
          2018,
          2019
         ],
         "y": [
          0.0026954265885829527,
          0.002981400672089394,
          0.0032757317912300056,
          0.003597166252390529,
          0.003960435213896576,
          0.004472212296498912,
          0.004872154351730405,
          0.005102874588354518,
          0.005341633590121182,
          0.005576220406908241,
          0.005706796210836853,
          0.005749518860161277,
          0.005907593106839195,
          0.00599302507331597,
          0.006090198168735606,
          0.006200079368216653,
          0.006316026366246371,
          0.006417584088926377,
          0.006520253337779164,
          0.006503768009332194,
          0.006482139682342277,
          0.006640442840144565,
          0.006620778219344112,
          0.0065830373632227235,
          0.006416643194543058,
          0.006279277854000377,
          0.006141911047476459,
          0.006055243877384582,
          0.006004761219006606,
          0.005964262847702495
         ]
        },
        {
         "fill": "tonexty",
         "hoverinfo": "skip",
         "line": {
          "color": "rgb(242, 183, 1)",
          "width": 0.1
         },
         "mode": "lines",
         "showlegend": false,
         "type": "scatter",
         "x": [
          1990,
          1991,
          1992,
          1993,
          1994,
          1995,
          1996,
          1997,
          1998,
          1999,
          2000,
          2001,
          2002,
          2003,
          2004,
          2005,
          2006,
          2007,
          2008,
          2009,
          2010,
          2011,
          2012,
          2013,
          2014,
          2015,
          2016,
          2017,
          2018,
          2019
         ],
         "y": [
          0.004004076026497211,
          0.0043591745533364595,
          0.004740725562502188,
          0.005164792217688823,
          0.005620916501989629,
          0.006257287003451871,
          0.006794451107373735,
          0.0070848169009532355,
          0.007450062635203834,
          0.007778214129681789,
          0.007982688979326158,
          0.008060231590067194,
          0.008277059867463419,
          0.008447735707808976,
          0.008579741959936158,
          0.00872802177484473,
          0.008879273975686683,
          0.009012106582239606,
          0.009164700255166977,
          0.009168998275702434,
          0.00922702274044073,
          0.00949430681605743,
          0.009524037136853219,
          0.009650115038664017,
          0.009659105378369894,
          0.009742034211038687,
          0.009916037469052135,
          0.010141654786063613,
          0.01038441526495513,
          0.01066379896699066
         ]
        }
       ],
       "layout": {
        "hovermode": "x unified",
        "template": {
         "data": {
          "bar": [
           {
            "error_x": {
             "color": "#2a3f5f"
            },
            "error_y": {
             "color": "#2a3f5f"
            },
            "marker": {
             "line": {
              "color": "#E5ECF6",
              "width": 0.5
             },
             "pattern": {
              "fillmode": "overlay",
              "size": 10,
              "solidity": 0.2
             }
            },
            "type": "bar"
           }
          ],
          "barpolar": [
           {
            "marker": {
             "line": {
              "color": "#E5ECF6",
              "width": 0.5
             },
             "pattern": {
              "fillmode": "overlay",
              "size": 10,
              "solidity": 0.2
             }
            },
            "type": "barpolar"
           }
          ],
          "carpet": [
           {
            "aaxis": {
             "endlinecolor": "#2a3f5f",
             "gridcolor": "white",
             "linecolor": "white",
             "minorgridcolor": "white",
             "startlinecolor": "#2a3f5f"
            },
            "baxis": {
             "endlinecolor": "#2a3f5f",
             "gridcolor": "white",
             "linecolor": "white",
             "minorgridcolor": "white",
             "startlinecolor": "#2a3f5f"
            },
            "type": "carpet"
           }
          ],
          "choropleth": [
           {
            "colorbar": {
             "outlinewidth": 0,
             "ticks": ""
            },
            "type": "choropleth"
           }
          ],
          "contour": [
           {
            "colorbar": {
             "outlinewidth": 0,
             "ticks": ""
            },
            "colorscale": [
             [
              0,
              "#0d0887"
             ],
             [
              0.1111111111111111,
              "#46039f"
             ],
             [
              0.2222222222222222,
              "#7201a8"
             ],
             [
              0.3333333333333333,
              "#9c179e"
             ],
             [
              0.4444444444444444,
              "#bd3786"
             ],
             [
              0.5555555555555556,
              "#d8576b"
             ],
             [
              0.6666666666666666,
              "#ed7953"
             ],
             [
              0.7777777777777778,
              "#fb9f3a"
             ],
             [
              0.8888888888888888,
              "#fdca26"
             ],
             [
              1,
              "#f0f921"
             ]
            ],
            "type": "contour"
           }
          ],
          "contourcarpet": [
           {
            "colorbar": {
             "outlinewidth": 0,
             "ticks": ""
            },
            "type": "contourcarpet"
           }
          ],
          "heatmap": [
           {
            "colorbar": {
             "outlinewidth": 0,
             "ticks": ""
            },
            "colorscale": [
             [
              0,
              "#0d0887"
             ],
             [
              0.1111111111111111,
              "#46039f"
             ],
             [
              0.2222222222222222,
              "#7201a8"
             ],
             [
              0.3333333333333333,
              "#9c179e"
             ],
             [
              0.4444444444444444,
              "#bd3786"
             ],
             [
              0.5555555555555556,
              "#d8576b"
             ],
             [
              0.6666666666666666,
              "#ed7953"
             ],
             [
              0.7777777777777778,
              "#fb9f3a"
             ],
             [
              0.8888888888888888,
              "#fdca26"
             ],
             [
              1,
              "#f0f921"
             ]
            ],
            "type": "heatmap"
           }
          ],
          "heatmapgl": [
           {
            "colorbar": {
             "outlinewidth": 0,
             "ticks": ""
            },
            "colorscale": [
             [
              0,
              "#0d0887"
             ],
             [
              0.1111111111111111,
              "#46039f"
             ],
             [
              0.2222222222222222,
              "#7201a8"
             ],
             [
              0.3333333333333333,
              "#9c179e"
             ],
             [
              0.4444444444444444,
              "#bd3786"
             ],
             [
              0.5555555555555556,
              "#d8576b"
             ],
             [
              0.6666666666666666,
              "#ed7953"
             ],
             [
              0.7777777777777778,
              "#fb9f3a"
             ],
             [
              0.8888888888888888,
              "#fdca26"
             ],
             [
              1,
              "#f0f921"
             ]
            ],
            "type": "heatmapgl"
           }
          ],
          "histogram": [
           {
            "marker": {
             "pattern": {
              "fillmode": "overlay",
              "size": 10,
              "solidity": 0.2
             }
            },
            "type": "histogram"
           }
          ],
          "histogram2d": [
           {
            "colorbar": {
             "outlinewidth": 0,
             "ticks": ""
            },
            "colorscale": [
             [
              0,
              "#0d0887"
             ],
             [
              0.1111111111111111,
              "#46039f"
             ],
             [
              0.2222222222222222,
              "#7201a8"
             ],
             [
              0.3333333333333333,
              "#9c179e"
             ],
             [
              0.4444444444444444,
              "#bd3786"
             ],
             [
              0.5555555555555556,
              "#d8576b"
             ],
             [
              0.6666666666666666,
              "#ed7953"
             ],
             [
              0.7777777777777778,
              "#fb9f3a"
             ],
             [
              0.8888888888888888,
              "#fdca26"
             ],
             [
              1,
              "#f0f921"
             ]
            ],
            "type": "histogram2d"
           }
          ],
          "histogram2dcontour": [
           {
            "colorbar": {
             "outlinewidth": 0,
             "ticks": ""
            },
            "colorscale": [
             [
              0,
              "#0d0887"
             ],
             [
              0.1111111111111111,
              "#46039f"
             ],
             [
              0.2222222222222222,
              "#7201a8"
             ],
             [
              0.3333333333333333,
              "#9c179e"
             ],
             [
              0.4444444444444444,
              "#bd3786"
             ],
             [
              0.5555555555555556,
              "#d8576b"
             ],
             [
              0.6666666666666666,
              "#ed7953"
             ],
             [
              0.7777777777777778,
              "#fb9f3a"
             ],
             [
              0.8888888888888888,
              "#fdca26"
             ],
             [
              1,
              "#f0f921"
             ]
            ],
            "type": "histogram2dcontour"
           }
          ],
          "mesh3d": [
           {
            "colorbar": {
             "outlinewidth": 0,
             "ticks": ""
            },
            "type": "mesh3d"
           }
          ],
          "parcoords": [
           {
            "line": {
             "colorbar": {
              "outlinewidth": 0,
              "ticks": ""
             }
            },
            "type": "parcoords"
           }
          ],
          "pie": [
           {
            "automargin": true,
            "type": "pie"
           }
          ],
          "scatter": [
           {
            "fillpattern": {
             "fillmode": "overlay",
             "size": 10,
             "solidity": 0.2
            },
            "type": "scatter"
           }
          ],
          "scatter3d": [
           {
            "line": {
             "colorbar": {
              "outlinewidth": 0,
              "ticks": ""
             }
            },
            "marker": {
             "colorbar": {
              "outlinewidth": 0,
              "ticks": ""
             }
            },
            "type": "scatter3d"
           }
          ],
          "scattercarpet": [
           {
            "marker": {
             "colorbar": {
              "outlinewidth": 0,
              "ticks": ""
             }
            },
            "type": "scattercarpet"
           }
          ],
          "scattergeo": [
           {
            "marker": {
             "colorbar": {
              "outlinewidth": 0,
              "ticks": ""
             }
            },
            "type": "scattergeo"
           }
          ],
          "scattergl": [
           {
            "marker": {
             "colorbar": {
              "outlinewidth": 0,
              "ticks": ""
             }
            },
            "type": "scattergl"
           }
          ],
          "scattermapbox": [
           {
            "marker": {
             "colorbar": {
              "outlinewidth": 0,
              "ticks": ""
             }
            },
            "type": "scattermapbox"
           }
          ],
          "scatterpolar": [
           {
            "marker": {
             "colorbar": {
              "outlinewidth": 0,
              "ticks": ""
             }
            },
            "type": "scatterpolar"
           }
          ],
          "scatterpolargl": [
           {
            "marker": {
             "colorbar": {
              "outlinewidth": 0,
              "ticks": ""
             }
            },
            "type": "scatterpolargl"
           }
          ],
          "scatterternary": [
           {
            "marker": {
             "colorbar": {
              "outlinewidth": 0,
              "ticks": ""
             }
            },
            "type": "scatterternary"
           }
          ],
          "surface": [
           {
            "colorbar": {
             "outlinewidth": 0,
             "ticks": ""
            },
            "colorscale": [
             [
              0,
              "#0d0887"
             ],
             [
              0.1111111111111111,
              "#46039f"
             ],
             [
              0.2222222222222222,
              "#7201a8"
             ],
             [
              0.3333333333333333,
              "#9c179e"
             ],
             [
              0.4444444444444444,
              "#bd3786"
             ],
             [
              0.5555555555555556,
              "#d8576b"
             ],
             [
              0.6666666666666666,
              "#ed7953"
             ],
             [
              0.7777777777777778,
              "#fb9f3a"
             ],
             [
              0.8888888888888888,
              "#fdca26"
             ],
             [
              1,
              "#f0f921"
             ]
            ],
            "type": "surface"
           }
          ],
          "table": [
           {
            "cells": {
             "fill": {
              "color": "#EBF0F8"
             },
             "line": {
              "color": "white"
             }
            },
            "header": {
             "fill": {
              "color": "#C8D4E3"
             },
             "line": {
              "color": "white"
             }
            },
            "type": "table"
           }
          ]
         },
         "layout": {
          "annotationdefaults": {
           "arrowcolor": "#2a3f5f",
           "arrowhead": 0,
           "arrowwidth": 1
          },
          "autotypenumbers": "strict",
          "coloraxis": {
           "colorbar": {
            "outlinewidth": 0,
            "ticks": ""
           }
          },
          "colorscale": {
           "diverging": [
            [
             0,
             "#8e0152"
            ],
            [
             0.1,
             "#c51b7d"
            ],
            [
             0.2,
             "#de77ae"
            ],
            [
             0.3,
             "#f1b6da"
            ],
            [
             0.4,
             "#fde0ef"
            ],
            [
             0.5,
             "#f7f7f7"
            ],
            [
             0.6,
             "#e6f5d0"
            ],
            [
             0.7,
             "#b8e186"
            ],
            [
             0.8,
             "#7fbc41"
            ],
            [
             0.9,
             "#4d9221"
            ],
            [
             1,
             "#276419"
            ]
           ],
           "sequential": [
            [
             0,
             "#0d0887"
            ],
            [
             0.1111111111111111,
             "#46039f"
            ],
            [
             0.2222222222222222,
             "#7201a8"
            ],
            [
             0.3333333333333333,
             "#9c179e"
            ],
            [
             0.4444444444444444,
             "#bd3786"
            ],
            [
             0.5555555555555556,
             "#d8576b"
            ],
            [
             0.6666666666666666,
             "#ed7953"
            ],
            [
             0.7777777777777778,
             "#fb9f3a"
            ],
            [
             0.8888888888888888,
             "#fdca26"
            ],
            [
             1,
             "#f0f921"
            ]
           ],
           "sequentialminus": [
            [
             0,
             "#0d0887"
            ],
            [
             0.1111111111111111,
             "#46039f"
            ],
            [
             0.2222222222222222,
             "#7201a8"
            ],
            [
             0.3333333333333333,
             "#9c179e"
            ],
            [
             0.4444444444444444,
             "#bd3786"
            ],
            [
             0.5555555555555556,
             "#d8576b"
            ],
            [
             0.6666666666666666,
             "#ed7953"
            ],
            [
             0.7777777777777778,
             "#fb9f3a"
            ],
            [
             0.8888888888888888,
             "#fdca26"
            ],
            [
             1,
             "#f0f921"
            ]
           ]
          },
          "colorway": [
           "#636efa",
           "#EF553B",
           "#00cc96",
           "#ab63fa",
           "#FFA15A",
           "#19d3f3",
           "#FF6692",
           "#B6E880",
           "#FF97FF",
           "#FECB52"
          ],
          "font": {
           "color": "#2a3f5f"
          },
          "geo": {
           "bgcolor": "white",
           "lakecolor": "white",
           "landcolor": "#E5ECF6",
           "showlakes": true,
           "showland": true,
           "subunitcolor": "white"
          },
          "hoverlabel": {
           "align": "left"
          },
          "hovermode": "closest",
          "mapbox": {
           "style": "light"
          },
          "paper_bgcolor": "white",
          "plot_bgcolor": "#E5ECF6",
          "polar": {
           "angularaxis": {
            "gridcolor": "white",
            "linecolor": "white",
            "ticks": ""
           },
           "bgcolor": "#E5ECF6",
           "radialaxis": {
            "gridcolor": "white",
            "linecolor": "white",
            "ticks": ""
           }
          },
          "scene": {
           "xaxis": {
            "backgroundcolor": "#E5ECF6",
            "gridcolor": "white",
            "gridwidth": 2,
            "linecolor": "white",
            "showbackground": true,
            "ticks": "",
            "zerolinecolor": "white"
           },
           "yaxis": {
            "backgroundcolor": "#E5ECF6",
            "gridcolor": "white",
            "gridwidth": 2,
            "linecolor": "white",
            "showbackground": true,
            "ticks": "",
            "zerolinecolor": "white"
           },
           "zaxis": {
            "backgroundcolor": "#E5ECF6",
            "gridcolor": "white",
            "gridwidth": 2,
            "linecolor": "white",
            "showbackground": true,
            "ticks": "",
            "zerolinecolor": "white"
           }
          },
          "shapedefaults": {
           "line": {
            "color": "#2a3f5f"
           }
          },
          "ternary": {
           "aaxis": {
            "gridcolor": "white",
            "linecolor": "white",
            "ticks": ""
           },
           "baxis": {
            "gridcolor": "white",
            "linecolor": "white",
            "ticks": ""
           },
           "bgcolor": "#E5ECF6",
           "caxis": {
            "gridcolor": "white",
            "linecolor": "white",
            "ticks": ""
           }
          },
          "title": {
           "x": 0.05
          },
          "xaxis": {
           "automargin": true,
           "gridcolor": "white",
           "linecolor": "white",
           "ticks": "",
           "title": {
            "standoff": 15
           },
           "zerolinecolor": "white",
           "zerolinewidth": 2
          },
          "yaxis": {
           "automargin": true,
           "gridcolor": "white",
           "linecolor": "white",
           "ticks": "",
           "title": {
            "standoff": 15
           },
           "zerolinecolor": "white",
           "zerolinewidth": 2
          }
         }
        },
        "title": {
         "text": "Proportion of deaths caused by Kidney cancer"
        },
        "xaxis": {
         "title": {
          "text": "Year"
         }
        },
        "yaxis": {
         "title": {
          "text": "Percent out of all death causes"
         }
        }
       }
      }
     },
     "metadata": {},
     "output_type": "display_data"
    }
   ],
   "source": [
    "fig = go.Figure()\n",
    "i=0\n",
    "for location, group_l in data_percent[(data_percent.measure_name=='Deaths') & (data_percent.cause_name=='Kidney cancer')].groupby(['location_name','sex_name','year'])[['val','lower','upper']].mean().reset_index().groupby('location_name'):\n",
    "    for sex, group_s in group_l.groupby('sex_name'):\n",
    "        fig.add_trace(go.Scatter(x=group_s['year'], y=group_s['val'], name=f'{sex}/{location}' ,line_color=colors[i],opacity=1))\n",
    "        fig.add_trace(go.Scatter(x=group_s['year'], y=group_s['lower'], fill=None, mode='lines',hoverinfo='skip',line_color=colors[i],line_width=0.1,showlegend=False))\n",
    "        fig.add_trace(go.Scatter(x=group_s['year'], y=group_s['upper'], fill='tonexty', mode='lines',hoverinfo='skip',line_color=colors[i],line_width=0.1,showlegend=False))\n",
    "        i+=1\n",
    "fig.update_xaxes(title_text=\"Year\")\n",
    "fig.update_yaxes(title_text=\"Percent out of all death causes\")\n",
    "fig.update_layout(hovermode='x unified', title='Proportion of deaths caused by Kidney cancer')\n",
    "fig.show()"
   ]
  },
  {
   "cell_type": "markdown",
   "metadata": {},
   "source": [
    "The graph displays a rising trend in kidney cancer mortality rates for both males and females in the European Union and Switzerland from 1990 to 2019, with males showing higher rates than females in both regions. "
   ]
  },
  {
   "cell_type": "markdown",
   "metadata": {},
   "source": [
    "**ANALYSIS 3 : YLLS (Years of Life Lost to premature death) in both the European Union and Switzerland from 1990 to 2019**\n",
    "\n",
    "It is also insightful to examine the YLLS (Years of Life Lost to premature death) attributed to cancer."
   ]
  },
  {
   "cell_type": "code",
   "execution_count": 28,
   "metadata": {},
   "outputs": [
    {
     "data": {
      "application/vnd.plotly.v1+json": {
       "config": {
        "plotlyServerURL": "https://plot.ly"
       },
       "data": [
        {
         "line": {
          "color": "rgb(127, 60, 141)"
         },
         "name": "Female/European Union",
         "opacity": 1,
         "type": "scatter",
         "x": [
          1990,
          1991,
          1992,
          1993,
          1994,
          1995,
          1996,
          1997,
          1998,
          1999,
          2000,
          2001,
          2002,
          2003,
          2004,
          2005,
          2006,
          2007,
          2008,
          2009,
          2010,
          2011,
          2012,
          2013,
          2014,
          2015,
          2016,
          2017,
          2018,
          2019
         ],
         "y": [
          410.9767521448647,
          410.22183272058885,
          407.58547816086474,
          406.9482874163294,
          404.45197091972534,
          404.0407647719996,
          400.33707643545824,
          397.95997051316147,
          396.3446913022334,
          395.13493173201493,
          392.8187413610748,
          390.04270154130177,
          389.0283150704141,
          387.3202759991484,
          381.885798423742,
          379.18886292913476,
          376.0919609861604,
          375.5862735262133,
          374.92474051931345,
          373.3886068470774,
          367.1949928893551,
          365.18717824295095,
          363.120461476739,
          359.9858951125653,
          356.2293676162606,
          355.85081255910825,
          351.88631557823385,
          349.6083494265449,
          348.6869434407901,
          347.4641667450698
         ]
        },
        {
         "hoverinfo": "skip",
         "line": {
          "color": "rgb(127, 60, 141)",
          "width": 0.1
         },
         "mode": "lines",
         "showlegend": false,
         "type": "scatter",
         "x": [
          1990,
          1991,
          1992,
          1993,
          1994,
          1995,
          1996,
          1997,
          1998,
          1999,
          2000,
          2001,
          2002,
          2003,
          2004,
          2005,
          2006,
          2007,
          2008,
          2009,
          2010,
          2011,
          2012,
          2013,
          2014,
          2015,
          2016,
          2017,
          2018,
          2019
         ],
         "y": [
          388.4732412416141,
          387.82684973277344,
          385.46011392658886,
          384.8076204197243,
          382.1694441004869,
          381.6833770097171,
          378.1681805932297,
          375.86595575389504,
          374.15251016714853,
          372.75282413004834,
          369.75331875146253,
          366.5376506985652,
          365.03546535176974,
          362.96551594566694,
          357.14283100991446,
          354.25695220105473,
          350.9113333345486,
          350.0801381477903,
          348.9347552212781,
          347.05600481559475,
          340.8624750381262,
          338.7874359789948,
          336.15173310636476,
          332.6755286303822,
          328.3366355338859,
          327.3085242620119,
          322.4434197301281,
          318.35910667217365,
          315.0583626892319,
          311.9330688481255
         ]
        },
        {
         "fill": "tonexty",
         "hoverinfo": "skip",
         "line": {
          "color": "rgb(127, 60, 141)",
          "width": 0.1
         },
         "mode": "lines",
         "showlegend": false,
         "type": "scatter",
         "x": [
          1990,
          1991,
          1992,
          1993,
          1994,
          1995,
          1996,
          1997,
          1998,
          1999,
          2000,
          2001,
          2002,
          2003,
          2004,
          2005,
          2006,
          2007,
          2008,
          2009,
          2010,
          2011,
          2012,
          2013,
          2014,
          2015,
          2016,
          2017,
          2018,
          2019
         ],
         "y": [
          430.7058307373285,
          429.1151162026848,
          425.8003249768878,
          424.8627605313297,
          421.88108121601346,
          421.16287662472024,
          416.60756143487833,
          413.6234260872863,
          411.6307648887155,
          410.33569808282346,
          407.835870207072,
          405.0989808610503,
          404.28862560452814,
          403.10847176610963,
          397.41457728979645,
          394.64104954684166,
          391.73902381672957,
          391.52717762962595,
          391.26577342549047,
          390.1051032035575,
          383.76435822417494,
          381.8460274725111,
          380.2563141953303,
          377.63057061700147,
          374.82754398788035,
          375.0780778569712,
          372.49750673994225,
          372.9752962312846,
          375.4603415866692,
          376.7392031665697
         ]
        },
        {
         "line": {
          "color": "rgb(17, 165, 121)"
         },
         "name": "Male/European Union",
         "opacity": 1,
         "type": "scatter",
         "x": [
          1990,
          1991,
          1992,
          1993,
          1994,
          1995,
          1996,
          1997,
          1998,
          1999,
          2000,
          2001,
          2002,
          2003,
          2004,
          2005,
          2006,
          2007,
          2008,
          2009,
          2010,
          2011,
          2012,
          2013,
          2014,
          2015,
          2016,
          2017,
          2018,
          2019
         ],
         "y": [
          727.1735408616925,
          724.763037605641,
          719.1672888337426,
          713.6542990129734,
          706.7957891798435,
          703.7782208889994,
          693.8151967148929,
          684.5539918690915,
          679.3191204501259,
          673.3747235839637,
          659.096328197312,
          650.6627832965398,
          646.7474723905767,
          642.3761714027337,
          630.6463703747049,
          624.2599637226324,
          615.6518529711411,
          610.6185029645555,
          604.6614784671549,
          598.4913676342959,
          587.4395318813797,
          575.2531204652432,
          568.4159801114188,
          557.2829308835123,
          545.7917564295751,
          546.7161348785252,
          535.2050675191242,
          531.3685270028052,
          526.8448922697686,
          523.2531449205502
         ]
        },
        {
         "hoverinfo": "skip",
         "line": {
          "color": "rgb(17, 165, 121)",
          "width": 0.1
         },
         "mode": "lines",
         "showlegend": false,
         "type": "scatter",
         "x": [
          1990,
          1991,
          1992,
          1993,
          1994,
          1995,
          1996,
          1997,
          1998,
          1999,
          2000,
          2001,
          2002,
          2003,
          2004,
          2005,
          2006,
          2007,
          2008,
          2009,
          2010,
          2011,
          2012,
          2013,
          2014,
          2015,
          2016,
          2017,
          2018,
          2019
         ],
         "y": [
          701.1178527295052,
          698.8177761510394,
          693.2988225611347,
          687.5506746983569,
          680.1967019373654,
          676.7432609634279,
          667.1232288220863,
          657.9083141435667,
          652.4943747711526,
          646.2207474967918,
          631.4340008599124,
          622.4931401577257,
          618.3892613583889,
          613.3340301941176,
          601.6095717876434,
          595.3048758011932,
          586.4661088902762,
          581.1450449140077,
          575.0680385415598,
          568.223857283052,
          557.1527653677764,
          544.7758412996027,
          537.4992557235913,
          525.9458648757937,
          513.0444912199005,
          513.2370129888794,
          499.91574065699075,
          492.3738535787087,
          482.7591903015712,
          474.80188141199847
         ]
        },
        {
         "fill": "tonexty",
         "hoverinfo": "skip",
         "line": {
          "color": "rgb(17, 165, 121)",
          "width": 0.1
         },
         "mode": "lines",
         "showlegend": false,
         "type": "scatter",
         "x": [
          1990,
          1991,
          1992,
          1993,
          1994,
          1995,
          1996,
          1997,
          1998,
          1999,
          2000,
          2001,
          2002,
          2003,
          2004,
          2005,
          2006,
          2007,
          2008,
          2009,
          2010,
          2011,
          2012,
          2013,
          2014,
          2015,
          2016,
          2017,
          2018,
          2019
         ],
         "y": [
          751.8702412893836,
          749.0660016172801,
          742.7420954981764,
          736.7394406395679,
          729.7909732076206,
          726.3506100236327,
          715.5886101525721,
          705.5514458377486,
          699.8112522624456,
          693.6128293737252,
          678.9677474239422,
          670.710182801685,
          666.6999223271989,
          662.5039378969582,
          650.4546051345579,
          643.860265926853,
          635.163184379372,
          630.1099342703872,
          624.1367727966677,
          618.218833263572,
          607.1871366170594,
          595.2304403485894,
          588.4671429899279,
          577.6412577939058,
          567.474243359286,
          568.8333364834308,
          559.6560204622806,
          561.1590575514555,
          562.5801007006926,
          563.4408760279362
         ]
        },
        {
         "line": {
          "color": "rgb(57, 105, 172)"
         },
         "name": "Female/Switzerland",
         "opacity": 1,
         "type": "scatter",
         "x": [
          1990,
          1991,
          1992,
          1993,
          1994,
          1995,
          1996,
          1997,
          1998,
          1999,
          2000,
          2001,
          2002,
          2003,
          2004,
          2005,
          2006,
          2007,
          2008,
          2009,
          2010,
          2011,
          2012,
          2013,
          2014,
          2015,
          2016,
          2017,
          2018,
          2019
         ],
         "y": [
          364.52877744763316,
          359.14580486798184,
          351.39616064663426,
          344.7925452213152,
          330.0364346275211,
          343.32993802823256,
          339.2893440368205,
          339.6697458015236,
          333.49504465912776,
          330.06732954395295,
          325.5732993282155,
          329.2006767715216,
          329.9307539048284,
          330.30922439096514,
          326.2233481291937,
          321.6006256368522,
          321.3107827633365,
          320.3976191773546,
          319.1087056217876,
          318.68210693796226,
          314.290687814551,
          309.7194274632824,
          309.04528015124663,
          303.2493506739932,
          296.0305316784984,
          288.60151720928565,
          289.29248926877756,
          286.45690323094067,
          283.5551935737081,
          281.5179263783877
         ]
        },
        {
         "hoverinfo": "skip",
         "line": {
          "color": "rgb(57, 105, 172)",
          "width": 0.1
         },
         "mode": "lines",
         "showlegend": false,
         "type": "scatter",
         "x": [
          1990,
          1991,
          1992,
          1993,
          1994,
          1995,
          1996,
          1997,
          1998,
          1999,
          2000,
          2001,
          2002,
          2003,
          2004,
          2005,
          2006,
          2007,
          2008,
          2009,
          2010,
          2011,
          2012,
          2013,
          2014,
          2015,
          2016,
          2017,
          2018,
          2019
         ],
         "y": [
          322.90491442344074,
          318.27305605094824,
          311.30322018318554,
          305.5572854201338,
          292.63817187459915,
          304.2875786104108,
          299.67553515863415,
          298.9659188522936,
          292.9241560383866,
          289.8898316733178,
          286.89668320185046,
          288.54207541000363,
          288.6736094180067,
          288.612059725959,
          284.7538377718005,
          280.55824510255667,
          280.2389166741378,
          279.1714409087255,
          278.0049514998383,
          277.46294113590704,
          273.4834635255069,
          269.1470907923446,
          268.1319457932896,
          261.7625905003676,
          252.84094854966642,
          243.1625683167437,
          240.87092424201097,
          234.8240835257021,
          229.02064297242555,
          224.18010098519667
         ]
        },
        {
         "fill": "tonexty",
         "hoverinfo": "skip",
         "line": {
          "color": "rgb(57, 105, 172)",
          "width": 0.1
         },
         "mode": "lines",
         "showlegend": false,
         "type": "scatter",
         "x": [
          1990,
          1991,
          1992,
          1993,
          1994,
          1995,
          1996,
          1997,
          1998,
          1999,
          2000,
          2001,
          2002,
          2003,
          2004,
          2005,
          2006,
          2007,
          2008,
          2009,
          2010,
          2011,
          2012,
          2013,
          2014,
          2015,
          2016,
          2017,
          2018,
          2019
         ],
         "y": [
          412.604128255479,
          405.1147475961693,
          396.04536957367606,
          387.7318809305355,
          371.12125951753046,
          383.2929127068013,
          377.73725706418924,
          377.3995381218348,
          370.81323756585346,
          367.1160896620958,
          362.5512630206779,
          366.23735788889763,
          367.0743543813721,
          367.3585289706599,
          363.2442979638012,
          358.33321851327094,
          357.6884038665541,
          356.638953545241,
          355.027029541291,
          354.84651833834175,
          350.43889644200544,
          346.03295614619543,
          345.9226925110607,
          341.1390303454066,
          336.0834532702929,
          331.768813387757,
          336.6050197234568,
          338.68637153494524,
          339.8798649780902,
          341.66402762402674
         ]
        },
        {
         "line": {
          "color": "rgb(242, 183, 1)"
         },
         "name": "Male/Switzerland",
         "opacity": 1,
         "type": "scatter",
         "x": [
          1990,
          1991,
          1992,
          1993,
          1994,
          1995,
          1996,
          1997,
          1998,
          1999,
          2000,
          2001,
          2002,
          2003,
          2004,
          2005,
          2006,
          2007,
          2008,
          2009,
          2010,
          2011,
          2012,
          2013,
          2014,
          2015,
          2016,
          2017,
          2018,
          2019
         ],
         "y": [
          595.924253936469,
          589.9176357009662,
          571.7156996604526,
          549.1960367804533,
          536.7118080393664,
          544.215978139166,
          525.0330819730004,
          517.1616057155385,
          516.4461005803042,
          503.16853071043573,
          500.73728161487946,
          487.6864548307963,
          476.25574193069275,
          468.4157596849875,
          456.16425151429553,
          447.40046628083405,
          437.8953392055481,
          434.44065663896316,
          423.5429559483986,
          419.29399125394826,
          410.647243190647,
          402.9985070678393,
          395.124948806666,
          390.3983499835845,
          380.5428891725988,
          371.89377466253677,
          360.11984791095813,
          355.22551280068865,
          349.243026613922,
          346.4682408279184
         ]
        },
        {
         "hoverinfo": "skip",
         "line": {
          "color": "rgb(242, 183, 1)",
          "width": 0.1
         },
         "mode": "lines",
         "showlegend": false,
         "type": "scatter",
         "x": [
          1990,
          1991,
          1992,
          1993,
          1994,
          1995,
          1996,
          1997,
          1998,
          1999,
          2000,
          2001,
          2002,
          2003,
          2004,
          2005,
          2006,
          2007,
          2008,
          2009,
          2010,
          2011,
          2012,
          2013,
          2014,
          2015,
          2016,
          2017,
          2018,
          2019
         ],
         "y": [
          540.8679033612677,
          535.9044580660394,
          519.3218922345658,
          499.14701113562376,
          488.24262479515477,
          495.04190664687,
          476.8052421407331,
          468.17586078315554,
          466.8732347662806,
          454.1116207577137,
          451.791122140434,
          439.24951303440156,
          429.40481194450507,
          422.46009476112044,
          411.1197154486591,
          402.98269474148094,
          393.82392665103157,
          390.37400044724694,
          379.5000215055465,
          375.22676457198884,
          366.0859466441065,
          358.1061121870574,
          349.78348492324983,
          343.45081358043683,
          331.40276477381184,
          319.60966318039215,
          304.80006667782334,
          295.8569944822591,
          286.06735759030096,
          279.8528746162923
         ]
        },
        {
         "fill": "tonexty",
         "hoverinfo": "skip",
         "line": {
          "color": "rgb(242, 183, 1)",
          "width": 0.1
         },
         "mode": "lines",
         "showlegend": false,
         "type": "scatter",
         "x": [
          1990,
          1991,
          1992,
          1993,
          1994,
          1995,
          1996,
          1997,
          1998,
          1999,
          2000,
          2001,
          2002,
          2003,
          2004,
          2005,
          2006,
          2007,
          2008,
          2009,
          2010,
          2011,
          2012,
          2013,
          2014,
          2015,
          2016,
          2017,
          2018,
          2019
         ],
         "y": [
          664.4785314294327,
          656.5794826872534,
          635.021288252212,
          609.4298332403434,
          593.8506140525291,
          598.284826566726,
          575.9118842116416,
          565.9639768371833,
          565.1934634258183,
          550.519656624965,
          548.0210236072248,
          534.155595826143,
          521.493383804378,
          512.9184811284373,
          499.87344887648396,
          490.3567569800393,
          479.86202445323335,
          476.2290152305452,
          464.4640001250326,
          460.44115109601705,
          451.7746492204838,
          444.15522056148893,
          436.4876790312885,
          433.45877926151314,
          426.30500109095476,
          421.22311243298714,
          413.910866813168,
          414.76141526976835,
          414.0606896200809,
          416.7736086780816
         ]
        }
       ],
       "layout": {
        "hovermode": "x unified",
        "template": {
         "data": {
          "bar": [
           {
            "error_x": {
             "color": "#2a3f5f"
            },
            "error_y": {
             "color": "#2a3f5f"
            },
            "marker": {
             "line": {
              "color": "#E5ECF6",
              "width": 0.5
             },
             "pattern": {
              "fillmode": "overlay",
              "size": 10,
              "solidity": 0.2
             }
            },
            "type": "bar"
           }
          ],
          "barpolar": [
           {
            "marker": {
             "line": {
              "color": "#E5ECF6",
              "width": 0.5
             },
             "pattern": {
              "fillmode": "overlay",
              "size": 10,
              "solidity": 0.2
             }
            },
            "type": "barpolar"
           }
          ],
          "carpet": [
           {
            "aaxis": {
             "endlinecolor": "#2a3f5f",
             "gridcolor": "white",
             "linecolor": "white",
             "minorgridcolor": "white",
             "startlinecolor": "#2a3f5f"
            },
            "baxis": {
             "endlinecolor": "#2a3f5f",
             "gridcolor": "white",
             "linecolor": "white",
             "minorgridcolor": "white",
             "startlinecolor": "#2a3f5f"
            },
            "type": "carpet"
           }
          ],
          "choropleth": [
           {
            "colorbar": {
             "outlinewidth": 0,
             "ticks": ""
            },
            "type": "choropleth"
           }
          ],
          "contour": [
           {
            "colorbar": {
             "outlinewidth": 0,
             "ticks": ""
            },
            "colorscale": [
             [
              0,
              "#0d0887"
             ],
             [
              0.1111111111111111,
              "#46039f"
             ],
             [
              0.2222222222222222,
              "#7201a8"
             ],
             [
              0.3333333333333333,
              "#9c179e"
             ],
             [
              0.4444444444444444,
              "#bd3786"
             ],
             [
              0.5555555555555556,
              "#d8576b"
             ],
             [
              0.6666666666666666,
              "#ed7953"
             ],
             [
              0.7777777777777778,
              "#fb9f3a"
             ],
             [
              0.8888888888888888,
              "#fdca26"
             ],
             [
              1,
              "#f0f921"
             ]
            ],
            "type": "contour"
           }
          ],
          "contourcarpet": [
           {
            "colorbar": {
             "outlinewidth": 0,
             "ticks": ""
            },
            "type": "contourcarpet"
           }
          ],
          "heatmap": [
           {
            "colorbar": {
             "outlinewidth": 0,
             "ticks": ""
            },
            "colorscale": [
             [
              0,
              "#0d0887"
             ],
             [
              0.1111111111111111,
              "#46039f"
             ],
             [
              0.2222222222222222,
              "#7201a8"
             ],
             [
              0.3333333333333333,
              "#9c179e"
             ],
             [
              0.4444444444444444,
              "#bd3786"
             ],
             [
              0.5555555555555556,
              "#d8576b"
             ],
             [
              0.6666666666666666,
              "#ed7953"
             ],
             [
              0.7777777777777778,
              "#fb9f3a"
             ],
             [
              0.8888888888888888,
              "#fdca26"
             ],
             [
              1,
              "#f0f921"
             ]
            ],
            "type": "heatmap"
           }
          ],
          "heatmapgl": [
           {
            "colorbar": {
             "outlinewidth": 0,
             "ticks": ""
            },
            "colorscale": [
             [
              0,
              "#0d0887"
             ],
             [
              0.1111111111111111,
              "#46039f"
             ],
             [
              0.2222222222222222,
              "#7201a8"
             ],
             [
              0.3333333333333333,
              "#9c179e"
             ],
             [
              0.4444444444444444,
              "#bd3786"
             ],
             [
              0.5555555555555556,
              "#d8576b"
             ],
             [
              0.6666666666666666,
              "#ed7953"
             ],
             [
              0.7777777777777778,
              "#fb9f3a"
             ],
             [
              0.8888888888888888,
              "#fdca26"
             ],
             [
              1,
              "#f0f921"
             ]
            ],
            "type": "heatmapgl"
           }
          ],
          "histogram": [
           {
            "marker": {
             "pattern": {
              "fillmode": "overlay",
              "size": 10,
              "solidity": 0.2
             }
            },
            "type": "histogram"
           }
          ],
          "histogram2d": [
           {
            "colorbar": {
             "outlinewidth": 0,
             "ticks": ""
            },
            "colorscale": [
             [
              0,
              "#0d0887"
             ],
             [
              0.1111111111111111,
              "#46039f"
             ],
             [
              0.2222222222222222,
              "#7201a8"
             ],
             [
              0.3333333333333333,
              "#9c179e"
             ],
             [
              0.4444444444444444,
              "#bd3786"
             ],
             [
              0.5555555555555556,
              "#d8576b"
             ],
             [
              0.6666666666666666,
              "#ed7953"
             ],
             [
              0.7777777777777778,
              "#fb9f3a"
             ],
             [
              0.8888888888888888,
              "#fdca26"
             ],
             [
              1,
              "#f0f921"
             ]
            ],
            "type": "histogram2d"
           }
          ],
          "histogram2dcontour": [
           {
            "colorbar": {
             "outlinewidth": 0,
             "ticks": ""
            },
            "colorscale": [
             [
              0,
              "#0d0887"
             ],
             [
              0.1111111111111111,
              "#46039f"
             ],
             [
              0.2222222222222222,
              "#7201a8"
             ],
             [
              0.3333333333333333,
              "#9c179e"
             ],
             [
              0.4444444444444444,
              "#bd3786"
             ],
             [
              0.5555555555555556,
              "#d8576b"
             ],
             [
              0.6666666666666666,
              "#ed7953"
             ],
             [
              0.7777777777777778,
              "#fb9f3a"
             ],
             [
              0.8888888888888888,
              "#fdca26"
             ],
             [
              1,
              "#f0f921"
             ]
            ],
            "type": "histogram2dcontour"
           }
          ],
          "mesh3d": [
           {
            "colorbar": {
             "outlinewidth": 0,
             "ticks": ""
            },
            "type": "mesh3d"
           }
          ],
          "parcoords": [
           {
            "line": {
             "colorbar": {
              "outlinewidth": 0,
              "ticks": ""
             }
            },
            "type": "parcoords"
           }
          ],
          "pie": [
           {
            "automargin": true,
            "type": "pie"
           }
          ],
          "scatter": [
           {
            "fillpattern": {
             "fillmode": "overlay",
             "size": 10,
             "solidity": 0.2
            },
            "type": "scatter"
           }
          ],
          "scatter3d": [
           {
            "line": {
             "colorbar": {
              "outlinewidth": 0,
              "ticks": ""
             }
            },
            "marker": {
             "colorbar": {
              "outlinewidth": 0,
              "ticks": ""
             }
            },
            "type": "scatter3d"
           }
          ],
          "scattercarpet": [
           {
            "marker": {
             "colorbar": {
              "outlinewidth": 0,
              "ticks": ""
             }
            },
            "type": "scattercarpet"
           }
          ],
          "scattergeo": [
           {
            "marker": {
             "colorbar": {
              "outlinewidth": 0,
              "ticks": ""
             }
            },
            "type": "scattergeo"
           }
          ],
          "scattergl": [
           {
            "marker": {
             "colorbar": {
              "outlinewidth": 0,
              "ticks": ""
             }
            },
            "type": "scattergl"
           }
          ],
          "scattermapbox": [
           {
            "marker": {
             "colorbar": {
              "outlinewidth": 0,
              "ticks": ""
             }
            },
            "type": "scattermapbox"
           }
          ],
          "scatterpolar": [
           {
            "marker": {
             "colorbar": {
              "outlinewidth": 0,
              "ticks": ""
             }
            },
            "type": "scatterpolar"
           }
          ],
          "scatterpolargl": [
           {
            "marker": {
             "colorbar": {
              "outlinewidth": 0,
              "ticks": ""
             }
            },
            "type": "scatterpolargl"
           }
          ],
          "scatterternary": [
           {
            "marker": {
             "colorbar": {
              "outlinewidth": 0,
              "ticks": ""
             }
            },
            "type": "scatterternary"
           }
          ],
          "surface": [
           {
            "colorbar": {
             "outlinewidth": 0,
             "ticks": ""
            },
            "colorscale": [
             [
              0,
              "#0d0887"
             ],
             [
              0.1111111111111111,
              "#46039f"
             ],
             [
              0.2222222222222222,
              "#7201a8"
             ],
             [
              0.3333333333333333,
              "#9c179e"
             ],
             [
              0.4444444444444444,
              "#bd3786"
             ],
             [
              0.5555555555555556,
              "#d8576b"
             ],
             [
              0.6666666666666666,
              "#ed7953"
             ],
             [
              0.7777777777777778,
              "#fb9f3a"
             ],
             [
              0.8888888888888888,
              "#fdca26"
             ],
             [
              1,
              "#f0f921"
             ]
            ],
            "type": "surface"
           }
          ],
          "table": [
           {
            "cells": {
             "fill": {
              "color": "#EBF0F8"
             },
             "line": {
              "color": "white"
             }
            },
            "header": {
             "fill": {
              "color": "#C8D4E3"
             },
             "line": {
              "color": "white"
             }
            },
            "type": "table"
           }
          ]
         },
         "layout": {
          "annotationdefaults": {
           "arrowcolor": "#2a3f5f",
           "arrowhead": 0,
           "arrowwidth": 1
          },
          "autotypenumbers": "strict",
          "coloraxis": {
           "colorbar": {
            "outlinewidth": 0,
            "ticks": ""
           }
          },
          "colorscale": {
           "diverging": [
            [
             0,
             "#8e0152"
            ],
            [
             0.1,
             "#c51b7d"
            ],
            [
             0.2,
             "#de77ae"
            ],
            [
             0.3,
             "#f1b6da"
            ],
            [
             0.4,
             "#fde0ef"
            ],
            [
             0.5,
             "#f7f7f7"
            ],
            [
             0.6,
             "#e6f5d0"
            ],
            [
             0.7,
             "#b8e186"
            ],
            [
             0.8,
             "#7fbc41"
            ],
            [
             0.9,
             "#4d9221"
            ],
            [
             1,
             "#276419"
            ]
           ],
           "sequential": [
            [
             0,
             "#0d0887"
            ],
            [
             0.1111111111111111,
             "#46039f"
            ],
            [
             0.2222222222222222,
             "#7201a8"
            ],
            [
             0.3333333333333333,
             "#9c179e"
            ],
            [
             0.4444444444444444,
             "#bd3786"
            ],
            [
             0.5555555555555556,
             "#d8576b"
            ],
            [
             0.6666666666666666,
             "#ed7953"
            ],
            [
             0.7777777777777778,
             "#fb9f3a"
            ],
            [
             0.8888888888888888,
             "#fdca26"
            ],
            [
             1,
             "#f0f921"
            ]
           ],
           "sequentialminus": [
            [
             0,
             "#0d0887"
            ],
            [
             0.1111111111111111,
             "#46039f"
            ],
            [
             0.2222222222222222,
             "#7201a8"
            ],
            [
             0.3333333333333333,
             "#9c179e"
            ],
            [
             0.4444444444444444,
             "#bd3786"
            ],
            [
             0.5555555555555556,
             "#d8576b"
            ],
            [
             0.6666666666666666,
             "#ed7953"
            ],
            [
             0.7777777777777778,
             "#fb9f3a"
            ],
            [
             0.8888888888888888,
             "#fdca26"
            ],
            [
             1,
             "#f0f921"
            ]
           ]
          },
          "colorway": [
           "#636efa",
           "#EF553B",
           "#00cc96",
           "#ab63fa",
           "#FFA15A",
           "#19d3f3",
           "#FF6692",
           "#B6E880",
           "#FF97FF",
           "#FECB52"
          ],
          "font": {
           "color": "#2a3f5f"
          },
          "geo": {
           "bgcolor": "white",
           "lakecolor": "white",
           "landcolor": "#E5ECF6",
           "showlakes": true,
           "showland": true,
           "subunitcolor": "white"
          },
          "hoverlabel": {
           "align": "left"
          },
          "hovermode": "closest",
          "mapbox": {
           "style": "light"
          },
          "paper_bgcolor": "white",
          "plot_bgcolor": "#E5ECF6",
          "polar": {
           "angularaxis": {
            "gridcolor": "white",
            "linecolor": "white",
            "ticks": ""
           },
           "bgcolor": "#E5ECF6",
           "radialaxis": {
            "gridcolor": "white",
            "linecolor": "white",
            "ticks": ""
           }
          },
          "scene": {
           "xaxis": {
            "backgroundcolor": "#E5ECF6",
            "gridcolor": "white",
            "gridwidth": 2,
            "linecolor": "white",
            "showbackground": true,
            "ticks": "",
            "zerolinecolor": "white"
           },
           "yaxis": {
            "backgroundcolor": "#E5ECF6",
            "gridcolor": "white",
            "gridwidth": 2,
            "linecolor": "white",
            "showbackground": true,
            "ticks": "",
            "zerolinecolor": "white"
           },
           "zaxis": {
            "backgroundcolor": "#E5ECF6",
            "gridcolor": "white",
            "gridwidth": 2,
            "linecolor": "white",
            "showbackground": true,
            "ticks": "",
            "zerolinecolor": "white"
           }
          },
          "shapedefaults": {
           "line": {
            "color": "#2a3f5f"
           }
          },
          "ternary": {
           "aaxis": {
            "gridcolor": "white",
            "linecolor": "white",
            "ticks": ""
           },
           "baxis": {
            "gridcolor": "white",
            "linecolor": "white",
            "ticks": ""
           },
           "bgcolor": "#E5ECF6",
           "caxis": {
            "gridcolor": "white",
            "linecolor": "white",
            "ticks": ""
           }
          },
          "title": {
           "x": 0.05
          },
          "xaxis": {
           "automargin": true,
           "gridcolor": "white",
           "linecolor": "white",
           "ticks": "",
           "title": {
            "standoff": 15
           },
           "zerolinecolor": "white",
           "zerolinewidth": 2
          },
          "yaxis": {
           "automargin": true,
           "gridcolor": "white",
           "linecolor": "white",
           "ticks": "",
           "title": {
            "standoff": 15
           },
           "zerolinecolor": "white",
           "zerolinewidth": 2
          }
         }
        },
        "title": {
         "text": "YLLs per 100k residents caused by cancer diseases"
        },
        "xaxis": {
         "title": {
          "text": "Year"
         }
        },
        "yaxis": {
         "title": {
          "text": "YLLs per 100k res."
         }
        }
       }
      }
     },
     "metadata": {},
     "output_type": "display_data"
    }
   ],
   "source": [
    "fig = go.Figure()\n",
    "i=0\n",
    "for location, group_l in data_rate[data_rate.measure_name=='YLLs (Years of Life Lost)'].groupby(['location_name','sex_name','year'])[['val','lower','upper']].mean().reset_index().groupby('location_name'):\n",
    "    for sex, group_s in group_l.groupby('sex_name'):\n",
    "        fig.add_trace(go.Scatter(x=group_s['year'], y=group_s['val'], name=f'{sex}/{location}' ,line_color=colors[i],opacity=1))\n",
    "        fig.add_trace(go.Scatter(x=group_s['year'], y=group_s['lower'], fill=None, mode='lines',hoverinfo='skip',line_color=colors[i],line_width=0.1,showlegend=False))\n",
    "        fig.add_trace(go.Scatter(x=group_s['year'], y=group_s['upper'], fill='tonexty', mode='lines',hoverinfo='skip',line_color=colors[i],line_width=0.1,showlegend=False))\n",
    "        i+=1\n",
    "fig.update_xaxes(title_text=\"Year\")\n",
    "fig.update_yaxes(title_text=\"YLLs per 100k res.\")\n",
    "fig.update_layout(hovermode='x unified', title='YLLs per 100k residents caused by cancer diseases')\n",
    "fig.show()"
   ]
  },
  {
   "cell_type": "markdown",
   "metadata": {},
   "source": [
    "We examine the rate of YLLs due to cancer diseases per 100k residents. Those 100k residents are 'average' residents, just like if we sample 100k residents at random in the population. Thus they are not necessarily with cancer. Then we can have the number of YLLs for one 'average' person, but not for one person with cancer."
   ]
  },
  {
   "cell_type": "markdown",
   "metadata": {},
   "source": [
    "**ANALYSIS 4 : Prevalence (proportion of individuals in a population who have a disease or its sequelae at a specific time) in both the European Union and Switzerland from 1990 to 2019**"
   ]
  },
  {
   "cell_type": "code",
   "execution_count": 32,
   "metadata": {},
   "outputs": [
    {
     "data": {
      "application/vnd.plotly.v1+json": {
       "config": {
        "plotlyServerURL": "https://plot.ly"
       },
       "data": [
        {
         "line": {
          "color": "rgb(127, 60, 141)"
         },
         "name": "Female/European Union",
         "opacity": 1,
         "type": "scatter",
         "x": [
          1990,
          1991,
          1992,
          1993,
          1994,
          1995,
          1996,
          1997,
          1998,
          1999,
          2000,
          2001,
          2002,
          2003,
          2004,
          2005,
          2006,
          2007,
          2008,
          2009,
          2010,
          2011,
          2012,
          2013,
          2014,
          2015,
          2016,
          2017,
          2018,
          2019
         ],
         "y": [
          190.27242874292384,
          192.4919095920975,
          194.59673883409366,
          197.238427307725,
          199.2769943988075,
          201.55278717082285,
          203.6809146076291,
          206.23309161638804,
          209.28267679261387,
          211.79171206787137,
          213.60467254357727,
          215.1222144978878,
          217.3526714072854,
          219.72906769366557,
          220.8614097016718,
          221.98433527933034,
          222.59275631151127,
          223.8133479230532,
          225.14409912478501,
          225.85968811657094,
          225.26459076626628,
          225.15980739415045,
          224.64687592663176,
          224.2195685694108,
          223.3305063587614,
          223.32300057120912,
          222.18866581716955,
          221.34002697679188,
          221.1014273825185,
          221.06517840655061
         ]
        },
        {
         "hoverinfo": "skip",
         "line": {
          "color": "rgb(127, 60, 141)",
          "width": 0.1
         },
         "mode": "lines",
         "showlegend": false,
         "type": "scatter",
         "x": [
          1990,
          1991,
          1992,
          1993,
          1994,
          1995,
          1996,
          1997,
          1998,
          1999,
          2000,
          2001,
          2002,
          2003,
          2004,
          2005,
          2006,
          2007,
          2008,
          2009,
          2010,
          2011,
          2012,
          2013,
          2014,
          2015,
          2016,
          2017,
          2018,
          2019
         ],
         "y": [
          170.45590091746513,
          175.02176522367287,
          178.8762046811292,
          182.63807452997003,
          185.12985581061918,
          187.35765707835714,
          189.88224124091127,
          192.70538742401902,
          195.72647733652042,
          198.1338357581222,
          199.59112993536863,
          201.31632661804915,
          203.58087759746837,
          205.77103315822973,
          206.51474259484345,
          207.19622435497934,
          208.0744111261876,
          209.30961787587393,
          210.25402515313255,
          210.49475580198552,
          209.3728960108407,
          209.4636918778787,
          208.8299740204525,
          208.17801921409654,
          206.75068550169274,
          205.93704807181655,
          203.39815152206404,
          198.30765311383016,
          196.195570321949,
          191.7934410155905
         ]
        },
        {
         "fill": "tonexty",
         "hoverinfo": "skip",
         "line": {
          "color": "rgb(127, 60, 141)",
          "width": 0.1
         },
         "mode": "lines",
         "showlegend": false,
         "type": "scatter",
         "x": [
          1990,
          1991,
          1992,
          1993,
          1994,
          1995,
          1996,
          1997,
          1998,
          1999,
          2000,
          2001,
          2002,
          2003,
          2004,
          2005,
          2006,
          2007,
          2008,
          2009,
          2010,
          2011,
          2012,
          2013,
          2014,
          2015,
          2016,
          2017,
          2018,
          2019
         ],
         "y": [
          213.90724979371615,
          212.97594447979435,
          212.6855864445403,
          213.47643596562446,
          214.73758563499408,
          216.88804534296193,
          218.40668959652936,
          220.48589867773052,
          223.4545906148477,
          226.13306002970862,
          228.09967331971959,
          229.1992869557905,
          231.252085185655,
          233.67179882953513,
          234.9388410909121,
          236.56409300017,
          236.93119689804288,
          238.1527552109382,
          239.8207956580078,
          240.9862492025835,
          240.95153888141746,
          240.7305136855781,
          240.1519821313274,
          240.03659103866093,
          239.80812890024515,
          240.68062281672,
          241.38795621579774,
          245.79801041377937,
          248.23292423914617,
          253.2044634818766
         ]
        },
        {
         "line": {
          "color": "rgb(17, 165, 121)"
         },
         "name": "Male/European Union",
         "opacity": 1,
         "type": "scatter",
         "x": [
          1990,
          1991,
          1992,
          1993,
          1994,
          1995,
          1996,
          1997,
          1998,
          1999,
          2000,
          2001,
          2002,
          2003,
          2004,
          2005,
          2006,
          2007,
          2008,
          2009,
          2010,
          2011,
          2012,
          2013,
          2014,
          2015,
          2016,
          2017,
          2018,
          2019
         ],
         "y": [
          80.68384806372771,
          82.78394472507684,
          84.5749301537056,
          86.57991009505878,
          88.11028979882386,
          89.4925728668503,
          90.52189416004292,
          91.80399261409514,
          93.69492447208411,
          95.3553500913934,
          95.95507247588854,
          97.01862858366948,
          98.68030672794917,
          100.83481523148991,
          101.44621771159929,
          102.29810093247401,
          102.68998672419589,
          103.46027004643106,
          104.23389105500017,
          104.78598419530314,
          104.42732792403856,
          103.73986973487577,
          103.47430774059798,
          103.1635373305616,
          102.50505607572383,
          103.37566103404039,
          102.37095516067966,
          102.16887343331726,
          102.14072647005628,
          102.21879349007686
         ]
        },
        {
         "hoverinfo": "skip",
         "line": {
          "color": "rgb(17, 165, 121)",
          "width": 0.1
         },
         "mode": "lines",
         "showlegend": false,
         "type": "scatter",
         "x": [
          1990,
          1991,
          1992,
          1993,
          1994,
          1995,
          1996,
          1997,
          1998,
          1999,
          2000,
          2001,
          2002,
          2003,
          2004,
          2005,
          2006,
          2007,
          2008,
          2009,
          2010,
          2011,
          2012,
          2013,
          2014,
          2015,
          2016,
          2017,
          2018,
          2019
         ],
         "y": [
          75.66957476731245,
          77.82893308879484,
          79.64549143881632,
          81.5709590000664,
          82.94887088930088,
          84.10699800531216,
          85.21287333252911,
          86.5311753670595,
          88.27234124288498,
          89.70890455941247,
          90.04081352577482,
          91.1380325698045,
          92.7435953277061,
          94.69969245401944,
          95.13352732571474,
          95.72191782292838,
          96.16244533988078,
          96.89788292921354,
          97.43559331558939,
          97.6769300044768,
          97.0988259491266,
          96.53302921020173,
          96.18875796695976,
          95.69780309684126,
          94.71329068273701,
          95.13897285946994,
          93.58861104401711,
          90.86512468325785,
          88.72963482543028,
          86.4238293142871
         ]
        },
        {
         "fill": "tonexty",
         "hoverinfo": "skip",
         "line": {
          "color": "rgb(17, 165, 121)",
          "width": 0.1
         },
         "mode": "lines",
         "showlegend": false,
         "type": "scatter",
         "x": [
          1990,
          1991,
          1992,
          1993,
          1994,
          1995,
          1996,
          1997,
          1998,
          1999,
          2000,
          2001,
          2002,
          2003,
          2004,
          2005,
          2006,
          2007,
          2008,
          2009,
          2010,
          2011,
          2012,
          2013,
          2014,
          2015,
          2016,
          2017,
          2018,
          2019
         ],
         "y": [
          85.90960634887448,
          87.84337715848685,
          89.551634678589,
          91.62270071334612,
          93.29819443827164,
          94.88927146972355,
          95.78318582190565,
          96.95436400801098,
          98.94322928892423,
          100.76470713425903,
          101.64345090843875,
          102.57513100657991,
          104.20078743291006,
          106.53053628221244,
          107.27103596407675,
          108.32120204102507,
          108.58160855096055,
          109.30544791406918,
          110.24748227083487,
          111.05749034743002,
          110.99174633161732,
          110.24964290902575,
          110.01028918934466,
          109.91301180977862,
          109.6439368636877,
          111.0344702981115,
          110.618997816572,
          113.71308931549179,
          116.05268483077234,
          119.25287826890442
         ]
        },
        {
         "line": {
          "color": "rgb(57, 105, 172)"
         },
         "name": "Female/Switzerland",
         "opacity": 1,
         "type": "scatter",
         "x": [
          1990,
          1991,
          1992,
          1993,
          1994,
          1995,
          1996,
          1997,
          1998,
          1999,
          2000,
          2001,
          2002,
          2003,
          2004,
          2005,
          2006,
          2007,
          2008,
          2009,
          2010,
          2011,
          2012,
          2013,
          2014,
          2015,
          2016,
          2017,
          2018,
          2019
         ],
         "y": [
          227.1325202077534,
          228.2724750591834,
          229.6096522533092,
          231.6469222825433,
          233.08885226828767,
          237.7385457926214,
          239.93534047553445,
          245.02991867153645,
          248.87521272732516,
          252.04789256647337,
          253.51663927122456,
          254.43062321042362,
          254.59525476281658,
          253.50930826095808,
          250.89582540232658,
          249.58705180667852,
          250.01729833671808,
          249.5240689027321,
          248.16390372193166,
          247.58325987248904,
          246.57860120361238,
          242.49380169737964,
          237.91537326933368,
          231.4564862083487,
          225.57745465516402,
          222.19018384185748,
          224.3506133937703,
          225.80783256387704,
          224.6350560981175,
          222.09091673064296
         ]
        },
        {
         "hoverinfo": "skip",
         "line": {
          "color": "rgb(57, 105, 172)",
          "width": 0.1
         },
         "mode": "lines",
         "showlegend": false,
         "type": "scatter",
         "x": [
          1990,
          1991,
          1992,
          1993,
          1994,
          1995,
          1996,
          1997,
          1998,
          1999,
          2000,
          2001,
          2002,
          2003,
          2004,
          2005,
          2006,
          2007,
          2008,
          2009,
          2010,
          2011,
          2012,
          2013,
          2014,
          2015,
          2016,
          2017,
          2018,
          2019
         ],
         "y": [
          189.33769568994907,
          194.45269374698935,
          197.6584531143624,
          200.12306883400743,
          200.90751679981202,
          202.60345415919954,
          206.11286027072316,
          211.29364626705532,
          214.44395762441331,
          215.8839164107895,
          215.2758470536185,
          217.87914868005555,
          218.3125132037686,
          217.04526501483414,
          213.822793648933,
          210.75917832279936,
          212.7455625070357,
          213.0101292267919,
          212.00376127013297,
          210.10524178026253,
          207.0949338139276,
          205.09843919675055,
          201.39647839205324,
          195.24549254174858,
          188.58768040597062,
          183.12478892012703,
          183.3067572340747,
          178.3584587651555,
          174.68169547363712,
          165.69815663564358
         ]
        },
        {
         "fill": "tonexty",
         "hoverinfo": "skip",
         "line": {
          "color": "rgb(57, 105, 172)",
          "width": 0.1
         },
         "mode": "lines",
         "showlegend": false,
         "type": "scatter",
         "x": [
          1990,
          1991,
          1992,
          1993,
          1994,
          1995,
          1996,
          1997,
          1998,
          1999,
          2000,
          2001,
          2002,
          2003,
          2004,
          2005,
          2006,
          2007,
          2008,
          2009,
          2010,
          2011,
          2012,
          2013,
          2014,
          2015,
          2016,
          2017,
          2018,
          2019
         ],
         "y": [
          272.906666673476,
          269.4924869630951,
          267.6320322581239,
          269.2251987690131,
          271.7439918448613,
          279.2081319528242,
          279.18499029949044,
          284.0958647976932,
          288.40432364072075,
          293.48286090415144,
          297.7798288000498,
          296.78406982787885,
          296.2911138701717,
          294.7474790348077,
          293.2270703605958,
          294.54214147690845,
          293.1380341556863,
          291.32080863911017,
          289.55521875814003,
          290.40512621880157,
          291.62042109861056,
          284.9961879392061,
          279.29847578281584,
          272.50799454339005,
          268.3873984477263,
          267.7766154757443,
          272.3396387096726,
          283.1914837048712,
          286.44982456308963,
          296.74023155851864
         ]
        },
        {
         "line": {
          "color": "rgb(242, 183, 1)"
         },
         "name": "Male/Switzerland",
         "opacity": 1,
         "type": "scatter",
         "x": [
          1990,
          1991,
          1992,
          1993,
          1994,
          1995,
          1996,
          1997,
          1998,
          1999,
          2000,
          2001,
          2002,
          2003,
          2004,
          2005,
          2006,
          2007,
          2008,
          2009,
          2010,
          2011,
          2012,
          2013,
          2014,
          2015,
          2016,
          2017,
          2018,
          2019
         ],
         "y": [
          83.48506186335383,
          87.1475058994937,
          89.27758177025939,
          90.76439357451164,
          93.95016065778903,
          97.16286554700662,
          97.65092174759262,
          100.82449471260662,
          103.92894984035485,
          104.25677206575482,
          106.38097881426725,
          105.49564161093213,
          105.60085875104592,
          106.41022050547795,
          105.91765632132173,
          105.33035690139101,
          104.19315167430413,
          103.95186057910693,
          102.88741492705053,
          103.32012461194799,
          101.39450093651944,
          100.22580716032749,
          98.92702594317072,
          98.69676617385686,
          96.78706771837838,
          95.08248295505594,
          93.50449220748159,
          92.87583578554226,
          92.09913142396502,
          91.51486359909434
         ]
        },
        {
         "hoverinfo": "skip",
         "line": {
          "color": "rgb(242, 183, 1)",
          "width": 0.1
         },
         "mode": "lines",
         "showlegend": false,
         "type": "scatter",
         "x": [
          1990,
          1991,
          1992,
          1993,
          1994,
          1995,
          1996,
          1997,
          1998,
          1999,
          2000,
          2001,
          2002,
          2003,
          2004,
          2005,
          2006,
          2007,
          2008,
          2009,
          2010,
          2011,
          2012,
          2013,
          2014,
          2015,
          2016,
          2017,
          2018,
          2019
         ],
         "y": [
          68.47255879899558,
          72.04670852496534,
          73.86547596778877,
          74.92650348275528,
          77.23339093083041,
          79.2828457416776,
          80.29488308826048,
          83.01678531241268,
          85.47881798790736,
          85.32291148221539,
          86.2863540641913,
          86.14042661241822,
          86.32924387611132,
          86.76715803503382,
          85.76621144745259,
          84.54678231645683,
          84.30184628470542,
          84.3565712051051,
          83.24962702996005,
          83.0526085634965,
          80.64439382953512,
          80.17416750841174,
          79.27715894388771,
          78.72782237278868,
          76.19241641366497,
          73.63611504316967,
          71.5714387613027,
          67.45411824466854,
          64.69729273247317,
          61.01119712235558
         ]
        },
        {
         "fill": "tonexty",
         "hoverinfo": "skip",
         "line": {
          "color": "rgb(242, 183, 1)",
          "width": 0.1
         },
         "mode": "lines",
         "showlegend": false,
         "type": "scatter",
         "x": [
          1990,
          1991,
          1992,
          1993,
          1994,
          1995,
          1996,
          1997,
          1998,
          1999,
          2000,
          2001,
          2002,
          2003,
          2004,
          2005,
          2006,
          2007,
          2008,
          2009,
          2010,
          2011,
          2012,
          2013,
          2014,
          2015,
          2016,
          2017,
          2018,
          2019
         ],
         "y": [
          103.1029578969575,
          106.72155257412585,
          108.84378553015554,
          110.52356455466544,
          114.73565232598146,
          119.38133130751326,
          119.17918415627521,
          122.87029199943836,
          126.82672482528838,
          127.72470463929042,
          131.31525395508407,
          129.45416521977072,
          129.12523107647064,
          130.48403964619294,
          130.649035789929,
          130.89055079621735,
          128.8353505312882,
          128.01255821075753,
          126.91557510670432,
          127.97807009381958,
          126.69896614127454,
          124.71926436829735,
          122.80524941329156,
          123.01696726299964,
          121.58784412123643,
          121.18248145868255,
          120.66994229507874,
          125.305771346193,
          127.49499038292848,
          132.27840244379667
         ]
        }
       ],
       "layout": {
        "hovermode": "x unified",
        "template": {
         "data": {
          "bar": [
           {
            "error_x": {
             "color": "#2a3f5f"
            },
            "error_y": {
             "color": "#2a3f5f"
            },
            "marker": {
             "line": {
              "color": "#E5ECF6",
              "width": 0.5
             },
             "pattern": {
              "fillmode": "overlay",
              "size": 10,
              "solidity": 0.2
             }
            },
            "type": "bar"
           }
          ],
          "barpolar": [
           {
            "marker": {
             "line": {
              "color": "#E5ECF6",
              "width": 0.5
             },
             "pattern": {
              "fillmode": "overlay",
              "size": 10,
              "solidity": 0.2
             }
            },
            "type": "barpolar"
           }
          ],
          "carpet": [
           {
            "aaxis": {
             "endlinecolor": "#2a3f5f",
             "gridcolor": "white",
             "linecolor": "white",
             "minorgridcolor": "white",
             "startlinecolor": "#2a3f5f"
            },
            "baxis": {
             "endlinecolor": "#2a3f5f",
             "gridcolor": "white",
             "linecolor": "white",
             "minorgridcolor": "white",
             "startlinecolor": "#2a3f5f"
            },
            "type": "carpet"
           }
          ],
          "choropleth": [
           {
            "colorbar": {
             "outlinewidth": 0,
             "ticks": ""
            },
            "type": "choropleth"
           }
          ],
          "contour": [
           {
            "colorbar": {
             "outlinewidth": 0,
             "ticks": ""
            },
            "colorscale": [
             [
              0,
              "#0d0887"
             ],
             [
              0.1111111111111111,
              "#46039f"
             ],
             [
              0.2222222222222222,
              "#7201a8"
             ],
             [
              0.3333333333333333,
              "#9c179e"
             ],
             [
              0.4444444444444444,
              "#bd3786"
             ],
             [
              0.5555555555555556,
              "#d8576b"
             ],
             [
              0.6666666666666666,
              "#ed7953"
             ],
             [
              0.7777777777777778,
              "#fb9f3a"
             ],
             [
              0.8888888888888888,
              "#fdca26"
             ],
             [
              1,
              "#f0f921"
             ]
            ],
            "type": "contour"
           }
          ],
          "contourcarpet": [
           {
            "colorbar": {
             "outlinewidth": 0,
             "ticks": ""
            },
            "type": "contourcarpet"
           }
          ],
          "heatmap": [
           {
            "colorbar": {
             "outlinewidth": 0,
             "ticks": ""
            },
            "colorscale": [
             [
              0,
              "#0d0887"
             ],
             [
              0.1111111111111111,
              "#46039f"
             ],
             [
              0.2222222222222222,
              "#7201a8"
             ],
             [
              0.3333333333333333,
              "#9c179e"
             ],
             [
              0.4444444444444444,
              "#bd3786"
             ],
             [
              0.5555555555555556,
              "#d8576b"
             ],
             [
              0.6666666666666666,
              "#ed7953"
             ],
             [
              0.7777777777777778,
              "#fb9f3a"
             ],
             [
              0.8888888888888888,
              "#fdca26"
             ],
             [
              1,
              "#f0f921"
             ]
            ],
            "type": "heatmap"
           }
          ],
          "heatmapgl": [
           {
            "colorbar": {
             "outlinewidth": 0,
             "ticks": ""
            },
            "colorscale": [
             [
              0,
              "#0d0887"
             ],
             [
              0.1111111111111111,
              "#46039f"
             ],
             [
              0.2222222222222222,
              "#7201a8"
             ],
             [
              0.3333333333333333,
              "#9c179e"
             ],
             [
              0.4444444444444444,
              "#bd3786"
             ],
             [
              0.5555555555555556,
              "#d8576b"
             ],
             [
              0.6666666666666666,
              "#ed7953"
             ],
             [
              0.7777777777777778,
              "#fb9f3a"
             ],
             [
              0.8888888888888888,
              "#fdca26"
             ],
             [
              1,
              "#f0f921"
             ]
            ],
            "type": "heatmapgl"
           }
          ],
          "histogram": [
           {
            "marker": {
             "pattern": {
              "fillmode": "overlay",
              "size": 10,
              "solidity": 0.2
             }
            },
            "type": "histogram"
           }
          ],
          "histogram2d": [
           {
            "colorbar": {
             "outlinewidth": 0,
             "ticks": ""
            },
            "colorscale": [
             [
              0,
              "#0d0887"
             ],
             [
              0.1111111111111111,
              "#46039f"
             ],
             [
              0.2222222222222222,
              "#7201a8"
             ],
             [
              0.3333333333333333,
              "#9c179e"
             ],
             [
              0.4444444444444444,
              "#bd3786"
             ],
             [
              0.5555555555555556,
              "#d8576b"
             ],
             [
              0.6666666666666666,
              "#ed7953"
             ],
             [
              0.7777777777777778,
              "#fb9f3a"
             ],
             [
              0.8888888888888888,
              "#fdca26"
             ],
             [
              1,
              "#f0f921"
             ]
            ],
            "type": "histogram2d"
           }
          ],
          "histogram2dcontour": [
           {
            "colorbar": {
             "outlinewidth": 0,
             "ticks": ""
            },
            "colorscale": [
             [
              0,
              "#0d0887"
             ],
             [
              0.1111111111111111,
              "#46039f"
             ],
             [
              0.2222222222222222,
              "#7201a8"
             ],
             [
              0.3333333333333333,
              "#9c179e"
             ],
             [
              0.4444444444444444,
              "#bd3786"
             ],
             [
              0.5555555555555556,
              "#d8576b"
             ],
             [
              0.6666666666666666,
              "#ed7953"
             ],
             [
              0.7777777777777778,
              "#fb9f3a"
             ],
             [
              0.8888888888888888,
              "#fdca26"
             ],
             [
              1,
              "#f0f921"
             ]
            ],
            "type": "histogram2dcontour"
           }
          ],
          "mesh3d": [
           {
            "colorbar": {
             "outlinewidth": 0,
             "ticks": ""
            },
            "type": "mesh3d"
           }
          ],
          "parcoords": [
           {
            "line": {
             "colorbar": {
              "outlinewidth": 0,
              "ticks": ""
             }
            },
            "type": "parcoords"
           }
          ],
          "pie": [
           {
            "automargin": true,
            "type": "pie"
           }
          ],
          "scatter": [
           {
            "fillpattern": {
             "fillmode": "overlay",
             "size": 10,
             "solidity": 0.2
            },
            "type": "scatter"
           }
          ],
          "scatter3d": [
           {
            "line": {
             "colorbar": {
              "outlinewidth": 0,
              "ticks": ""
             }
            },
            "marker": {
             "colorbar": {
              "outlinewidth": 0,
              "ticks": ""
             }
            },
            "type": "scatter3d"
           }
          ],
          "scattercarpet": [
           {
            "marker": {
             "colorbar": {
              "outlinewidth": 0,
              "ticks": ""
             }
            },
            "type": "scattercarpet"
           }
          ],
          "scattergeo": [
           {
            "marker": {
             "colorbar": {
              "outlinewidth": 0,
              "ticks": ""
             }
            },
            "type": "scattergeo"
           }
          ],
          "scattergl": [
           {
            "marker": {
             "colorbar": {
              "outlinewidth": 0,
              "ticks": ""
             }
            },
            "type": "scattergl"
           }
          ],
          "scattermapbox": [
           {
            "marker": {
             "colorbar": {
              "outlinewidth": 0,
              "ticks": ""
             }
            },
            "type": "scattermapbox"
           }
          ],
          "scatterpolar": [
           {
            "marker": {
             "colorbar": {
              "outlinewidth": 0,
              "ticks": ""
             }
            },
            "type": "scatterpolar"
           }
          ],
          "scatterpolargl": [
           {
            "marker": {
             "colorbar": {
              "outlinewidth": 0,
              "ticks": ""
             }
            },
            "type": "scatterpolargl"
           }
          ],
          "scatterternary": [
           {
            "marker": {
             "colorbar": {
              "outlinewidth": 0,
              "ticks": ""
             }
            },
            "type": "scatterternary"
           }
          ],
          "surface": [
           {
            "colorbar": {
             "outlinewidth": 0,
             "ticks": ""
            },
            "colorscale": [
             [
              0,
              "#0d0887"
             ],
             [
              0.1111111111111111,
              "#46039f"
             ],
             [
              0.2222222222222222,
              "#7201a8"
             ],
             [
              0.3333333333333333,
              "#9c179e"
             ],
             [
              0.4444444444444444,
              "#bd3786"
             ],
             [
              0.5555555555555556,
              "#d8576b"
             ],
             [
              0.6666666666666666,
              "#ed7953"
             ],
             [
              0.7777777777777778,
              "#fb9f3a"
             ],
             [
              0.8888888888888888,
              "#fdca26"
             ],
             [
              1,
              "#f0f921"
             ]
            ],
            "type": "surface"
           }
          ],
          "table": [
           {
            "cells": {
             "fill": {
              "color": "#EBF0F8"
             },
             "line": {
              "color": "white"
             }
            },
            "header": {
             "fill": {
              "color": "#C8D4E3"
             },
             "line": {
              "color": "white"
             }
            },
            "type": "table"
           }
          ]
         },
         "layout": {
          "annotationdefaults": {
           "arrowcolor": "#2a3f5f",
           "arrowhead": 0,
           "arrowwidth": 1
          },
          "autotypenumbers": "strict",
          "coloraxis": {
           "colorbar": {
            "outlinewidth": 0,
            "ticks": ""
           }
          },
          "colorscale": {
           "diverging": [
            [
             0,
             "#8e0152"
            ],
            [
             0.1,
             "#c51b7d"
            ],
            [
             0.2,
             "#de77ae"
            ],
            [
             0.3,
             "#f1b6da"
            ],
            [
             0.4,
             "#fde0ef"
            ],
            [
             0.5,
             "#f7f7f7"
            ],
            [
             0.6,
             "#e6f5d0"
            ],
            [
             0.7,
             "#b8e186"
            ],
            [
             0.8,
             "#7fbc41"
            ],
            [
             0.9,
             "#4d9221"
            ],
            [
             1,
             "#276419"
            ]
           ],
           "sequential": [
            [
             0,
             "#0d0887"
            ],
            [
             0.1111111111111111,
             "#46039f"
            ],
            [
             0.2222222222222222,
             "#7201a8"
            ],
            [
             0.3333333333333333,
             "#9c179e"
            ],
            [
             0.4444444444444444,
             "#bd3786"
            ],
            [
             0.5555555555555556,
             "#d8576b"
            ],
            [
             0.6666666666666666,
             "#ed7953"
            ],
            [
             0.7777777777777778,
             "#fb9f3a"
            ],
            [
             0.8888888888888888,
             "#fdca26"
            ],
            [
             1,
             "#f0f921"
            ]
           ],
           "sequentialminus": [
            [
             0,
             "#0d0887"
            ],
            [
             0.1111111111111111,
             "#46039f"
            ],
            [
             0.2222222222222222,
             "#7201a8"
            ],
            [
             0.3333333333333333,
             "#9c179e"
            ],
            [
             0.4444444444444444,
             "#bd3786"
            ],
            [
             0.5555555555555556,
             "#d8576b"
            ],
            [
             0.6666666666666666,
             "#ed7953"
            ],
            [
             0.7777777777777778,
             "#fb9f3a"
            ],
            [
             0.8888888888888888,
             "#fdca26"
            ],
            [
             1,
             "#f0f921"
            ]
           ]
          },
          "colorway": [
           "#636efa",
           "#EF553B",
           "#00cc96",
           "#ab63fa",
           "#FFA15A",
           "#19d3f3",
           "#FF6692",
           "#B6E880",
           "#FF97FF",
           "#FECB52"
          ],
          "font": {
           "color": "#2a3f5f"
          },
          "geo": {
           "bgcolor": "white",
           "lakecolor": "white",
           "landcolor": "#E5ECF6",
           "showlakes": true,
           "showland": true,
           "subunitcolor": "white"
          },
          "hoverlabel": {
           "align": "left"
          },
          "hovermode": "closest",
          "mapbox": {
           "style": "light"
          },
          "paper_bgcolor": "white",
          "plot_bgcolor": "#E5ECF6",
          "polar": {
           "angularaxis": {
            "gridcolor": "white",
            "linecolor": "white",
            "ticks": ""
           },
           "bgcolor": "#E5ECF6",
           "radialaxis": {
            "gridcolor": "white",
            "linecolor": "white",
            "ticks": ""
           }
          },
          "scene": {
           "xaxis": {
            "backgroundcolor": "#E5ECF6",
            "gridcolor": "white",
            "gridwidth": 2,
            "linecolor": "white",
            "showbackground": true,
            "ticks": "",
            "zerolinecolor": "white"
           },
           "yaxis": {
            "backgroundcolor": "#E5ECF6",
            "gridcolor": "white",
            "gridwidth": 2,
            "linecolor": "white",
            "showbackground": true,
            "ticks": "",
            "zerolinecolor": "white"
           },
           "zaxis": {
            "backgroundcolor": "#E5ECF6",
            "gridcolor": "white",
            "gridwidth": 2,
            "linecolor": "white",
            "showbackground": true,
            "ticks": "",
            "zerolinecolor": "white"
           }
          },
          "shapedefaults": {
           "line": {
            "color": "#2a3f5f"
           }
          },
          "ternary": {
           "aaxis": {
            "gridcolor": "white",
            "linecolor": "white",
            "ticks": ""
           },
           "baxis": {
            "gridcolor": "white",
            "linecolor": "white",
            "ticks": ""
           },
           "bgcolor": "#E5ECF6",
           "caxis": {
            "gridcolor": "white",
            "linecolor": "white",
            "ticks": ""
           }
          },
          "title": {
           "x": 0.05
          },
          "xaxis": {
           "automargin": true,
           "gridcolor": "white",
           "linecolor": "white",
           "ticks": "",
           "title": {
            "standoff": 15
           },
           "zerolinecolor": "white",
           "zerolinewidth": 2
          },
          "yaxis": {
           "automargin": true,
           "gridcolor": "white",
           "linecolor": "white",
           "ticks": "",
           "title": {
            "standoff": 15
           },
           "zerolinecolor": "white",
           "zerolinewidth": 2
          }
         }
        },
        "title": {
         "text": "Prevalence rate of cancer per 100k residents"
        },
        "xaxis": {
         "title": {
          "text": "Year"
         }
        },
        "yaxis": {
         "title": {
          "text": "Rate for 100k res."
         }
        }
       }
      }
     },
     "metadata": {},
     "output_type": "display_data"
    }
   ],
   "source": [
    "fig = go.Figure()\n",
    "i=0\n",
    "for location, group_l in data_rate[data_rate.measure_name=='Prevalence'].groupby(['location_name','sex_name','year'])[['val','lower','upper']].mean().reset_index().groupby('location_name'):\n",
    "    for sex, group_s in group_l.groupby('sex_name'):\n",
    "        fig.add_trace(go.Scatter(x=group_s['year'], y=group_s['val'], name=f'{sex}/{location}' ,line_color=colors[i],opacity=1))\n",
    "        fig.add_trace(go.Scatter(x=group_s['year'], y=group_s['lower'], fill=None, mode='lines',hoverinfo='skip',line_color=colors[i],line_width=0.1,showlegend=False))\n",
    "        fig.add_trace(go.Scatter(x=group_s['year'], y=group_s['upper'], fill='tonexty', mode='lines',hoverinfo='skip',line_color=colors[i],line_width=0.1,showlegend=False))\n",
    "        i+=1\n",
    "fig.update_xaxes(title_text=\"Year\")\n",
    "fig.update_yaxes(title_text=\"Rate for 100k res.\")\n",
    "fig.update_layout(hovermode='x unified', title='Prevalence rate of cancer per 100k residents')\n",
    "fig.show()"
   ]
  },
  {
   "cell_type": "markdown",
   "metadata": {},
   "source": [
    "Above we can observe that the prevalence of cancer is much higher for women, it reflects the fact that our data includes ovarian and breast cancer, that are specific to women. Below we do twice the same plot, once without including these types of cancer and once with only these types to see how it will impact the graphs."
   ]
  },
  {
   "cell_type": "markdown",
   "metadata": {},
   "source": [
    "**ANALYSIS 5 : Total cases of cancer (ovarian and breast excepted) VS (ovarian and breast only) per 100k population**"
   ]
  },
  {
   "cell_type": "markdown",
   "metadata": {},
   "source": [
    "We observe that we recover a hierarchy similar to the one observed in the average percent of death. From 2000, the prevalence rate of males having cancer in Switzerland is stable compared to the one of males in european union that kept increasing. We do not observe such a difference for females. When considering only breast and ovarian cancers, we observe as expected that the the rate for males falls to zero, while the rate for swiss females has been higher than europeans until 2014, they catch up at this point."
   ]
  },
  {
   "cell_type": "code",
   "execution_count": 33,
   "metadata": {},
   "outputs": [
    {
     "data": {
      "application/vnd.plotly.v1+json": {
       "config": {
        "plotlyServerURL": "https://plot.ly"
       },
       "data": [
        {
         "line": {
          "color": "rgb(127, 60, 141)"
         },
         "name": "Female/European Union",
         "opacity": 1,
         "type": "scatter",
         "x": [
          1990,
          1991,
          1992,
          1993,
          1994,
          1995,
          1996,
          1997,
          1998,
          1999,
          2000,
          2001,
          2002,
          2003,
          2004,
          2005,
          2006,
          2007,
          2008,
          2009,
          2010,
          2011,
          2012,
          2013,
          2014,
          2015,
          2016,
          2017,
          2018,
          2019
         ],
         "y": [
          62.14136785325227,
          63.39068714981038,
          64.49400557345305,
          66.00581065554705,
          67.00905844237145,
          67.94932962210805,
          68.83679993988778,
          70.0196308627182,
          71.6366813382489,
          72.8924854125197,
          73.7751225239464,
          74.37950322540517,
          75.45909306615889,
          76.69753705703756,
          76.98803409182345,
          77.54879682482118,
          77.63751513399501,
          78.20061109244546,
          78.90130277378579,
          79.19542411407272,
          78.72460022134332,
          78.74602122161156,
          78.59144827968146,
          78.64878487908209,
          78.34238213716347,
          78.91187335203496,
          78.54707357540113,
          78.53351877249504,
          78.79500120202013,
          79.1132618844132
         ]
        },
        {
         "hoverinfo": "skip",
         "line": {
          "color": "rgb(127, 60, 141)",
          "width": 0.1
         },
         "mode": "lines",
         "showlegend": false,
         "type": "scatter",
         "x": [
          1990,
          1991,
          1992,
          1993,
          1994,
          1995,
          1996,
          1997,
          1998,
          1999,
          2000,
          2001,
          2002,
          2003,
          2004,
          2005,
          2006,
          2007,
          2008,
          2009,
          2010,
          2011,
          2012,
          2013,
          2014,
          2015,
          2016,
          2017,
          2018,
          2019
         ],
         "y": [
          57.27138213634253,
          58.52553209041775,
          59.57180385224715,
          60.94754895610951,
          61.767689205280476,
          62.50072367983147,
          63.40011187860095,
          64.58412525760075,
          65.98995099939677,
          67.07429854363068,
          67.76383090800675,
          68.33100309825804,
          69.31130902762871,
          70.36695688517038,
          70.45306962797217,
          70.79426277315532,
          70.85304973988609,
          71.33267282313665,
          71.86183817213922,
          71.98836529826917,
          71.32240643276236,
          71.33609475258007,
          71.0944725292471,
          70.97990321090415,
          70.51763639239903,
          70.8064389523214,
          70.05890033123299,
          68.36180858626928,
          67.50518340534148,
          66.1192304228572
         ]
        },
        {
         "fill": "tonexty",
         "hoverinfo": "skip",
         "line": {
          "color": "rgb(127, 60, 141)",
          "width": 0.1
         },
         "mode": "lines",
         "showlegend": false,
         "type": "scatter",
         "x": [
          1990,
          1991,
          1992,
          1993,
          1994,
          1995,
          1996,
          1997,
          1998,
          1999,
          2000,
          2001,
          2002,
          2003,
          2004,
          2005,
          2006,
          2007,
          2008,
          2009,
          2010,
          2011,
          2012,
          2013,
          2014,
          2015,
          2016,
          2017,
          2018,
          2019
         ],
         "y": [
          67.43978489183831,
          68.53170753981793,
          69.53730256036673,
          71.09777671484606,
          72.17980226120153,
          73.27783223763817,
          74.02430814918468,
          75.11588722853854,
          76.80216809469393,
          78.21556565400148,
          79.2519180067573,
          79.70518680975786,
          80.80621660136585,
          82.20396180381992,
          82.54434011347928,
          83.26904314381531,
          83.26098821072202,
          83.84437689287824,
          84.70715587516021,
          85.24492864798887,
          84.93604829302751,
          84.99266155919373,
          84.85243653137894,
          85.07411462539724,
          85.01433200008533,
          85.97366360271656,
          86.11135971427093,
          88.53445988013333,
          90.31663827908348,
          92.55708124781235
         ]
        },
        {
         "line": {
          "color": "rgb(17, 165, 121)"
         },
         "name": "Male/European Union",
         "opacity": 1,
         "type": "scatter",
         "x": [
          1990,
          1991,
          1992,
          1993,
          1994,
          1995,
          1996,
          1997,
          1998,
          1999,
          2000,
          2001,
          2002,
          2003,
          2004,
          2005,
          2006,
          2007,
          2008,
          2009,
          2010,
          2011,
          2012,
          2013,
          2014,
          2015,
          2016,
          2017,
          2018,
          2019
         ],
         "y": [
          99.735665884844,
          102.32947033651851,
          104.53502744298855,
          107.00600578829237,
          108.88595518004139,
          110.5824966615718,
          111.83388910903219,
          113.39315749491885,
          115.70686396683378,
          117.73509939384758,
          118.45045463804031,
          119.74089325510536,
          121.77437931945713,
          124.42451448289044,
          125.16091335257458,
          126.20598085457563,
          126.69127306803615,
          127.65567008740163,
          128.62936038536824,
          129.32469307769205,
          128.88097536336136,
          128.0218813129358,
          127.68646101758823,
          127.29549418073705,
          126.47098406959964,
          127.55372545565294,
          126.29896812692692,
          126.04912742733995,
          126.01706747667255,
          126.11760996641758
         ]
        },
        {
         "hoverinfo": "skip",
         "line": {
          "color": "rgb(17, 165, 121)",
          "width": 0.1
         },
         "mode": "lines",
         "showlegend": false,
         "type": "scatter",
         "x": [
          1990,
          1991,
          1992,
          1993,
          1994,
          1995,
          1996,
          1997,
          1998,
          1999,
          2000,
          2001,
          2002,
          2003,
          2004,
          2005,
          2006,
          2007,
          2008,
          2009,
          2010,
          2011,
          2012,
          2013,
          2014,
          2015,
          2016,
          2017,
          2018,
          2019
         ],
         "y": [
          93.64336840847852,
          96.3049564178332,
          98.54041794343594,
          100.91300053602737,
          102.60750811813608,
          104.03016410693306,
          105.37336661218194,
          106.97866503348878,
          109.11055431310301,
          110.86611776800193,
          111.26121903717043,
          112.59082551966972,
          114.55455657497836,
          116.96189260032375,
          117.48653638359076,
          118.21557329328,
          118.74951695486318,
          119.66152397925595,
          120.33916561804179,
          120.65023640823968,
          119.94227648420325,
          119.22911586980115,
          118.79323609042098,
          118.17907006576283,
          116.95760710322551,
          117.49815410388344,
          115.56851435467595,
          112.18972024007283,
          109.53549741024852,
          106.68800716011451
         ]
        },
        {
         "fill": "tonexty",
         "hoverinfo": "skip",
         "line": {
          "color": "rgb(17, 165, 121)",
          "width": 0.1
         },
         "mode": "lines",
         "showlegend": false,
         "type": "scatter",
         "x": [
          1990,
          1991,
          1992,
          1993,
          1994,
          1995,
          1996,
          1997,
          1998,
          1999,
          2000,
          2001,
          2002,
          2003,
          2004,
          2005,
          2006,
          2007,
          2008,
          2009,
          2010,
          2011,
          2012,
          2013,
          2014,
          2015,
          2016,
          2017,
          2018,
          2019
         ],
         "y": [
          106.05132838718475,
          108.44613099717257,
          110.55046112303636,
          113.10604067283235,
          115.16076197126051,
          117.10970381814478,
          118.19881114668843,
          119.62186922023636,
          122.05407120818542,
          124.27163939588051,
          125.32360610230872,
          126.44942978243407,
          128.43743627609553,
          131.30014650995952,
          132.18193843833978,
          133.45931970320294,
          133.80128759659027,
          134.71563920717534,
          135.90496101776148,
          136.91763810353243,
          136.83001640176622,
          135.9153866519439,
          135.62252595306916,
          135.49458452734422,
          135.14717136440123,
          136.85933527676332,
          136.3360748763625,
          140.16807273782487,
          143.08575496481907,
          147.0338686962541
         ]
        },
        {
         "line": {
          "color": "rgb(57, 105, 172)"
         },
         "name": "Female/Switzerland",
         "opacity": 1,
         "type": "scatter",
         "x": [
          1990,
          1991,
          1992,
          1993,
          1994,
          1995,
          1996,
          1997,
          1998,
          1999,
          2000,
          2001,
          2002,
          2003,
          2004,
          2005,
          2006,
          2007,
          2008,
          2009,
          2010,
          2011,
          2012,
          2013,
          2014,
          2015,
          2016,
          2017,
          2018,
          2019
         ],
         "y": [
          58.247677355818276,
          60.22106181187672,
          62.27502607866249,
          64.77143907652588,
          66.89662503107385,
          70.60886347402001,
          72.39207249450288,
          75.85634364200874,
          78.13661491396371,
          80.02632564600324,
          80.85231708941046,
          81.99368016791684,
          83.06096353919405,
          83.2742414478097,
          82.32684559154292,
          82.32727757769128,
          83.27155934957247,
          83.38595081766177,
          82.69882149943462,
          82.833348110562,
          83.14551813092487,
          81.94216046209083,
          81.72007983146842,
          80.13550038233525,
          78.36284275441888,
          77.14700818469265,
          78.87426055777826,
          79.66114244787522,
          79.10260290475543,
          78.20201867360964
         ]
        },
        {
         "hoverinfo": "skip",
         "line": {
          "color": "rgb(57, 105, 172)",
          "width": 0.1
         },
         "mode": "lines",
         "showlegend": false,
         "type": "scatter",
         "x": [
          1990,
          1991,
          1992,
          1993,
          1994,
          1995,
          1996,
          1997,
          1998,
          1999,
          2000,
          2001,
          2002,
          2003,
          2004,
          2005,
          2006,
          2007,
          2008,
          2009,
          2010,
          2011,
          2012,
          2013,
          2014,
          2015,
          2016,
          2017,
          2018,
          2019
         ],
         "y": [
          46.091070369420834,
          48.207951301140945,
          49.95176209506091,
          51.830673214835244,
          53.30927490199209,
          55.64765810366059,
          57.37917701333129,
          60.164859732767546,
          61.7880367452048,
          62.916306543500845,
          62.965932780684184,
          64.2004454793124,
          65.14207542861236,
          65.19645200921994,
          64.22832174083635,
          63.63515636736764,
          64.7926217528749,
          65.10453864524025,
          64.63373559794427,
          64.46541737914083,
          64.03146673721788,
          63.53921844211658,
          63.296072532406725,
          61.87772029768058,
          59.95561877834535,
          58.2227766945581,
          59.03086304173314,
          57.64754416796602,
          55.81111904368594,
          52.447819213071355
         ]
        },
        {
         "fill": "tonexty",
         "hoverinfo": "skip",
         "line": {
          "color": "rgb(57, 105, 172)",
          "width": 0.1
         },
         "mode": "lines",
         "showlegend": false,
         "type": "scatter",
         "x": [
          1990,
          1991,
          1992,
          1993,
          1994,
          1995,
          1996,
          1997,
          1998,
          1999,
          2000,
          2001,
          2002,
          2003,
          2004,
          2005,
          2006,
          2007,
          2008,
          2009,
          2010,
          2011,
          2012,
          2013,
          2014,
          2015,
          2016,
          2017,
          2018,
          2019
         ],
         "y": [
          75.00308500703734,
          76.74266963623113,
          78.82676011924327,
          82.01402136331565,
          85.06832586799476,
          90.05796352260892,
          91.47578708715251,
          95.47539493505087,
          98.2868476554635,
          101.09749112724045,
          102.76731470721455,
          103.6924720609387,
          104.69382742454751,
          104.69424109809162,
          103.74332895987735,
          104.54063506453433,
          105.20433228716718,
          104.92373738268722,
          103.88046413777012,
          104.45394931721339,
          105.54184213166661,
          103.4705701341366,
          103.22862110681012,
          101.47795623250705,
          100.19539349394945,
          99.85498040269248,
          102.84191643015664,
          107.56099913639703,
          109.23328616515104,
          112.34190085052039
         ]
        },
        {
         "line": {
          "color": "rgb(242, 183, 1)"
         },
         "name": "Male/Switzerland",
         "opacity": 1,
         "type": "scatter",
         "x": [
          1990,
          1991,
          1992,
          1993,
          1994,
          1995,
          1996,
          1997,
          1998,
          1999,
          2000,
          2001,
          2002,
          2003,
          2004,
          2005,
          2006,
          2007,
          2008,
          2009,
          2010,
          2011,
          2012,
          2013,
          2014,
          2015,
          2016,
          2017,
          2018,
          2019
         ],
         "y": [
          92.74077742080253,
          96.86586396462899,
          99.27027564157062,
          100.95445428810415,
          104.54931139024785,
          108.17724721921505,
          108.75052793921496,
          112.34220556294242,
          115.85859448273341,
          116.25311988784442,
          118.65636445472641,
          117.67402148929736,
          117.79300389517806,
          118.70741993246614,
          118.15655728294107,
          117.50081986005767,
          116.22855798555477,
          115.96232253924374,
          114.77253044495497,
          115.26308641067314,
          113.10755835687934,
          111.81039191156448,
          110.37104541798708,
          110.13308077206726,
          108.00379472801669,
          106.09836184877035,
          104.32238627064103,
          103.61055598259514,
          102.73702885756569,
          102.07877448045868
         ]
        },
        {
         "hoverinfo": "skip",
         "line": {
          "color": "rgb(242, 183, 1)",
          "width": 0.1
         },
         "mode": "lines",
         "showlegend": false,
         "type": "scatter",
         "x": [
          1990,
          1991,
          1992,
          1993,
          1994,
          1995,
          1996,
          1997,
          1998,
          1999,
          2000,
          2001,
          2002,
          2003,
          2004,
          2005,
          2006,
          2007,
          2008,
          2009,
          2010,
          2011,
          2012,
          2013,
          2014,
          2015,
          2016,
          2017,
          2018,
          2019
         ],
         "y": [
          76.26647838557176,
          80.26446250992151,
          82.30659758028897,
          83.50238916482647,
          86.11611885913847,
          88.45019813509073,
          89.5832597628024,
          92.6505053915422,
          95.43860807541758,
          95.29015924507493,
          96.40133482155217,
          96.22946920078057,
          96.43355716405982,
          96.9285350490951,
          95.81297460411855,
          94.45685446656104,
          94.17283432703265,
          94.23239015731173,
          92.99454494621739,
          92.78206904245921,
          90.0965548231108,
          89.56189315838385,
          88.56033539427561,
          87.95792585643396,
          85.12585708872109,
          82.27373278911821,
          79.95382940995205,
          75.33068191252582,
          72.23313964543318,
          68.10419036459584
         ]
        },
        {
         "fill": "tonexty",
         "hoverinfo": "skip",
         "line": {
          "color": "rgb(242, 183, 1)",
          "width": 0.1
         },
         "mode": "lines",
         "showlegend": false,
         "type": "scatter",
         "x": [
          1990,
          1991,
          1992,
          1993,
          1994,
          1995,
          1996,
          1997,
          1998,
          1999,
          2000,
          2001,
          2002,
          2003,
          2004,
          2005,
          2006,
          2007,
          2008,
          2009,
          2010,
          2011,
          2012,
          2013,
          2014,
          2015,
          2016,
          2017,
          2018,
          2019
         ],
         "y": [
          114.17511226866986,
          118.30430118343774,
          120.72468645682781,
          122.64377661465024,
          127.38557246915228,
          132.59053113743408,
          132.44143724037272,
          136.65086499217358,
          141.14180044728,
          142.1681433927481,
          146.1826501806342,
          144.1466517309344,
          143.7949051509373,
          145.3356764497817,
          145.50488248021753,
          145.74034780108406,
          143.48327128845156,
          142.58747819380582,
          141.35537934278082,
          142.52695483229,
          141.07412826050586,
          138.9123571520517,
          136.80670904454743,
          137.07484000819053,
          135.4759353342596,
          135.0029534152309,
          134.42065418115376,
          139.59032241796723,
          142.04183813673325,
          147.37641458225585
         ]
        }
       ],
       "layout": {
        "hovermode": "x unified",
        "template": {
         "data": {
          "bar": [
           {
            "error_x": {
             "color": "#2a3f5f"
            },
            "error_y": {
             "color": "#2a3f5f"
            },
            "marker": {
             "line": {
              "color": "#E5ECF6",
              "width": 0.5
             },
             "pattern": {
              "fillmode": "overlay",
              "size": 10,
              "solidity": 0.2
             }
            },
            "type": "bar"
           }
          ],
          "barpolar": [
           {
            "marker": {
             "line": {
              "color": "#E5ECF6",
              "width": 0.5
             },
             "pattern": {
              "fillmode": "overlay",
              "size": 10,
              "solidity": 0.2
             }
            },
            "type": "barpolar"
           }
          ],
          "carpet": [
           {
            "aaxis": {
             "endlinecolor": "#2a3f5f",
             "gridcolor": "white",
             "linecolor": "white",
             "minorgridcolor": "white",
             "startlinecolor": "#2a3f5f"
            },
            "baxis": {
             "endlinecolor": "#2a3f5f",
             "gridcolor": "white",
             "linecolor": "white",
             "minorgridcolor": "white",
             "startlinecolor": "#2a3f5f"
            },
            "type": "carpet"
           }
          ],
          "choropleth": [
           {
            "colorbar": {
             "outlinewidth": 0,
             "ticks": ""
            },
            "type": "choropleth"
           }
          ],
          "contour": [
           {
            "colorbar": {
             "outlinewidth": 0,
             "ticks": ""
            },
            "colorscale": [
             [
              0,
              "#0d0887"
             ],
             [
              0.1111111111111111,
              "#46039f"
             ],
             [
              0.2222222222222222,
              "#7201a8"
             ],
             [
              0.3333333333333333,
              "#9c179e"
             ],
             [
              0.4444444444444444,
              "#bd3786"
             ],
             [
              0.5555555555555556,
              "#d8576b"
             ],
             [
              0.6666666666666666,
              "#ed7953"
             ],
             [
              0.7777777777777778,
              "#fb9f3a"
             ],
             [
              0.8888888888888888,
              "#fdca26"
             ],
             [
              1,
              "#f0f921"
             ]
            ],
            "type": "contour"
           }
          ],
          "contourcarpet": [
           {
            "colorbar": {
             "outlinewidth": 0,
             "ticks": ""
            },
            "type": "contourcarpet"
           }
          ],
          "heatmap": [
           {
            "colorbar": {
             "outlinewidth": 0,
             "ticks": ""
            },
            "colorscale": [
             [
              0,
              "#0d0887"
             ],
             [
              0.1111111111111111,
              "#46039f"
             ],
             [
              0.2222222222222222,
              "#7201a8"
             ],
             [
              0.3333333333333333,
              "#9c179e"
             ],
             [
              0.4444444444444444,
              "#bd3786"
             ],
             [
              0.5555555555555556,
              "#d8576b"
             ],
             [
              0.6666666666666666,
              "#ed7953"
             ],
             [
              0.7777777777777778,
              "#fb9f3a"
             ],
             [
              0.8888888888888888,
              "#fdca26"
             ],
             [
              1,
              "#f0f921"
             ]
            ],
            "type": "heatmap"
           }
          ],
          "heatmapgl": [
           {
            "colorbar": {
             "outlinewidth": 0,
             "ticks": ""
            },
            "colorscale": [
             [
              0,
              "#0d0887"
             ],
             [
              0.1111111111111111,
              "#46039f"
             ],
             [
              0.2222222222222222,
              "#7201a8"
             ],
             [
              0.3333333333333333,
              "#9c179e"
             ],
             [
              0.4444444444444444,
              "#bd3786"
             ],
             [
              0.5555555555555556,
              "#d8576b"
             ],
             [
              0.6666666666666666,
              "#ed7953"
             ],
             [
              0.7777777777777778,
              "#fb9f3a"
             ],
             [
              0.8888888888888888,
              "#fdca26"
             ],
             [
              1,
              "#f0f921"
             ]
            ],
            "type": "heatmapgl"
           }
          ],
          "histogram": [
           {
            "marker": {
             "pattern": {
              "fillmode": "overlay",
              "size": 10,
              "solidity": 0.2
             }
            },
            "type": "histogram"
           }
          ],
          "histogram2d": [
           {
            "colorbar": {
             "outlinewidth": 0,
             "ticks": ""
            },
            "colorscale": [
             [
              0,
              "#0d0887"
             ],
             [
              0.1111111111111111,
              "#46039f"
             ],
             [
              0.2222222222222222,
              "#7201a8"
             ],
             [
              0.3333333333333333,
              "#9c179e"
             ],
             [
              0.4444444444444444,
              "#bd3786"
             ],
             [
              0.5555555555555556,
              "#d8576b"
             ],
             [
              0.6666666666666666,
              "#ed7953"
             ],
             [
              0.7777777777777778,
              "#fb9f3a"
             ],
             [
              0.8888888888888888,
              "#fdca26"
             ],
             [
              1,
              "#f0f921"
             ]
            ],
            "type": "histogram2d"
           }
          ],
          "histogram2dcontour": [
           {
            "colorbar": {
             "outlinewidth": 0,
             "ticks": ""
            },
            "colorscale": [
             [
              0,
              "#0d0887"
             ],
             [
              0.1111111111111111,
              "#46039f"
             ],
             [
              0.2222222222222222,
              "#7201a8"
             ],
             [
              0.3333333333333333,
              "#9c179e"
             ],
             [
              0.4444444444444444,
              "#bd3786"
             ],
             [
              0.5555555555555556,
              "#d8576b"
             ],
             [
              0.6666666666666666,
              "#ed7953"
             ],
             [
              0.7777777777777778,
              "#fb9f3a"
             ],
             [
              0.8888888888888888,
              "#fdca26"
             ],
             [
              1,
              "#f0f921"
             ]
            ],
            "type": "histogram2dcontour"
           }
          ],
          "mesh3d": [
           {
            "colorbar": {
             "outlinewidth": 0,
             "ticks": ""
            },
            "type": "mesh3d"
           }
          ],
          "parcoords": [
           {
            "line": {
             "colorbar": {
              "outlinewidth": 0,
              "ticks": ""
             }
            },
            "type": "parcoords"
           }
          ],
          "pie": [
           {
            "automargin": true,
            "type": "pie"
           }
          ],
          "scatter": [
           {
            "fillpattern": {
             "fillmode": "overlay",
             "size": 10,
             "solidity": 0.2
            },
            "type": "scatter"
           }
          ],
          "scatter3d": [
           {
            "line": {
             "colorbar": {
              "outlinewidth": 0,
              "ticks": ""
             }
            },
            "marker": {
             "colorbar": {
              "outlinewidth": 0,
              "ticks": ""
             }
            },
            "type": "scatter3d"
           }
          ],
          "scattercarpet": [
           {
            "marker": {
             "colorbar": {
              "outlinewidth": 0,
              "ticks": ""
             }
            },
            "type": "scattercarpet"
           }
          ],
          "scattergeo": [
           {
            "marker": {
             "colorbar": {
              "outlinewidth": 0,
              "ticks": ""
             }
            },
            "type": "scattergeo"
           }
          ],
          "scattergl": [
           {
            "marker": {
             "colorbar": {
              "outlinewidth": 0,
              "ticks": ""
             }
            },
            "type": "scattergl"
           }
          ],
          "scattermapbox": [
           {
            "marker": {
             "colorbar": {
              "outlinewidth": 0,
              "ticks": ""
             }
            },
            "type": "scattermapbox"
           }
          ],
          "scatterpolar": [
           {
            "marker": {
             "colorbar": {
              "outlinewidth": 0,
              "ticks": ""
             }
            },
            "type": "scatterpolar"
           }
          ],
          "scatterpolargl": [
           {
            "marker": {
             "colorbar": {
              "outlinewidth": 0,
              "ticks": ""
             }
            },
            "type": "scatterpolargl"
           }
          ],
          "scatterternary": [
           {
            "marker": {
             "colorbar": {
              "outlinewidth": 0,
              "ticks": ""
             }
            },
            "type": "scatterternary"
           }
          ],
          "surface": [
           {
            "colorbar": {
             "outlinewidth": 0,
             "ticks": ""
            },
            "colorscale": [
             [
              0,
              "#0d0887"
             ],
             [
              0.1111111111111111,
              "#46039f"
             ],
             [
              0.2222222222222222,
              "#7201a8"
             ],
             [
              0.3333333333333333,
              "#9c179e"
             ],
             [
              0.4444444444444444,
              "#bd3786"
             ],
             [
              0.5555555555555556,
              "#d8576b"
             ],
             [
              0.6666666666666666,
              "#ed7953"
             ],
             [
              0.7777777777777778,
              "#fb9f3a"
             ],
             [
              0.8888888888888888,
              "#fdca26"
             ],
             [
              1,
              "#f0f921"
             ]
            ],
            "type": "surface"
           }
          ],
          "table": [
           {
            "cells": {
             "fill": {
              "color": "#EBF0F8"
             },
             "line": {
              "color": "white"
             }
            },
            "header": {
             "fill": {
              "color": "#C8D4E3"
             },
             "line": {
              "color": "white"
             }
            },
            "type": "table"
           }
          ]
         },
         "layout": {
          "annotationdefaults": {
           "arrowcolor": "#2a3f5f",
           "arrowhead": 0,
           "arrowwidth": 1
          },
          "autotypenumbers": "strict",
          "coloraxis": {
           "colorbar": {
            "outlinewidth": 0,
            "ticks": ""
           }
          },
          "colorscale": {
           "diverging": [
            [
             0,
             "#8e0152"
            ],
            [
             0.1,
             "#c51b7d"
            ],
            [
             0.2,
             "#de77ae"
            ],
            [
             0.3,
             "#f1b6da"
            ],
            [
             0.4,
             "#fde0ef"
            ],
            [
             0.5,
             "#f7f7f7"
            ],
            [
             0.6,
             "#e6f5d0"
            ],
            [
             0.7,
             "#b8e186"
            ],
            [
             0.8,
             "#7fbc41"
            ],
            [
             0.9,
             "#4d9221"
            ],
            [
             1,
             "#276419"
            ]
           ],
           "sequential": [
            [
             0,
             "#0d0887"
            ],
            [
             0.1111111111111111,
             "#46039f"
            ],
            [
             0.2222222222222222,
             "#7201a8"
            ],
            [
             0.3333333333333333,
             "#9c179e"
            ],
            [
             0.4444444444444444,
             "#bd3786"
            ],
            [
             0.5555555555555556,
             "#d8576b"
            ],
            [
             0.6666666666666666,
             "#ed7953"
            ],
            [
             0.7777777777777778,
             "#fb9f3a"
            ],
            [
             0.8888888888888888,
             "#fdca26"
            ],
            [
             1,
             "#f0f921"
            ]
           ],
           "sequentialminus": [
            [
             0,
             "#0d0887"
            ],
            [
             0.1111111111111111,
             "#46039f"
            ],
            [
             0.2222222222222222,
             "#7201a8"
            ],
            [
             0.3333333333333333,
             "#9c179e"
            ],
            [
             0.4444444444444444,
             "#bd3786"
            ],
            [
             0.5555555555555556,
             "#d8576b"
            ],
            [
             0.6666666666666666,
             "#ed7953"
            ],
            [
             0.7777777777777778,
             "#fb9f3a"
            ],
            [
             0.8888888888888888,
             "#fdca26"
            ],
            [
             1,
             "#f0f921"
            ]
           ]
          },
          "colorway": [
           "#636efa",
           "#EF553B",
           "#00cc96",
           "#ab63fa",
           "#FFA15A",
           "#19d3f3",
           "#FF6692",
           "#B6E880",
           "#FF97FF",
           "#FECB52"
          ],
          "font": {
           "color": "#2a3f5f"
          },
          "geo": {
           "bgcolor": "white",
           "lakecolor": "white",
           "landcolor": "#E5ECF6",
           "showlakes": true,
           "showland": true,
           "subunitcolor": "white"
          },
          "hoverlabel": {
           "align": "left"
          },
          "hovermode": "closest",
          "mapbox": {
           "style": "light"
          },
          "paper_bgcolor": "white",
          "plot_bgcolor": "#E5ECF6",
          "polar": {
           "angularaxis": {
            "gridcolor": "white",
            "linecolor": "white",
            "ticks": ""
           },
           "bgcolor": "#E5ECF6",
           "radialaxis": {
            "gridcolor": "white",
            "linecolor": "white",
            "ticks": ""
           }
          },
          "scene": {
           "xaxis": {
            "backgroundcolor": "#E5ECF6",
            "gridcolor": "white",
            "gridwidth": 2,
            "linecolor": "white",
            "showbackground": true,
            "ticks": "",
            "zerolinecolor": "white"
           },
           "yaxis": {
            "backgroundcolor": "#E5ECF6",
            "gridcolor": "white",
            "gridwidth": 2,
            "linecolor": "white",
            "showbackground": true,
            "ticks": "",
            "zerolinecolor": "white"
           },
           "zaxis": {
            "backgroundcolor": "#E5ECF6",
            "gridcolor": "white",
            "gridwidth": 2,
            "linecolor": "white",
            "showbackground": true,
            "ticks": "",
            "zerolinecolor": "white"
           }
          },
          "shapedefaults": {
           "line": {
            "color": "#2a3f5f"
           }
          },
          "ternary": {
           "aaxis": {
            "gridcolor": "white",
            "linecolor": "white",
            "ticks": ""
           },
           "baxis": {
            "gridcolor": "white",
            "linecolor": "white",
            "ticks": ""
           },
           "bgcolor": "#E5ECF6",
           "caxis": {
            "gridcolor": "white",
            "linecolor": "white",
            "ticks": ""
           }
          },
          "title": {
           "x": 0.05
          },
          "xaxis": {
           "automargin": true,
           "gridcolor": "white",
           "linecolor": "white",
           "ticks": "",
           "title": {
            "standoff": 15
           },
           "zerolinecolor": "white",
           "zerolinewidth": 2
          },
          "yaxis": {
           "automargin": true,
           "gridcolor": "white",
           "linecolor": "white",
           "ticks": "",
           "title": {
            "standoff": 15
           },
           "zerolinecolor": "white",
           "zerolinewidth": 2
          }
         }
        },
        "title": {
         "text": "Prevalence rate of cancer (ovarian and breast excepted) per 100k population"
        },
        "xaxis": {
         "title": {
          "text": "Year"
         }
        },
        "yaxis": {
         "title": {
          "text": "Rate for 100k"
         }
        }
       }
      }
     },
     "metadata": {},
     "output_type": "display_data"
    }
   ],
   "source": [
    "fig = go.Figure()\n",
    "i=0\n",
    "for location, group_l in data_rate[(data_rate.measure_name=='Prevalence') & (data_rate.cause_name!='Ovarian cancer') & (data_rate.cause_name!='Breast cancer')].groupby(['location_name','sex_name','year'])[['val','lower','upper']].mean().reset_index().groupby('location_name'):\n",
    "    for sex, group_s in group_l.groupby('sex_name'):\n",
    "        fig.add_trace(go.Scatter(x=group_s['year'], y=group_s['val'], name=f'{sex}/{location}' ,line_color=colors[i],opacity=1))\n",
    "        fig.add_trace(go.Scatter(x=group_s['year'], y=group_s['lower'], fill=None, mode='lines',hoverinfo='skip',line_color=colors[i],line_width=0.1,showlegend=False))\n",
    "        fig.add_trace(go.Scatter(x=group_s['year'], y=group_s['upper'], fill='tonexty', mode='lines',hoverinfo='skip',line_color=colors[i],line_width=0.1,showlegend=False))\n",
    "        i+=1\n",
    "fig.update_xaxes(title_text=\"Year\")\n",
    "fig.update_yaxes(title_text=\"Rate for 100k\")\n",
    "fig.update_layout(hovermode='x unified', title='Prevalence rate of cancer (ovarian and breast excepted) per 100k population')\n",
    "fig.show()"
   ]
  },
  {
   "cell_type": "code",
   "execution_count": 34,
   "metadata": {},
   "outputs": [
    {
     "data": {
      "application/vnd.plotly.v1+json": {
       "config": {
        "plotlyServerURL": "https://plot.ly"
       },
       "data": [
        {
         "line": {
          "color": "rgb(127, 60, 141)"
         },
         "name": "Female/European Union",
         "opacity": 1,
         "type": "scatter",
         "x": [
          1990,
          1991,
          1992,
          1993,
          1994,
          1995,
          1996,
          1997,
          1998,
          1999,
          2000,
          2001,
          2002,
          2003,
          2004,
          2005,
          2006,
          2007,
          2008,
          2009,
          2010,
          2011,
          2012,
          2013,
          2014,
          2015,
          2016,
          2017,
          2018,
          2019
         ],
         "y": [
          702.79667230161,
          708.8967993612459,
          715.0076718766562,
          722.1688939164369,
          728.3487382245515,
          735.966617365682,
          743.0573732785945,
          751.0869346310675,
          759.8666586100736,
          767.388618689278,
          772.9228726221007,
          778.0930595878182,
          784.9269847717915,
          791.8551902401776,
          796.3549121410653,
          799.7264890973669,
          802.4137210215761,
          806.264295245484,
          810.1152845287819,
          812.5167441265637,
          811.4245529459581,
          810.814952084306,
          808.868586514433,
          806.5027033307257,
          803.283003245153,
          800.9675094479057,
          796.7550347842434,
          792.5660597939793,
          790.327132104512,
          788.8728444951001
         ]
        },
        {
         "hoverinfo": "skip",
         "line": {
          "color": "rgb(127, 60, 141)",
          "width": 0.1
         },
         "mode": "lines",
         "showlegend": false,
         "type": "scatter",
         "x": [
          1990,
          1991,
          1992,
          1993,
          1994,
          1995,
          1996,
          1997,
          1998,
          1999,
          2000,
          2001,
          2002,
          2003,
          2004,
          2005,
          2006,
          2007,
          2008,
          2009,
          2010,
          2011,
          2012,
          2013,
          2014,
          2015,
          2016,
          2017,
          2018,
          2019
         ],
         "y": [
          623.1939760419555,
          641.0066977566933,
          656.0938079966573,
          669.400176825412,
          678.5785222319739,
          686.7853906724597,
          695.8107586901526,
          705.1904360896922,
          714.6725826850151,
          722.3719846160883,
          726.9003260448161,
          733.2576206972136,
          740.6591518768271,
          747.3873382504671,
          750.7614344623288,
          752.8040706822752,
          756.9598566713937,
          761.2173980868231,
          763.8227730771057,
          764.5203178168509,
          761.574854323154,
          761.9740803790731,
          759.771979985274,
          756.9704832268661,
          751.6828819388675,
          746.4594845497971,
          736.7551562853881,
          718.0910312240735,
          710.9571179883791,
          694.4902833865237
         ]
        },
        {
         "fill": "tonexty",
         "hoverinfo": "skip",
         "line": {
          "color": "rgb(127, 60, 141)",
          "width": 0.1
         },
         "mode": "lines",
         "showlegend": false,
         "type": "scatter",
         "x": [
          1990,
          1991,
          1992,
          1993,
          1994,
          1995,
          1996,
          1997,
          1998,
          1999,
          2000,
          2001,
          2002,
          2003,
          2004,
          2005,
          2006,
          2007,
          2008,
          2009,
          2010,
          2011,
          2012,
          2013,
          2014,
          2015,
          2016,
          2017,
          2018,
          2019
         ],
         "y": [
          799.7771094012276,
          790.7528922397003,
          785.2787219812344,
          782.991072968738,
          784.9687191301641,
          791.328897764257,
          795.9362153859083,
          801.9659444744985,
          810.0642806954627,
          817.8030375325371,
          823.4906945715688,
          827.1756875399212,
          833.0355595228117,
          839.543146932396,
          844.5168450006433,
          849.7442924255889,
          851.6120316473264,
          855.3862684831779,
          860.2753547893981,
          863.9515314209619,
          865.0135012349774,
          863.6819221911156,
          861.3501645311214,
          859.8864966917158,
          858.9833165008846,
          859.5084596727337,
          862.4943422219048,
          874.8522125483637,
          879.898068079397,
          895.7939924181336
         ]
        },
        {
         "line": {
          "color": "rgb(17, 165, 121)"
         },
         "name": "Male/European Union",
         "opacity": 1,
         "type": "scatter",
         "x": [
          1990,
          1991,
          1992,
          1993,
          1994,
          1995,
          1996,
          1997,
          1998,
          1999,
          2000,
          2001,
          2002,
          2003,
          2004,
          2005,
          2006,
          2007,
          2008,
          2009,
          2010,
          2011,
          2012,
          2013,
          2014,
          2015,
          2016,
          2017,
          2018,
          2019
         ],
         "y": [
          4.47657677926259,
          4.601842279310047,
          4.734540996573708,
          4.875527322124385,
          5.007628273953698,
          5.13287768796426,
          5.273914364085849,
          5.447333090800317,
          5.64716649308546,
          5.836352881576761,
          5.973543827281422,
          6.129569897925917,
          6.3040163619173395,
          6.4760182258878,
          6.5874351476981134,
          6.666581244067548,
          6.684841348834782,
          6.6786698825487,
          6.652013733527826,
          6.631148665747494,
          6.612738166747399,
          6.611823422635688,
          6.625694632636996,
          6.635709929859778,
          6.641344100220705,
          6.663403347590218,
          6.658903295690613,
          6.64785745722641,
          6.635362443591194,
          6.623527584714058
         ]
        },
        {
         "hoverinfo": "skip",
         "line": {
          "color": "rgb(17, 165, 121)",
          "width": 0.1
         },
         "mode": "lines",
         "showlegend": false,
         "type": "scatter",
         "x": [
          1990,
          1991,
          1992,
          1993,
          1994,
          1995,
          1996,
          1997,
          1998,
          1999,
          2000,
          2001,
          2002,
          2003,
          2004,
          2005,
          2006,
          2007,
          2008,
          2009,
          2010,
          2011,
          2012,
          2013,
          2014,
          2015,
          2016,
          2017,
          2018,
          2019
         ],
         "y": [
          3.7744002026482395,
          3.9248397726414397,
          4.065785420337869,
          4.202792856222556,
          4.314321973960084,
          4.414333598828561,
          4.5709002139178585,
          4.741216701342364,
          4.919488962012851,
          5.080051725054636,
          5.159191480192407,
          5.326860770343543,
          5.499750338617116,
          5.6508918688021454,
          5.721491094210627,
          5.747295941521882,
          5.814158879951202,
          5.843318729043972,
          5.82130410577974,
          5.783704389425337,
          5.725023808820054,
          5.748682571804036,
          5.770845473114855,
          5.772735221154977,
          5.736025000783013,
          5.702247881815944,
          5.668997801381785,
          5.566742455997853,
          5.506184486157274,
          5.367117930977538
         ]
        },
        {
         "fill": "tonexty",
         "hoverinfo": "skip",
         "line": {
          "color": "rgb(17, 165, 121)",
          "width": 0.1
         },
         "mode": "lines",
         "showlegend": false,
         "type": "scatter",
         "x": [
          1990,
          1991,
          1992,
          1993,
          1994,
          1995,
          1996,
          1997,
          1998,
          1999,
          2000,
          2001,
          2002,
          2003,
          2004,
          2005,
          2006,
          2007,
          2008,
          2009,
          2010,
          2011,
          2012,
          2013,
          2014,
          2015,
          2016,
          2017,
          2018,
          2019
         ],
         "y": [
          5.342718195633318,
          5.43236180374398,
          5.556328900799614,
          5.689340875401216,
          5.847924306316199,
          6.0075420760386615,
          6.1206845227745355,
          6.284343159109554,
          6.499861611879522,
          6.73697808777311,
          6.92283013295885,
          7.077935903163273,
          7.25419206016818,
          7.452095371224074,
          7.627426067024532,
          7.768731392313591,
          7.702892368441667,
          7.664682741644508,
          7.617567283128407,
          7.616899323020379,
          7.638666051021806,
          7.586667937353281,
          7.561342134446659,
          7.586720939516236,
          7.630998860833627,
          7.735010383504182,
          7.7506895774099895,
          7.893155626159519,
          7.920404294585474,
          8.128916559505743
         ]
        },
        {
         "line": {
          "color": "rgb(57, 105, 172)"
         },
         "name": "Female/Switzerland",
         "opacity": 1,
         "type": "scatter",
         "x": [
          1990,
          1991,
          1992,
          1993,
          1994,
          1995,
          1996,
          1997,
          1998,
          1999,
          2000,
          2001,
          2002,
          2003,
          2004,
          2005,
          2006,
          2007,
          2008,
          2009,
          2010,
          2011,
          2012,
          2013,
          2014,
          2015,
          2016,
          2017,
          2018,
          2019
         ],
         "y": [
          902.671891615494,
          900.4781280484101,
          898.9481569518961,
          899.1488551066132,
          897.8577612171429,
          906.257275067027,
          910.1084123996607,
          921.7242187896472,
          931.829603980771,
          940.1341602483539,
          944.173927998481,
          944.1783953804506,
          940.7324196573067,
          934.4495755135516,
          925.1717446454613,
          918.6261487226274,
          917.0002542853006,
          914.0765412430134,
          910.0242326119198,
          906.5829069201973,
          900.3109334943625,
          884.7003666385347,
          862.6965470207948,
          836.7404295124024,
          814.4359022581444,
          802.3628864705169,
          806.2560247377384,
          810.3945930278844,
          806.7648688715659,
          797.6465089587762
         ]
        },
        {
         "hoverinfo": "skip",
         "line": {
          "color": "rgb(57, 105, 172)",
          "width": 0.1
         },
         "mode": "lines",
         "showlegend": false,
         "type": "scatter",
         "x": [
          1990,
          1991,
          1992,
          1993,
          1994,
          1995,
          1996,
          1997,
          1998,
          1999,
          2000,
          2001,
          2002,
          2003,
          2004,
          2005,
          2006,
          2007,
          2008,
          2009,
          2010,
          2011,
          2012,
          2013,
          2014,
          2015,
          2016,
          2017,
          2018,
          2019
         ],
         "y": [
          762.324196972062,
          779.431663530383,
          788.4852171915685,
          793.2926513106962,
          791.3004843910918,
          790.4266383813555,
          801.0475933002907,
          815.8087924042062,
          825.0676411412473,
          827.7543558799441,
          824.5155041453556,
          832.5939614830281,
          830.9942643043934,
          824.4405170372911,
          812.2006812813196,
          799.2552661445261,
          804.5573255236789,
          804.6324915529985,
          801.4838639588878,
          792.6645393847493,
          779.3488021207664,
          771.3353222152863,
          753.7981018306392,
          728.7165815180205,
          703.1159269164716,
          682.7328378224028,
          680.4103340034409,
          661.2021171539134,
          650.1640011934419,
          618.6995063259324
         ]
        },
        {
         "fill": "tonexty",
         "hoverinfo": "skip",
         "line": {
          "color": "rgb(57, 105, 172)",
          "width": 0.1
         },
         "mode": "lines",
         "showlegend": false,
         "type": "scatter",
         "x": [
          1990,
          1991,
          1992,
          1993,
          1994,
          1995,
          1996,
          1997,
          1998,
          1999,
          2000,
          2001,
          2002,
          2003,
          2004,
          2005,
          2006,
          2007,
          2008,
          2009,
          2010,
          2011,
          2012,
          2013,
          2014,
          2015,
          2016,
          2017,
          2018,
          2019
         ],
         "y": [
          1064.5209933392307,
          1040.491756270551,
          1022.8531208136463,
          1018.0699083918029,
          1018.4466557523275,
          1035.8088056736851,
          1030.021803148842,
          1038.5777442482624,
          1048.8742275817497,
          1063.0243400117956,
          1077.8298851713907,
          1069.1504608956398,
          1062.6802596526684,
          1054.9604307816721,
          1051.1620359634696,
          1054.548167126405,
          1044.8728416297627,
          1036.909093664802,
          1032.2542372396194,
          1034.2098338251544,
          1035.9347369663865,
          1011.0986591594842,
          983.5778944868389,
          956.628147786922,
          941.1554182628335,
          939.4631557679515,
          950.3305278277364,
          985.7134219787678,
          995.3159781548442,
          1034.3335543905118
         ]
        },
        {
         "line": {
          "color": "rgb(242, 183, 1)"
         },
         "name": "Male/Switzerland",
         "opacity": 1,
         "type": "scatter",
         "x": [
          1990,
          1991,
          1992,
          1993,
          1994,
          1995,
          1996,
          1997,
          1998,
          1999,
          2000,
          2001,
          2002,
          2003,
          2004,
          2005,
          2006,
          2007,
          2008,
          2009,
          2010,
          2011,
          2012,
          2013,
          2014,
          2015,
          2016,
          2017,
          2018,
          2019
         ],
         "y": [
          9.439337403764297,
          9.400641378411324,
          9.336030799769473,
          9.24390786577162,
          9.156954798118473,
          9.047812169339236,
          8.854072214613991,
          8.68280790992021,
          8.491792701326343,
          8.285989489038016,
          8.177893690594107,
          8.068602584010272,
          8.063697597988888,
          8.032625089572475,
          8.006448628367037,
          7.9666532320576735,
          7.909901184299128,
          7.86816489801238,
          7.806490783815135,
          7.7764302221467005,
          7.690041573640121,
          7.549129150431492,
          7.374870144639893,
          7.2062493881737115,
          7.053251641271996,
          6.95545180534074,
          6.961339702206019,
          6.998074209119184,
          6.995951955159639,
          7.003576548179657
         ]
        },
        {
         "hoverinfo": "skip",
         "line": {
          "color": "rgb(242, 183, 1)",
          "width": 0.1
         },
         "mode": "lines",
         "showlegend": false,
         "type": "scatter",
         "x": [
          1990,
          1991,
          1992,
          1993,
          1994,
          1995,
          1996,
          1997,
          1998,
          1999,
          2000,
          2001,
          2002,
          2003,
          2004,
          2005,
          2006,
          2007,
          2008,
          2009,
          2010,
          2011,
          2012,
          2013,
          2014,
          2015,
          2016,
          2017,
          2018,
          2019
         ],
         "y": [
          6.121202106386201,
          6.30467664531601,
          6.336503067787296,
          6.319418026185862,
          6.1715675043660685,
          5.944026594372633,
          5.9878696919251375,
          5.947024679376675,
          5.800497287825816,
          5.584929379339025,
          5.366508005304461,
          5.428085905519401,
          5.494737572523294,
          5.476141922543553,
          5.392106194124949,
          5.2662051156231025,
          5.3339419460876245,
          5.350019587452101,
          5.290283699901461,
          5.216924731794985,
          5.027105880929695,
          5.072362308634917,
          5.011747340784599,
          4.88699450362644,
          4.72489101321606,
          4.535173075581302,
          4.512313572107887,
          4.441608901810236,
          4.410517428793237,
          4.267251184433566
         ]
        },
        {
         "fill": "tonexty",
         "hoverinfo": "skip",
         "line": {
          "color": "rgb(242, 183, 1)",
          "width": 0.1
         },
         "mode": "lines",
         "showlegend": false,
         "type": "scatter",
         "x": [
          1990,
          1991,
          1992,
          1993,
          1994,
          1995,
          1996,
          1997,
          1998,
          1999,
          2000,
          2001,
          2002,
          2003,
          2004,
          2005,
          2006,
          2007,
          2008,
          2009,
          2010,
          2011,
          2012,
          2013,
          2014,
          2015,
          2016,
          2017,
          2018,
          2019
         ],
         "y": [
          14.525722923258645,
          14.059563699630795,
          13.796578116777438,
          13.561868074787082,
          13.536291180614839,
          13.707732668146704,
          13.08115948349517,
          12.625708057556611,
          12.306119849355678,
          12.177194611629012,
          12.376084150683212,
          11.914273130461275,
          11.767838480737627,
          11.670945217483084,
          11.802262267620767,
          12.092174757283514,
          11.651984473981216,
          11.41319834637123,
          11.397141218092242,
          11.586992186056355,
          11.69766918742397,
          11.174522098262488,
          10.793572363244621,
          10.55398530147216,
          10.48311441705114,
          10.618705806295536,
          10.664247206478633,
          11.029362771998947,
          11.12020835249064,
          11.494305336123023
         ]
        }
       ],
       "layout": {
        "hovermode": "x unified",
        "template": {
         "data": {
          "bar": [
           {
            "error_x": {
             "color": "#2a3f5f"
            },
            "error_y": {
             "color": "#2a3f5f"
            },
            "marker": {
             "line": {
              "color": "#E5ECF6",
              "width": 0.5
             },
             "pattern": {
              "fillmode": "overlay",
              "size": 10,
              "solidity": 0.2
             }
            },
            "type": "bar"
           }
          ],
          "barpolar": [
           {
            "marker": {
             "line": {
              "color": "#E5ECF6",
              "width": 0.5
             },
             "pattern": {
              "fillmode": "overlay",
              "size": 10,
              "solidity": 0.2
             }
            },
            "type": "barpolar"
           }
          ],
          "carpet": [
           {
            "aaxis": {
             "endlinecolor": "#2a3f5f",
             "gridcolor": "white",
             "linecolor": "white",
             "minorgridcolor": "white",
             "startlinecolor": "#2a3f5f"
            },
            "baxis": {
             "endlinecolor": "#2a3f5f",
             "gridcolor": "white",
             "linecolor": "white",
             "minorgridcolor": "white",
             "startlinecolor": "#2a3f5f"
            },
            "type": "carpet"
           }
          ],
          "choropleth": [
           {
            "colorbar": {
             "outlinewidth": 0,
             "ticks": ""
            },
            "type": "choropleth"
           }
          ],
          "contour": [
           {
            "colorbar": {
             "outlinewidth": 0,
             "ticks": ""
            },
            "colorscale": [
             [
              0,
              "#0d0887"
             ],
             [
              0.1111111111111111,
              "#46039f"
             ],
             [
              0.2222222222222222,
              "#7201a8"
             ],
             [
              0.3333333333333333,
              "#9c179e"
             ],
             [
              0.4444444444444444,
              "#bd3786"
             ],
             [
              0.5555555555555556,
              "#d8576b"
             ],
             [
              0.6666666666666666,
              "#ed7953"
             ],
             [
              0.7777777777777778,
              "#fb9f3a"
             ],
             [
              0.8888888888888888,
              "#fdca26"
             ],
             [
              1,
              "#f0f921"
             ]
            ],
            "type": "contour"
           }
          ],
          "contourcarpet": [
           {
            "colorbar": {
             "outlinewidth": 0,
             "ticks": ""
            },
            "type": "contourcarpet"
           }
          ],
          "heatmap": [
           {
            "colorbar": {
             "outlinewidth": 0,
             "ticks": ""
            },
            "colorscale": [
             [
              0,
              "#0d0887"
             ],
             [
              0.1111111111111111,
              "#46039f"
             ],
             [
              0.2222222222222222,
              "#7201a8"
             ],
             [
              0.3333333333333333,
              "#9c179e"
             ],
             [
              0.4444444444444444,
              "#bd3786"
             ],
             [
              0.5555555555555556,
              "#d8576b"
             ],
             [
              0.6666666666666666,
              "#ed7953"
             ],
             [
              0.7777777777777778,
              "#fb9f3a"
             ],
             [
              0.8888888888888888,
              "#fdca26"
             ],
             [
              1,
              "#f0f921"
             ]
            ],
            "type": "heatmap"
           }
          ],
          "heatmapgl": [
           {
            "colorbar": {
             "outlinewidth": 0,
             "ticks": ""
            },
            "colorscale": [
             [
              0,
              "#0d0887"
             ],
             [
              0.1111111111111111,
              "#46039f"
             ],
             [
              0.2222222222222222,
              "#7201a8"
             ],
             [
              0.3333333333333333,
              "#9c179e"
             ],
             [
              0.4444444444444444,
              "#bd3786"
             ],
             [
              0.5555555555555556,
              "#d8576b"
             ],
             [
              0.6666666666666666,
              "#ed7953"
             ],
             [
              0.7777777777777778,
              "#fb9f3a"
             ],
             [
              0.8888888888888888,
              "#fdca26"
             ],
             [
              1,
              "#f0f921"
             ]
            ],
            "type": "heatmapgl"
           }
          ],
          "histogram": [
           {
            "marker": {
             "pattern": {
              "fillmode": "overlay",
              "size": 10,
              "solidity": 0.2
             }
            },
            "type": "histogram"
           }
          ],
          "histogram2d": [
           {
            "colorbar": {
             "outlinewidth": 0,
             "ticks": ""
            },
            "colorscale": [
             [
              0,
              "#0d0887"
             ],
             [
              0.1111111111111111,
              "#46039f"
             ],
             [
              0.2222222222222222,
              "#7201a8"
             ],
             [
              0.3333333333333333,
              "#9c179e"
             ],
             [
              0.4444444444444444,
              "#bd3786"
             ],
             [
              0.5555555555555556,
              "#d8576b"
             ],
             [
              0.6666666666666666,
              "#ed7953"
             ],
             [
              0.7777777777777778,
              "#fb9f3a"
             ],
             [
              0.8888888888888888,
              "#fdca26"
             ],
             [
              1,
              "#f0f921"
             ]
            ],
            "type": "histogram2d"
           }
          ],
          "histogram2dcontour": [
           {
            "colorbar": {
             "outlinewidth": 0,
             "ticks": ""
            },
            "colorscale": [
             [
              0,
              "#0d0887"
             ],
             [
              0.1111111111111111,
              "#46039f"
             ],
             [
              0.2222222222222222,
              "#7201a8"
             ],
             [
              0.3333333333333333,
              "#9c179e"
             ],
             [
              0.4444444444444444,
              "#bd3786"
             ],
             [
              0.5555555555555556,
              "#d8576b"
             ],
             [
              0.6666666666666666,
              "#ed7953"
             ],
             [
              0.7777777777777778,
              "#fb9f3a"
             ],
             [
              0.8888888888888888,
              "#fdca26"
             ],
             [
              1,
              "#f0f921"
             ]
            ],
            "type": "histogram2dcontour"
           }
          ],
          "mesh3d": [
           {
            "colorbar": {
             "outlinewidth": 0,
             "ticks": ""
            },
            "type": "mesh3d"
           }
          ],
          "parcoords": [
           {
            "line": {
             "colorbar": {
              "outlinewidth": 0,
              "ticks": ""
             }
            },
            "type": "parcoords"
           }
          ],
          "pie": [
           {
            "automargin": true,
            "type": "pie"
           }
          ],
          "scatter": [
           {
            "fillpattern": {
             "fillmode": "overlay",
             "size": 10,
             "solidity": 0.2
            },
            "type": "scatter"
           }
          ],
          "scatter3d": [
           {
            "line": {
             "colorbar": {
              "outlinewidth": 0,
              "ticks": ""
             }
            },
            "marker": {
             "colorbar": {
              "outlinewidth": 0,
              "ticks": ""
             }
            },
            "type": "scatter3d"
           }
          ],
          "scattercarpet": [
           {
            "marker": {
             "colorbar": {
              "outlinewidth": 0,
              "ticks": ""
             }
            },
            "type": "scattercarpet"
           }
          ],
          "scattergeo": [
           {
            "marker": {
             "colorbar": {
              "outlinewidth": 0,
              "ticks": ""
             }
            },
            "type": "scattergeo"
           }
          ],
          "scattergl": [
           {
            "marker": {
             "colorbar": {
              "outlinewidth": 0,
              "ticks": ""
             }
            },
            "type": "scattergl"
           }
          ],
          "scattermapbox": [
           {
            "marker": {
             "colorbar": {
              "outlinewidth": 0,
              "ticks": ""
             }
            },
            "type": "scattermapbox"
           }
          ],
          "scatterpolar": [
           {
            "marker": {
             "colorbar": {
              "outlinewidth": 0,
              "ticks": ""
             }
            },
            "type": "scatterpolar"
           }
          ],
          "scatterpolargl": [
           {
            "marker": {
             "colorbar": {
              "outlinewidth": 0,
              "ticks": ""
             }
            },
            "type": "scatterpolargl"
           }
          ],
          "scatterternary": [
           {
            "marker": {
             "colorbar": {
              "outlinewidth": 0,
              "ticks": ""
             }
            },
            "type": "scatterternary"
           }
          ],
          "surface": [
           {
            "colorbar": {
             "outlinewidth": 0,
             "ticks": ""
            },
            "colorscale": [
             [
              0,
              "#0d0887"
             ],
             [
              0.1111111111111111,
              "#46039f"
             ],
             [
              0.2222222222222222,
              "#7201a8"
             ],
             [
              0.3333333333333333,
              "#9c179e"
             ],
             [
              0.4444444444444444,
              "#bd3786"
             ],
             [
              0.5555555555555556,
              "#d8576b"
             ],
             [
              0.6666666666666666,
              "#ed7953"
             ],
             [
              0.7777777777777778,
              "#fb9f3a"
             ],
             [
              0.8888888888888888,
              "#fdca26"
             ],
             [
              1,
              "#f0f921"
             ]
            ],
            "type": "surface"
           }
          ],
          "table": [
           {
            "cells": {
             "fill": {
              "color": "#EBF0F8"
             },
             "line": {
              "color": "white"
             }
            },
            "header": {
             "fill": {
              "color": "#C8D4E3"
             },
             "line": {
              "color": "white"
             }
            },
            "type": "table"
           }
          ]
         },
         "layout": {
          "annotationdefaults": {
           "arrowcolor": "#2a3f5f",
           "arrowhead": 0,
           "arrowwidth": 1
          },
          "autotypenumbers": "strict",
          "coloraxis": {
           "colorbar": {
            "outlinewidth": 0,
            "ticks": ""
           }
          },
          "colorscale": {
           "diverging": [
            [
             0,
             "#8e0152"
            ],
            [
             0.1,
             "#c51b7d"
            ],
            [
             0.2,
             "#de77ae"
            ],
            [
             0.3,
             "#f1b6da"
            ],
            [
             0.4,
             "#fde0ef"
            ],
            [
             0.5,
             "#f7f7f7"
            ],
            [
             0.6,
             "#e6f5d0"
            ],
            [
             0.7,
             "#b8e186"
            ],
            [
             0.8,
             "#7fbc41"
            ],
            [
             0.9,
             "#4d9221"
            ],
            [
             1,
             "#276419"
            ]
           ],
           "sequential": [
            [
             0,
             "#0d0887"
            ],
            [
             0.1111111111111111,
             "#46039f"
            ],
            [
             0.2222222222222222,
             "#7201a8"
            ],
            [
             0.3333333333333333,
             "#9c179e"
            ],
            [
             0.4444444444444444,
             "#bd3786"
            ],
            [
             0.5555555555555556,
             "#d8576b"
            ],
            [
             0.6666666666666666,
             "#ed7953"
            ],
            [
             0.7777777777777778,
             "#fb9f3a"
            ],
            [
             0.8888888888888888,
             "#fdca26"
            ],
            [
             1,
             "#f0f921"
            ]
           ],
           "sequentialminus": [
            [
             0,
             "#0d0887"
            ],
            [
             0.1111111111111111,
             "#46039f"
            ],
            [
             0.2222222222222222,
             "#7201a8"
            ],
            [
             0.3333333333333333,
             "#9c179e"
            ],
            [
             0.4444444444444444,
             "#bd3786"
            ],
            [
             0.5555555555555556,
             "#d8576b"
            ],
            [
             0.6666666666666666,
             "#ed7953"
            ],
            [
             0.7777777777777778,
             "#fb9f3a"
            ],
            [
             0.8888888888888888,
             "#fdca26"
            ],
            [
             1,
             "#f0f921"
            ]
           ]
          },
          "colorway": [
           "#636efa",
           "#EF553B",
           "#00cc96",
           "#ab63fa",
           "#FFA15A",
           "#19d3f3",
           "#FF6692",
           "#B6E880",
           "#FF97FF",
           "#FECB52"
          ],
          "font": {
           "color": "#2a3f5f"
          },
          "geo": {
           "bgcolor": "white",
           "lakecolor": "white",
           "landcolor": "#E5ECF6",
           "showlakes": true,
           "showland": true,
           "subunitcolor": "white"
          },
          "hoverlabel": {
           "align": "left"
          },
          "hovermode": "closest",
          "mapbox": {
           "style": "light"
          },
          "paper_bgcolor": "white",
          "plot_bgcolor": "#E5ECF6",
          "polar": {
           "angularaxis": {
            "gridcolor": "white",
            "linecolor": "white",
            "ticks": ""
           },
           "bgcolor": "#E5ECF6",
           "radialaxis": {
            "gridcolor": "white",
            "linecolor": "white",
            "ticks": ""
           }
          },
          "scene": {
           "xaxis": {
            "backgroundcolor": "#E5ECF6",
            "gridcolor": "white",
            "gridwidth": 2,
            "linecolor": "white",
            "showbackground": true,
            "ticks": "",
            "zerolinecolor": "white"
           },
           "yaxis": {
            "backgroundcolor": "#E5ECF6",
            "gridcolor": "white",
            "gridwidth": 2,
            "linecolor": "white",
            "showbackground": true,
            "ticks": "",
            "zerolinecolor": "white"
           },
           "zaxis": {
            "backgroundcolor": "#E5ECF6",
            "gridcolor": "white",
            "gridwidth": 2,
            "linecolor": "white",
            "showbackground": true,
            "ticks": "",
            "zerolinecolor": "white"
           }
          },
          "shapedefaults": {
           "line": {
            "color": "#2a3f5f"
           }
          },
          "ternary": {
           "aaxis": {
            "gridcolor": "white",
            "linecolor": "white",
            "ticks": ""
           },
           "baxis": {
            "gridcolor": "white",
            "linecolor": "white",
            "ticks": ""
           },
           "bgcolor": "#E5ECF6",
           "caxis": {
            "gridcolor": "white",
            "linecolor": "white",
            "ticks": ""
           }
          },
          "title": {
           "x": 0.05
          },
          "xaxis": {
           "automargin": true,
           "gridcolor": "white",
           "linecolor": "white",
           "ticks": "",
           "title": {
            "standoff": 15
           },
           "zerolinecolor": "white",
           "zerolinewidth": 2
          },
          "yaxis": {
           "automargin": true,
           "gridcolor": "white",
           "linecolor": "white",
           "ticks": "",
           "title": {
            "standoff": 15
           },
           "zerolinecolor": "white",
           "zerolinewidth": 2
          }
         }
        },
        "title": {
         "text": "Prevalence rate of ovarian and breast cancer per 100k population"
        },
        "xaxis": {
         "title": {
          "text": "Year"
         }
        },
        "yaxis": {
         "title": {
          "text": "Rate for 100k res."
         }
        }
       }
      }
     },
     "metadata": {},
     "output_type": "display_data"
    }
   ],
   "source": [
    "fig = go.Figure()\n",
    "i=0\n",
    "for location, group_l in data_rate[(data_rate.measure_name=='Prevalence') & ((data_rate.cause_name=='Breast cancer') | (data_rate.cause_name=='Ovarian cancer'))].groupby(['location_name','sex_name','year'])[['val','lower','upper']].mean().reset_index().groupby('location_name'):\n",
    "    for sex, group_s in group_l.groupby('sex_name'):\n",
    "        fig.add_trace(go.Scatter(x=group_s['year'], y=group_s['val'], name=f'{sex}/{location}' ,line_color=colors[i],opacity=1))\n",
    "        fig.add_trace(go.Scatter(x=group_s['year'], y=group_s['lower'], fill=None, mode='lines',hoverinfo='skip',line_color=colors[i],line_width=0.1,showlegend=False))\n",
    "        fig.add_trace(go.Scatter(x=group_s['year'], y=group_s['upper'], fill='tonexty', mode='lines',hoverinfo='skip',line_color=colors[i],line_width=0.1,showlegend=False))\n",
    "        i+=1\n",
    "fig.update_xaxes(title_text=\"Year\")\n",
    "fig.update_yaxes(title_text=\"Rate for 100k res.\")\n",
    "fig.update_layout(hovermode='x unified', title='Prevalence rate of ovarian and breast cancer per 100k population')\n",
    "fig.show()"
   ]
  },
  {
   "cell_type": "markdown",
   "metadata": {},
   "source": [
    "#### B - Age-Specific Cancer Risk Overview\n",
    "\n",
    "In our investigation into the correlation between cancer development and age, we aim to understand how cancer cases are distributed across different life stages. Here are our hypotheses : \n",
    "\n",
    "- **<5 years**: `Toddlers` - While cancer is rare in this age group, when it can occur. Early detection and treatment are crucial for improving outcomes.\n",
    "- **5-14 years**: `Kids` - Childhood cancers, though uncommon, include leukemias, brain cancers.\n",
    "- **15-19 years**: `Teenagers` - This age group sees an increase in cases of thyroid cancer. \n",
    "- **20-29 years**: `Young Adults` - The risk of breast cancer, ovarian, cervical cancer, stomach and thyroid cancer becomes more pronounced, especially in individuals with certain genetic predispositions or lifestyle factors.\n",
    "- **30-44 years**: `Adults` - Cancer risks increase and diversify, including colon, kidney, breast, pancreatic, and lung cancers. \n",
    "- **45-59 years**: `Adults` - This group sees a higher incidence of cancer, making screenings for colorectal, breast, and prostate cancers increasingly important for early diagnosis and treatment.\n",
    "- **60-64 years**: `Adults` - Cancer risk continues to rise, with a significant focus on screening for cancers that have higher survival rates when detected early, such as colorectal, lung, and bladder cancer.\n",
    "- **65-69 years** and **70-74 years**: `Adults` - As individuals age, the prevalence of cancers such as prostate, lung, and colorectal cancer increases. \n",
    "- **75+ years**: `Seniors` - The highest risk of cancer is observed in this age group. \n"
   ]
  },
  {
   "cell_type": "markdown",
   "metadata": {},
   "source": [
    "**ANALYSIS 1 : Number of Cancer cases from 1990 to 2019 - aggregation**\n",
    "The goal of this analysis is to understand and visualize the distribution of cancer cases across different age groups over a specified period, from 1990 to 2019. By aggregating cancer incidence data for each age group, the analysis aims to identify trends and patterns in cancer impact, such as which age groups are most affected by cancer."
   ]
  },
  {
   "cell_type": "code",
   "execution_count": 36,
   "metadata": {},
   "outputs": [
    {
     "data": {
      "application/vnd.plotly.v1+json": {
       "config": {
        "plotlyServerURL": "https://plot.ly"
       },
       "data": [
        {
         "marker": {
          "color": "skyblue",
          "line": {
           "color": "black",
           "width": 1
          }
         },
         "orientation": "h",
         "type": "bar",
         "x": [
          12109.686475213533,
          23534.67224662411,
          12147.092163015937,
          18447.916784000212,
          36881.360273809325,
          88417.04605739389,
          194035.4380469444,
          408760.3867376533,
          798542.1056211393,
          1364334.6436703063,
          2074349.866793992,
          2861494.9542378904,
          3605909.366673289,
          4020407.6129859225,
          11542150.088608705
         ],
         "y": [
          "<5 years",
          "5-14 years",
          "15-19 years",
          "20-24 years",
          "25-29 years",
          "30-34 years",
          "35-39 years",
          "40-44 years",
          "45-49 years",
          "50-54 years",
          "55-59 years",
          "60-64 years",
          "65-69 years",
          "70-74 years",
          "75+ years"
         ]
        }
       ],
       "layout": {
        "showlegend": false,
        "template": {
         "data": {
          "bar": [
           {
            "error_x": {
             "color": "#2a3f5f"
            },
            "error_y": {
             "color": "#2a3f5f"
            },
            "marker": {
             "line": {
              "color": "white",
              "width": 0.5
             },
             "pattern": {
              "fillmode": "overlay",
              "size": 10,
              "solidity": 0.2
             }
            },
            "type": "bar"
           }
          ],
          "barpolar": [
           {
            "marker": {
             "line": {
              "color": "white",
              "width": 0.5
             },
             "pattern": {
              "fillmode": "overlay",
              "size": 10,
              "solidity": 0.2
             }
            },
            "type": "barpolar"
           }
          ],
          "carpet": [
           {
            "aaxis": {
             "endlinecolor": "#2a3f5f",
             "gridcolor": "#C8D4E3",
             "linecolor": "#C8D4E3",
             "minorgridcolor": "#C8D4E3",
             "startlinecolor": "#2a3f5f"
            },
            "baxis": {
             "endlinecolor": "#2a3f5f",
             "gridcolor": "#C8D4E3",
             "linecolor": "#C8D4E3",
             "minorgridcolor": "#C8D4E3",
             "startlinecolor": "#2a3f5f"
            },
            "type": "carpet"
           }
          ],
          "choropleth": [
           {
            "colorbar": {
             "outlinewidth": 0,
             "ticks": ""
            },
            "type": "choropleth"
           }
          ],
          "contour": [
           {
            "colorbar": {
             "outlinewidth": 0,
             "ticks": ""
            },
            "colorscale": [
             [
              0,
              "#0d0887"
             ],
             [
              0.1111111111111111,
              "#46039f"
             ],
             [
              0.2222222222222222,
              "#7201a8"
             ],
             [
              0.3333333333333333,
              "#9c179e"
             ],
             [
              0.4444444444444444,
              "#bd3786"
             ],
             [
              0.5555555555555556,
              "#d8576b"
             ],
             [
              0.6666666666666666,
              "#ed7953"
             ],
             [
              0.7777777777777778,
              "#fb9f3a"
             ],
             [
              0.8888888888888888,
              "#fdca26"
             ],
             [
              1,
              "#f0f921"
             ]
            ],
            "type": "contour"
           }
          ],
          "contourcarpet": [
           {
            "colorbar": {
             "outlinewidth": 0,
             "ticks": ""
            },
            "type": "contourcarpet"
           }
          ],
          "heatmap": [
           {
            "colorbar": {
             "outlinewidth": 0,
             "ticks": ""
            },
            "colorscale": [
             [
              0,
              "#0d0887"
             ],
             [
              0.1111111111111111,
              "#46039f"
             ],
             [
              0.2222222222222222,
              "#7201a8"
             ],
             [
              0.3333333333333333,
              "#9c179e"
             ],
             [
              0.4444444444444444,
              "#bd3786"
             ],
             [
              0.5555555555555556,
              "#d8576b"
             ],
             [
              0.6666666666666666,
              "#ed7953"
             ],
             [
              0.7777777777777778,
              "#fb9f3a"
             ],
             [
              0.8888888888888888,
              "#fdca26"
             ],
             [
              1,
              "#f0f921"
             ]
            ],
            "type": "heatmap"
           }
          ],
          "heatmapgl": [
           {
            "colorbar": {
             "outlinewidth": 0,
             "ticks": ""
            },
            "colorscale": [
             [
              0,
              "#0d0887"
             ],
             [
              0.1111111111111111,
              "#46039f"
             ],
             [
              0.2222222222222222,
              "#7201a8"
             ],
             [
              0.3333333333333333,
              "#9c179e"
             ],
             [
              0.4444444444444444,
              "#bd3786"
             ],
             [
              0.5555555555555556,
              "#d8576b"
             ],
             [
              0.6666666666666666,
              "#ed7953"
             ],
             [
              0.7777777777777778,
              "#fb9f3a"
             ],
             [
              0.8888888888888888,
              "#fdca26"
             ],
             [
              1,
              "#f0f921"
             ]
            ],
            "type": "heatmapgl"
           }
          ],
          "histogram": [
           {
            "marker": {
             "pattern": {
              "fillmode": "overlay",
              "size": 10,
              "solidity": 0.2
             }
            },
            "type": "histogram"
           }
          ],
          "histogram2d": [
           {
            "colorbar": {
             "outlinewidth": 0,
             "ticks": ""
            },
            "colorscale": [
             [
              0,
              "#0d0887"
             ],
             [
              0.1111111111111111,
              "#46039f"
             ],
             [
              0.2222222222222222,
              "#7201a8"
             ],
             [
              0.3333333333333333,
              "#9c179e"
             ],
             [
              0.4444444444444444,
              "#bd3786"
             ],
             [
              0.5555555555555556,
              "#d8576b"
             ],
             [
              0.6666666666666666,
              "#ed7953"
             ],
             [
              0.7777777777777778,
              "#fb9f3a"
             ],
             [
              0.8888888888888888,
              "#fdca26"
             ],
             [
              1,
              "#f0f921"
             ]
            ],
            "type": "histogram2d"
           }
          ],
          "histogram2dcontour": [
           {
            "colorbar": {
             "outlinewidth": 0,
             "ticks": ""
            },
            "colorscale": [
             [
              0,
              "#0d0887"
             ],
             [
              0.1111111111111111,
              "#46039f"
             ],
             [
              0.2222222222222222,
              "#7201a8"
             ],
             [
              0.3333333333333333,
              "#9c179e"
             ],
             [
              0.4444444444444444,
              "#bd3786"
             ],
             [
              0.5555555555555556,
              "#d8576b"
             ],
             [
              0.6666666666666666,
              "#ed7953"
             ],
             [
              0.7777777777777778,
              "#fb9f3a"
             ],
             [
              0.8888888888888888,
              "#fdca26"
             ],
             [
              1,
              "#f0f921"
             ]
            ],
            "type": "histogram2dcontour"
           }
          ],
          "mesh3d": [
           {
            "colorbar": {
             "outlinewidth": 0,
             "ticks": ""
            },
            "type": "mesh3d"
           }
          ],
          "parcoords": [
           {
            "line": {
             "colorbar": {
              "outlinewidth": 0,
              "ticks": ""
             }
            },
            "type": "parcoords"
           }
          ],
          "pie": [
           {
            "automargin": true,
            "type": "pie"
           }
          ],
          "scatter": [
           {
            "fillpattern": {
             "fillmode": "overlay",
             "size": 10,
             "solidity": 0.2
            },
            "type": "scatter"
           }
          ],
          "scatter3d": [
           {
            "line": {
             "colorbar": {
              "outlinewidth": 0,
              "ticks": ""
             }
            },
            "marker": {
             "colorbar": {
              "outlinewidth": 0,
              "ticks": ""
             }
            },
            "type": "scatter3d"
           }
          ],
          "scattercarpet": [
           {
            "marker": {
             "colorbar": {
              "outlinewidth": 0,
              "ticks": ""
             }
            },
            "type": "scattercarpet"
           }
          ],
          "scattergeo": [
           {
            "marker": {
             "colorbar": {
              "outlinewidth": 0,
              "ticks": ""
             }
            },
            "type": "scattergeo"
           }
          ],
          "scattergl": [
           {
            "marker": {
             "colorbar": {
              "outlinewidth": 0,
              "ticks": ""
             }
            },
            "type": "scattergl"
           }
          ],
          "scattermapbox": [
           {
            "marker": {
             "colorbar": {
              "outlinewidth": 0,
              "ticks": ""
             }
            },
            "type": "scattermapbox"
           }
          ],
          "scatterpolar": [
           {
            "marker": {
             "colorbar": {
              "outlinewidth": 0,
              "ticks": ""
             }
            },
            "type": "scatterpolar"
           }
          ],
          "scatterpolargl": [
           {
            "marker": {
             "colorbar": {
              "outlinewidth": 0,
              "ticks": ""
             }
            },
            "type": "scatterpolargl"
           }
          ],
          "scatterternary": [
           {
            "marker": {
             "colorbar": {
              "outlinewidth": 0,
              "ticks": ""
             }
            },
            "type": "scatterternary"
           }
          ],
          "surface": [
           {
            "colorbar": {
             "outlinewidth": 0,
             "ticks": ""
            },
            "colorscale": [
             [
              0,
              "#0d0887"
             ],
             [
              0.1111111111111111,
              "#46039f"
             ],
             [
              0.2222222222222222,
              "#7201a8"
             ],
             [
              0.3333333333333333,
              "#9c179e"
             ],
             [
              0.4444444444444444,
              "#bd3786"
             ],
             [
              0.5555555555555556,
              "#d8576b"
             ],
             [
              0.6666666666666666,
              "#ed7953"
             ],
             [
              0.7777777777777778,
              "#fb9f3a"
             ],
             [
              0.8888888888888888,
              "#fdca26"
             ],
             [
              1,
              "#f0f921"
             ]
            ],
            "type": "surface"
           }
          ],
          "table": [
           {
            "cells": {
             "fill": {
              "color": "#EBF0F8"
             },
             "line": {
              "color": "white"
             }
            },
            "header": {
             "fill": {
              "color": "#C8D4E3"
             },
             "line": {
              "color": "white"
             }
            },
            "type": "table"
           }
          ]
         },
         "layout": {
          "annotationdefaults": {
           "arrowcolor": "#2a3f5f",
           "arrowhead": 0,
           "arrowwidth": 1
          },
          "autotypenumbers": "strict",
          "coloraxis": {
           "colorbar": {
            "outlinewidth": 0,
            "ticks": ""
           }
          },
          "colorscale": {
           "diverging": [
            [
             0,
             "#8e0152"
            ],
            [
             0.1,
             "#c51b7d"
            ],
            [
             0.2,
             "#de77ae"
            ],
            [
             0.3,
             "#f1b6da"
            ],
            [
             0.4,
             "#fde0ef"
            ],
            [
             0.5,
             "#f7f7f7"
            ],
            [
             0.6,
             "#e6f5d0"
            ],
            [
             0.7,
             "#b8e186"
            ],
            [
             0.8,
             "#7fbc41"
            ],
            [
             0.9,
             "#4d9221"
            ],
            [
             1,
             "#276419"
            ]
           ],
           "sequential": [
            [
             0,
             "#0d0887"
            ],
            [
             0.1111111111111111,
             "#46039f"
            ],
            [
             0.2222222222222222,
             "#7201a8"
            ],
            [
             0.3333333333333333,
             "#9c179e"
            ],
            [
             0.4444444444444444,
             "#bd3786"
            ],
            [
             0.5555555555555556,
             "#d8576b"
            ],
            [
             0.6666666666666666,
             "#ed7953"
            ],
            [
             0.7777777777777778,
             "#fb9f3a"
            ],
            [
             0.8888888888888888,
             "#fdca26"
            ],
            [
             1,
             "#f0f921"
            ]
           ],
           "sequentialminus": [
            [
             0,
             "#0d0887"
            ],
            [
             0.1111111111111111,
             "#46039f"
            ],
            [
             0.2222222222222222,
             "#7201a8"
            ],
            [
             0.3333333333333333,
             "#9c179e"
            ],
            [
             0.4444444444444444,
             "#bd3786"
            ],
            [
             0.5555555555555556,
             "#d8576b"
            ],
            [
             0.6666666666666666,
             "#ed7953"
            ],
            [
             0.7777777777777778,
             "#fb9f3a"
            ],
            [
             0.8888888888888888,
             "#fdca26"
            ],
            [
             1,
             "#f0f921"
            ]
           ]
          },
          "colorway": [
           "#636efa",
           "#EF553B",
           "#00cc96",
           "#ab63fa",
           "#FFA15A",
           "#19d3f3",
           "#FF6692",
           "#B6E880",
           "#FF97FF",
           "#FECB52"
          ],
          "font": {
           "color": "#2a3f5f"
          },
          "geo": {
           "bgcolor": "white",
           "lakecolor": "white",
           "landcolor": "white",
           "showlakes": true,
           "showland": true,
           "subunitcolor": "#C8D4E3"
          },
          "hoverlabel": {
           "align": "left"
          },
          "hovermode": "closest",
          "mapbox": {
           "style": "light"
          },
          "paper_bgcolor": "white",
          "plot_bgcolor": "white",
          "polar": {
           "angularaxis": {
            "gridcolor": "#EBF0F8",
            "linecolor": "#EBF0F8",
            "ticks": ""
           },
           "bgcolor": "white",
           "radialaxis": {
            "gridcolor": "#EBF0F8",
            "linecolor": "#EBF0F8",
            "ticks": ""
           }
          },
          "scene": {
           "xaxis": {
            "backgroundcolor": "white",
            "gridcolor": "#DFE8F3",
            "gridwidth": 2,
            "linecolor": "#EBF0F8",
            "showbackground": true,
            "ticks": "",
            "zerolinecolor": "#EBF0F8"
           },
           "yaxis": {
            "backgroundcolor": "white",
            "gridcolor": "#DFE8F3",
            "gridwidth": 2,
            "linecolor": "#EBF0F8",
            "showbackground": true,
            "ticks": "",
            "zerolinecolor": "#EBF0F8"
           },
           "zaxis": {
            "backgroundcolor": "white",
            "gridcolor": "#DFE8F3",
            "gridwidth": 2,
            "linecolor": "#EBF0F8",
            "showbackground": true,
            "ticks": "",
            "zerolinecolor": "#EBF0F8"
           }
          },
          "shapedefaults": {
           "line": {
            "color": "#2a3f5f"
           }
          },
          "ternary": {
           "aaxis": {
            "gridcolor": "#DFE8F3",
            "linecolor": "#A2B1C6",
            "ticks": ""
           },
           "baxis": {
            "gridcolor": "#DFE8F3",
            "linecolor": "#A2B1C6",
            "ticks": ""
           },
           "bgcolor": "white",
           "caxis": {
            "gridcolor": "#DFE8F3",
            "linecolor": "#A2B1C6",
            "ticks": ""
           }
          },
          "title": {
           "x": 0.05
          },
          "xaxis": {
           "automargin": true,
           "gridcolor": "#EBF0F8",
           "linecolor": "#EBF0F8",
           "ticks": "",
           "title": {
            "standoff": 15
           },
           "zerolinecolor": "#EBF0F8",
           "zerolinewidth": 2
          },
          "yaxis": {
           "automargin": true,
           "gridcolor": "#EBF0F8",
           "linecolor": "#EBF0F8",
           "ticks": "",
           "title": {
            "standoff": 15
           },
           "zerolinecolor": "#EBF0F8",
           "zerolinewidth": 2
          }
         }
        },
        "title": {
         "text": "Cumulated Number of Cancer Deaths by Age Group from 1990 to 2019"
        },
        "xaxis": {
         "title": {
          "text": "Number of deaths"
         }
        },
        "yaxis": {
         "title": {
          "text": "Age Group"
         }
        }
       }
      }
     },
     "metadata": {},
     "output_type": "display_data"
    }
   ],
   "source": [
    "# Age groups\n",
    "age_groups = ['<5 years', '5-14 years', '15-19 years', '20-24 years', '25-29 years',\n",
    "              '30-34 years', '35-39 years', '40-44 years', '45-49 years', '50-54 years',\n",
    "              '55-59 years', '60-64 years', '65-69 years', '70-74 years', '75+ years']\n",
    "              #'25-49 years', '50-69 years']\n",
    "\n",
    "# Total number of people impacted by cancer in each age group\n",
    "#cancer_impact = [data[data['age_name'] == age]['val'].sum() for age in age_groups]\n",
    "cancer_impact = [data[(data['age_name'] == age) & (data['measure_name'] == 'Deaths') & (data['metric_id'] == 1)]['val'].sum() for age in age_groups]\n",
    "\n",
    "fig = go.Figure()\n",
    "\n",
    "fig.add_trace(go.Bar(\n",
    "    x=cancer_impact,\n",
    "    y=age_groups,\n",
    "    orientation='h',\n",
    "    marker=dict(\n",
    "        color='skyblue',\n",
    "        line=dict(color='black', width=1)\n",
    "    )\n",
    "))\n",
    "\n",
    "fig.update_layout(\n",
    "    title='Cumulated Number of Cancer Deaths by Age Group from 1990 to 2019',\n",
    "    xaxis=dict(title='Number of deaths'),\n",
    "    yaxis=dict(title='Age Group'),\n",
    "    template='plotly_white',  \n",
    "    showlegend=False\n",
    ")\n",
    "\n",
    "fig.show()\n"
   ]
  },
  {
   "cell_type": "markdown",
   "metadata": {},
   "source": [
    "The graph shows the cumulative count of cancer deaths across different age groups over a thirty-year period. The horizontal bars indicate that the highest number of cancer deaths occurs in the oldest age group, \"75+ years,\" with a noticeable decline in younger age groups. Each subsequent younger age group generally shows fewer deaths, illustrating a clear correlation between increasing age and cancer mortality. The least number of deaths are in the youngest age groups, \"<5 years\" and \"5-14 years.\" This data underscores the significance of age as a factor in cancer mortality."
   ]
  },
  {
   "cell_type": "markdown",
   "metadata": {},
   "source": [
    "**ANALYSIS 2 : Number of Cancer cases from 1990 to 2019 - year by year**\n",
    "\n",
    "By grouping specific age ranges and tracking the total cancer cases annually for each group, it offers insights into how cancer incidence fluctuates across different demographics over time."
   ]
  },
  {
   "cell_type": "code",
   "execution_count": 38,
   "metadata": {},
   "outputs": [
    {
     "data": {
      "application/vnd.plotly.v1+json": {
       "config": {
        "plotlyServerURL": "https://plot.ly"
       },
       "data": [
        {
         "mode": "lines+markers",
         "name": "15-24 years",
         "type": "scatter",
         "x": [
          1990,
          1991,
          1992,
          1993,
          1994,
          1995,
          1996,
          1997,
          1998,
          1999,
          2000,
          2001,
          2002,
          2003,
          2004,
          2005,
          2006,
          2007,
          2008,
          2009,
          2010,
          2011,
          2012,
          2013,
          2014,
          2015,
          2016,
          2017,
          2018,
          2019
         ],
         "y": [
          1322.989981860707,
          1308.908717934667,
          1275.221714263434,
          1226.0554730931972,
          1195.3287841717824,
          1181.3255246134167,
          1157.6339836772215,
          1139.6146781004416,
          1124.4632695054652,
          1112.2727382076564,
          1099.763399507552,
          1081.6674851000525,
          1065.9383667060738,
          1052.2957489777868,
          1036.3986396290923,
          1019.7878249195198,
          1009.7959197727209,
          1009.9397381895008,
          995.872574823268,
          972.8027153522164,
          933.2838386121823,
          898.5172401690498,
          862.9950433504954,
          827.469423016451,
          807.2121764437322,
          789.2975929401453,
          773.5106183192614,
          766.8150261874616,
          771.998095846576,
          775.8326137250253
         ]
        },
        {
         "mode": "lines+markers",
         "name": "25-49 years",
         "type": "scatter",
         "x": [
          1990,
          1991,
          1992,
          1993,
          1994,
          1995,
          1996,
          1997,
          1998,
          1999,
          2000,
          2001,
          2002,
          2003,
          2004,
          2005,
          2006,
          2007,
          2008,
          2009,
          2010,
          2011,
          2012,
          2013,
          2014,
          2015,
          2016,
          2017,
          2018,
          2019
         ],
         "y": [
          54913.88642195831,
          55527.26481509674,
          56103.23072088354,
          56407.82746622189,
          56947.57132483819,
          57819.98978427811,
          57455.17875053054,
          57337.5006968171,
          57004.08921876402,
          56546.0871320245,
          56006.93954071833,
          55717.912599347226,
          55316.86543602761,
          54663.33455849455,
          53726.915468272826,
          53054.021713902366,
          52031.95800427922,
          51267.15526481555,
          50378.99643811445,
          49372.958680989774,
          47721.32673470202,
          46304.73078495683,
          44986.382358113406,
          43659.58710715553,
          42518.583212495694,
          41816.07045444804,
          40742.7327290479,
          40453.2754002662,
          40466.75451922374,
          40367.20940015598
         ]
        },
        {
         "mode": "lines+markers",
         "name": "5-14 years",
         "type": "scatter",
         "x": [
          1990,
          1991,
          1992,
          1993,
          1994,
          1995,
          1996,
          1997,
          1998,
          1999,
          2000,
          2001,
          2002,
          2003,
          2004,
          2005,
          2006,
          2007,
          2008,
          2009,
          2010,
          2011,
          2012,
          2013,
          2014,
          2015,
          2016,
          2017,
          2018,
          2019
         ],
         "y": [
          1052.5698671209555,
          1032.4932192656029,
          1004.9120642450255,
          984.5858944832443,
          966.6007875121793,
          941.5460244323075,
          920.2405052113282,
          900.2075800518438,
          885.7858245998309,
          868.3422807522669,
          851.5833677118486,
          830.5578324791711,
          816.0692509219734,
          788.6790369550827,
          766.6338385962911,
          752.2906229221245,
          736.6974158661517,
          718.3438738220898,
          700.5721311014842,
          693.6364230607924,
          675.7513664634859,
          661.8416338227265,
          652.3061991309996,
          638.3312396866506,
          629.0663368018882,
          621.9029598748621,
          615.6356708438564,
          606.5565091547128,
          611.0570633925728,
          609.8754263407592
         ]
        },
        {
         "mode": "lines+markers",
         "name": "50-59 years",
         "type": "scatter",
         "x": [
          1990,
          1991,
          1992,
          1993,
          1994,
          1995,
          1996,
          1997,
          1998,
          1999,
          2000,
          2001,
          2002,
          2003,
          2004,
          2005,
          2006,
          2007,
          2008,
          2009,
          2010,
          2011,
          2012,
          2013,
          2014,
          2015,
          2016,
          2017,
          2018,
          2019
         ],
         "y": [
          114946.55001627907,
          114081.38139971704,
          112621.35807317693,
          111903.7947820501,
          111225.27874527546,
          110832.59848345545,
          109632.01343037054,
          109527.10673453056,
          109715.84128537813,
          110240.96206401929,
          110096.37336039891,
          111016.78395147242,
          113365.0916611122,
          115657.61003514606,
          116612.59035125669,
          119405.39114597077,
          121408.70844723246,
          122155.89261038919,
          122185.83204005173,
          121999.82228057671,
          120390.65283844707,
          119140.73754567272,
          118036.43191560346,
          116277.72906500823,
          114495.53500643576,
          114458.0410349121,
          112369.37713900849,
          112099.2993641387,
          111623.20824471657,
          111162.51741249557
         ]
        },
        {
         "mode": "lines+markers",
         "name": "60-69 years",
         "type": "scatter",
         "x": [
          1990,
          1991,
          1992,
          1993,
          1994,
          1995,
          1996,
          1997,
          1998,
          1999,
          2000,
          2001,
          2002,
          2003,
          2004,
          2005,
          2006,
          2007,
          2008,
          2009,
          2010,
          2011,
          2012,
          2013,
          2014,
          2015,
          2016,
          2017,
          2018,
          2019
         ],
         "y": [
          222120.47419769497,
          223158.39258607634,
          221996.37067153078,
          220787.35361049688,
          219386.083288986,
          219584.8337008068,
          217385.3231733297,
          215024.92233065047,
          213382.56388674473,
          211886.50113945763,
          208296.65613712097,
          205971.83710847556,
          204817.4514367705,
          204802.19344747072,
          202922.9916491249,
          201970.68143600883,
          201348.20491818903,
          204045.67909949622,
          206802.5365306784,
          209667.6630841025,
          210681.66809269416,
          212410.04928433074,
          217160.17977529016,
          220348.34268676687,
          222445.30375933045,
          228996.1160265592,
          230499.65186475334,
          231199.68879487528,
          229757.53275236714,
          228547.07444099913
         ]
        },
        {
         "mode": "lines+markers",
         "name": "70+ years",
         "type": "scatter",
         "x": [
          1990,
          1991,
          1992,
          1993,
          1994,
          1995,
          1996,
          1997,
          1998,
          1999,
          2000,
          2001,
          2002,
          2003,
          2004,
          2005,
          2006,
          2007,
          2008,
          2009,
          2010,
          2011,
          2012,
          2013,
          2014,
          2015,
          2016,
          2017,
          2018,
          2019
         ],
         "y": [
          397835.13216910616,
          405215.515167158,
          411728.5294104369,
          420550.0943004052,
          426372.75864281156,
          436502.35210136545,
          444907.56346394226,
          452849.50084442797,
          465179.0442699727,
          478122.8445847464,
          487682.8405715849,
          497346.0276786318,
          510272.53422215395,
          519685.157192933,
          522763.19594580506,
          530401.1948558834,
          537369.223025098,
          547478.1016422333,
          557863.2276032654,
          565790.7441097856,
          567020.8148118419,
          571521.7010039599,
          579288.4312762439,
          582161.1417729532,
          584617.9648284618,
          596644.2028752717,
          598197.9537707118,
          606529.428858926,
          622867.4321656221,
          637793.0484288884
         ]
        },
        {
         "mode": "lines+markers",
         "name": "<5 years",
         "type": "scatter",
         "x": [
          1990,
          1991,
          1992,
          1993,
          1994,
          1995,
          1996,
          1997,
          1998,
          1999,
          2000,
          2001,
          2002,
          2003,
          2004,
          2005,
          2006,
          2007,
          2008,
          2009,
          2010,
          2011,
          2012,
          2013,
          2014,
          2015,
          2016,
          2017,
          2018,
          2019
         ],
         "y": [
          610.7473360702452,
          591.0428063752275,
          567.4731671497672,
          538.2264557808344,
          518.1525142983138,
          484.1655945821805,
          465.02939651064116,
          447.0190784948128,
          429.236234387365,
          417.1839844228707,
          413.42510380756124,
          408.4044845212064,
          398.4286532126601,
          388.12953170139394,
          383.2213441166979,
          375.02142917243407,
          371.2530098159284,
          368.4794062307548,
          365.5217799615388,
          362.469551215331,
          356.54411234488833,
          347.73134628558677,
          341.5335971407933,
          332.3440603059264,
          324.7034711836886,
          315.9939938413446,
          312.6575412902254,
          300.69122089433074,
          291.7783895430189,
          283.0778805559645
         ]
        }
       ],
       "layout": {
        "template": {
         "data": {
          "bar": [
           {
            "error_x": {
             "color": "#2a3f5f"
            },
            "error_y": {
             "color": "#2a3f5f"
            },
            "marker": {
             "line": {
              "color": "white",
              "width": 0.5
             },
             "pattern": {
              "fillmode": "overlay",
              "size": 10,
              "solidity": 0.2
             }
            },
            "type": "bar"
           }
          ],
          "barpolar": [
           {
            "marker": {
             "line": {
              "color": "white",
              "width": 0.5
             },
             "pattern": {
              "fillmode": "overlay",
              "size": 10,
              "solidity": 0.2
             }
            },
            "type": "barpolar"
           }
          ],
          "carpet": [
           {
            "aaxis": {
             "endlinecolor": "#2a3f5f",
             "gridcolor": "#C8D4E3",
             "linecolor": "#C8D4E3",
             "minorgridcolor": "#C8D4E3",
             "startlinecolor": "#2a3f5f"
            },
            "baxis": {
             "endlinecolor": "#2a3f5f",
             "gridcolor": "#C8D4E3",
             "linecolor": "#C8D4E3",
             "minorgridcolor": "#C8D4E3",
             "startlinecolor": "#2a3f5f"
            },
            "type": "carpet"
           }
          ],
          "choropleth": [
           {
            "colorbar": {
             "outlinewidth": 0,
             "ticks": ""
            },
            "type": "choropleth"
           }
          ],
          "contour": [
           {
            "colorbar": {
             "outlinewidth": 0,
             "ticks": ""
            },
            "colorscale": [
             [
              0,
              "#0d0887"
             ],
             [
              0.1111111111111111,
              "#46039f"
             ],
             [
              0.2222222222222222,
              "#7201a8"
             ],
             [
              0.3333333333333333,
              "#9c179e"
             ],
             [
              0.4444444444444444,
              "#bd3786"
             ],
             [
              0.5555555555555556,
              "#d8576b"
             ],
             [
              0.6666666666666666,
              "#ed7953"
             ],
             [
              0.7777777777777778,
              "#fb9f3a"
             ],
             [
              0.8888888888888888,
              "#fdca26"
             ],
             [
              1,
              "#f0f921"
             ]
            ],
            "type": "contour"
           }
          ],
          "contourcarpet": [
           {
            "colorbar": {
             "outlinewidth": 0,
             "ticks": ""
            },
            "type": "contourcarpet"
           }
          ],
          "heatmap": [
           {
            "colorbar": {
             "outlinewidth": 0,
             "ticks": ""
            },
            "colorscale": [
             [
              0,
              "#0d0887"
             ],
             [
              0.1111111111111111,
              "#46039f"
             ],
             [
              0.2222222222222222,
              "#7201a8"
             ],
             [
              0.3333333333333333,
              "#9c179e"
             ],
             [
              0.4444444444444444,
              "#bd3786"
             ],
             [
              0.5555555555555556,
              "#d8576b"
             ],
             [
              0.6666666666666666,
              "#ed7953"
             ],
             [
              0.7777777777777778,
              "#fb9f3a"
             ],
             [
              0.8888888888888888,
              "#fdca26"
             ],
             [
              1,
              "#f0f921"
             ]
            ],
            "type": "heatmap"
           }
          ],
          "heatmapgl": [
           {
            "colorbar": {
             "outlinewidth": 0,
             "ticks": ""
            },
            "colorscale": [
             [
              0,
              "#0d0887"
             ],
             [
              0.1111111111111111,
              "#46039f"
             ],
             [
              0.2222222222222222,
              "#7201a8"
             ],
             [
              0.3333333333333333,
              "#9c179e"
             ],
             [
              0.4444444444444444,
              "#bd3786"
             ],
             [
              0.5555555555555556,
              "#d8576b"
             ],
             [
              0.6666666666666666,
              "#ed7953"
             ],
             [
              0.7777777777777778,
              "#fb9f3a"
             ],
             [
              0.8888888888888888,
              "#fdca26"
             ],
             [
              1,
              "#f0f921"
             ]
            ],
            "type": "heatmapgl"
           }
          ],
          "histogram": [
           {
            "marker": {
             "pattern": {
              "fillmode": "overlay",
              "size": 10,
              "solidity": 0.2
             }
            },
            "type": "histogram"
           }
          ],
          "histogram2d": [
           {
            "colorbar": {
             "outlinewidth": 0,
             "ticks": ""
            },
            "colorscale": [
             [
              0,
              "#0d0887"
             ],
             [
              0.1111111111111111,
              "#46039f"
             ],
             [
              0.2222222222222222,
              "#7201a8"
             ],
             [
              0.3333333333333333,
              "#9c179e"
             ],
             [
              0.4444444444444444,
              "#bd3786"
             ],
             [
              0.5555555555555556,
              "#d8576b"
             ],
             [
              0.6666666666666666,
              "#ed7953"
             ],
             [
              0.7777777777777778,
              "#fb9f3a"
             ],
             [
              0.8888888888888888,
              "#fdca26"
             ],
             [
              1,
              "#f0f921"
             ]
            ],
            "type": "histogram2d"
           }
          ],
          "histogram2dcontour": [
           {
            "colorbar": {
             "outlinewidth": 0,
             "ticks": ""
            },
            "colorscale": [
             [
              0,
              "#0d0887"
             ],
             [
              0.1111111111111111,
              "#46039f"
             ],
             [
              0.2222222222222222,
              "#7201a8"
             ],
             [
              0.3333333333333333,
              "#9c179e"
             ],
             [
              0.4444444444444444,
              "#bd3786"
             ],
             [
              0.5555555555555556,
              "#d8576b"
             ],
             [
              0.6666666666666666,
              "#ed7953"
             ],
             [
              0.7777777777777778,
              "#fb9f3a"
             ],
             [
              0.8888888888888888,
              "#fdca26"
             ],
             [
              1,
              "#f0f921"
             ]
            ],
            "type": "histogram2dcontour"
           }
          ],
          "mesh3d": [
           {
            "colorbar": {
             "outlinewidth": 0,
             "ticks": ""
            },
            "type": "mesh3d"
           }
          ],
          "parcoords": [
           {
            "line": {
             "colorbar": {
              "outlinewidth": 0,
              "ticks": ""
             }
            },
            "type": "parcoords"
           }
          ],
          "pie": [
           {
            "automargin": true,
            "type": "pie"
           }
          ],
          "scatter": [
           {
            "fillpattern": {
             "fillmode": "overlay",
             "size": 10,
             "solidity": 0.2
            },
            "type": "scatter"
           }
          ],
          "scatter3d": [
           {
            "line": {
             "colorbar": {
              "outlinewidth": 0,
              "ticks": ""
             }
            },
            "marker": {
             "colorbar": {
              "outlinewidth": 0,
              "ticks": ""
             }
            },
            "type": "scatter3d"
           }
          ],
          "scattercarpet": [
           {
            "marker": {
             "colorbar": {
              "outlinewidth": 0,
              "ticks": ""
             }
            },
            "type": "scattercarpet"
           }
          ],
          "scattergeo": [
           {
            "marker": {
             "colorbar": {
              "outlinewidth": 0,
              "ticks": ""
             }
            },
            "type": "scattergeo"
           }
          ],
          "scattergl": [
           {
            "marker": {
             "colorbar": {
              "outlinewidth": 0,
              "ticks": ""
             }
            },
            "type": "scattergl"
           }
          ],
          "scattermapbox": [
           {
            "marker": {
             "colorbar": {
              "outlinewidth": 0,
              "ticks": ""
             }
            },
            "type": "scattermapbox"
           }
          ],
          "scatterpolar": [
           {
            "marker": {
             "colorbar": {
              "outlinewidth": 0,
              "ticks": ""
             }
            },
            "type": "scatterpolar"
           }
          ],
          "scatterpolargl": [
           {
            "marker": {
             "colorbar": {
              "outlinewidth": 0,
              "ticks": ""
             }
            },
            "type": "scatterpolargl"
           }
          ],
          "scatterternary": [
           {
            "marker": {
             "colorbar": {
              "outlinewidth": 0,
              "ticks": ""
             }
            },
            "type": "scatterternary"
           }
          ],
          "surface": [
           {
            "colorbar": {
             "outlinewidth": 0,
             "ticks": ""
            },
            "colorscale": [
             [
              0,
              "#0d0887"
             ],
             [
              0.1111111111111111,
              "#46039f"
             ],
             [
              0.2222222222222222,
              "#7201a8"
             ],
             [
              0.3333333333333333,
              "#9c179e"
             ],
             [
              0.4444444444444444,
              "#bd3786"
             ],
             [
              0.5555555555555556,
              "#d8576b"
             ],
             [
              0.6666666666666666,
              "#ed7953"
             ],
             [
              0.7777777777777778,
              "#fb9f3a"
             ],
             [
              0.8888888888888888,
              "#fdca26"
             ],
             [
              1,
              "#f0f921"
             ]
            ],
            "type": "surface"
           }
          ],
          "table": [
           {
            "cells": {
             "fill": {
              "color": "#EBF0F8"
             },
             "line": {
              "color": "white"
             }
            },
            "header": {
             "fill": {
              "color": "#C8D4E3"
             },
             "line": {
              "color": "white"
             }
            },
            "type": "table"
           }
          ]
         },
         "layout": {
          "annotationdefaults": {
           "arrowcolor": "#2a3f5f",
           "arrowhead": 0,
           "arrowwidth": 1
          },
          "autotypenumbers": "strict",
          "coloraxis": {
           "colorbar": {
            "outlinewidth": 0,
            "ticks": ""
           }
          },
          "colorscale": {
           "diverging": [
            [
             0,
             "#8e0152"
            ],
            [
             0.1,
             "#c51b7d"
            ],
            [
             0.2,
             "#de77ae"
            ],
            [
             0.3,
             "#f1b6da"
            ],
            [
             0.4,
             "#fde0ef"
            ],
            [
             0.5,
             "#f7f7f7"
            ],
            [
             0.6,
             "#e6f5d0"
            ],
            [
             0.7,
             "#b8e186"
            ],
            [
             0.8,
             "#7fbc41"
            ],
            [
             0.9,
             "#4d9221"
            ],
            [
             1,
             "#276419"
            ]
           ],
           "sequential": [
            [
             0,
             "#0d0887"
            ],
            [
             0.1111111111111111,
             "#46039f"
            ],
            [
             0.2222222222222222,
             "#7201a8"
            ],
            [
             0.3333333333333333,
             "#9c179e"
            ],
            [
             0.4444444444444444,
             "#bd3786"
            ],
            [
             0.5555555555555556,
             "#d8576b"
            ],
            [
             0.6666666666666666,
             "#ed7953"
            ],
            [
             0.7777777777777778,
             "#fb9f3a"
            ],
            [
             0.8888888888888888,
             "#fdca26"
            ],
            [
             1,
             "#f0f921"
            ]
           ],
           "sequentialminus": [
            [
             0,
             "#0d0887"
            ],
            [
             0.1111111111111111,
             "#46039f"
            ],
            [
             0.2222222222222222,
             "#7201a8"
            ],
            [
             0.3333333333333333,
             "#9c179e"
            ],
            [
             0.4444444444444444,
             "#bd3786"
            ],
            [
             0.5555555555555556,
             "#d8576b"
            ],
            [
             0.6666666666666666,
             "#ed7953"
            ],
            [
             0.7777777777777778,
             "#fb9f3a"
            ],
            [
             0.8888888888888888,
             "#fdca26"
            ],
            [
             1,
             "#f0f921"
            ]
           ]
          },
          "colorway": [
           "#636efa",
           "#EF553B",
           "#00cc96",
           "#ab63fa",
           "#FFA15A",
           "#19d3f3",
           "#FF6692",
           "#B6E880",
           "#FF97FF",
           "#FECB52"
          ],
          "font": {
           "color": "#2a3f5f"
          },
          "geo": {
           "bgcolor": "white",
           "lakecolor": "white",
           "landcolor": "white",
           "showlakes": true,
           "showland": true,
           "subunitcolor": "#C8D4E3"
          },
          "hoverlabel": {
           "align": "left"
          },
          "hovermode": "closest",
          "mapbox": {
           "style": "light"
          },
          "paper_bgcolor": "white",
          "plot_bgcolor": "white",
          "polar": {
           "angularaxis": {
            "gridcolor": "#EBF0F8",
            "linecolor": "#EBF0F8",
            "ticks": ""
           },
           "bgcolor": "white",
           "radialaxis": {
            "gridcolor": "#EBF0F8",
            "linecolor": "#EBF0F8",
            "ticks": ""
           }
          },
          "scene": {
           "xaxis": {
            "backgroundcolor": "white",
            "gridcolor": "#DFE8F3",
            "gridwidth": 2,
            "linecolor": "#EBF0F8",
            "showbackground": true,
            "ticks": "",
            "zerolinecolor": "#EBF0F8"
           },
           "yaxis": {
            "backgroundcolor": "white",
            "gridcolor": "#DFE8F3",
            "gridwidth": 2,
            "linecolor": "#EBF0F8",
            "showbackground": true,
            "ticks": "",
            "zerolinecolor": "#EBF0F8"
           },
           "zaxis": {
            "backgroundcolor": "white",
            "gridcolor": "#DFE8F3",
            "gridwidth": 2,
            "linecolor": "#EBF0F8",
            "showbackground": true,
            "ticks": "",
            "zerolinecolor": "#EBF0F8"
           }
          },
          "shapedefaults": {
           "line": {
            "color": "#2a3f5f"
           }
          },
          "ternary": {
           "aaxis": {
            "gridcolor": "#DFE8F3",
            "linecolor": "#A2B1C6",
            "ticks": ""
           },
           "baxis": {
            "gridcolor": "#DFE8F3",
            "linecolor": "#A2B1C6",
            "ticks": ""
           },
           "bgcolor": "white",
           "caxis": {
            "gridcolor": "#DFE8F3",
            "linecolor": "#A2B1C6",
            "ticks": ""
           }
          },
          "title": {
           "x": 0.05
          },
          "xaxis": {
           "automargin": true,
           "gridcolor": "#EBF0F8",
           "linecolor": "#EBF0F8",
           "ticks": "",
           "title": {
            "standoff": 15
           },
           "zerolinecolor": "#EBF0F8",
           "zerolinewidth": 2
          },
          "yaxis": {
           "automargin": true,
           "gridcolor": "#EBF0F8",
           "linecolor": "#EBF0F8",
           "ticks": "",
           "title": {
            "standoff": 15
           },
           "zerolinecolor": "#EBF0F8",
           "zerolinewidth": 2
          }
         }
        },
        "title": {
         "text": "Number of Cancer Deaths by Year and by Age Group"
        },
        "xaxis": {
         "title": {
          "text": "Year"
         }
        },
        "yaxis": {
         "title": {
          "text": "Number of Deaths"
         }
        }
       }
      }
     },
     "metadata": {},
     "output_type": "display_data"
    }
   ],
   "source": [
    "\n",
    "# Define age groups with combined age ranges and corresponding groupings\n",
    "age_group_mapping = {\n",
    "    '<5 years': ['<5 years'],\n",
    "    '5-14 years': ['5-14 years'],\n",
    "    '15-24 years': ['15-19 years', '20-24 years'],\n",
    "    '25-49 years': ['25-29 years', '30-34 years', '35-39 years', '40-44 years', '45-49 years'],\n",
    "    '50-59 years': ['50-54 years', '55-59 years'],\n",
    "    '60-69 years': ['60-64 years', '65-69 years'],\n",
    "    '70+ years': ['70-74 years', '75+ years']\n",
    "}\n",
    "\n",
    "# Calculate the total number of death cases per age group and year\n",
    "cases_by_year_age = data[(data['measure_name'] == 'Deaths') & (data['metric_id'] == 1)].groupby(['year', 'age_name'])['val'].sum().reset_index()\n",
    "\n",
    "aggregated_data = []\n",
    "\n",
    "for year in cases_by_year_age['year'].unique():\n",
    "    for new_age_group, age_ranges in age_group_mapping.items():\n",
    "        # Sum cases for all ages in the new age group for each year\n",
    "        total_cases = cases_by_year_age[\n",
    "            (cases_by_year_age['year'] == year) & \n",
    "            (cases_by_year_age['age_name'].isin(age_ranges))\n",
    "        ]['val'].sum()\n",
    "\n",
    "        aggregated_data.append({\n",
    "            'year': year,\n",
    "            'age_group': new_age_group,\n",
    "            'val': total_cases\n",
    "        })\n",
    "\n",
    "aggregated_df = pd.DataFrame(aggregated_data)\n",
    "\n",
    "pivot_df = aggregated_df.pivot(index='year', columns='age_group', values='val')\n",
    "\n",
    "traces = []\n",
    "for age_group in pivot_df.columns:\n",
    "    traces.append(go.Scatter(\n",
    "        x=pivot_df.index,\n",
    "        y=pivot_df[age_group],\n",
    "        mode='lines+markers',\n",
    "        name=age_group\n",
    "    ))\n",
    "\n",
    "layout = go.Layout(\n",
    "    title='Number of Cancer Deaths by Year and by Age Group',\n",
    "    xaxis=dict(title='Year'),\n",
    "    yaxis=dict(title='Number of Deaths'),\n",
    "    template='plotly_white'\n",
    ")\n",
    "\n",
    "fig = go.Figure(data=traces, layout=layout)\n",
    "\n",
    "fig.show()"
   ]
  },
  {
   "cell_type": "markdown",
   "metadata": {},
   "source": [
    "The graph presents the total number of deaths from cancer diseases from 1990 to 2019, broken down by various age groups. The age group \"70+ years\" consistently has the highest number of deaths, followed by \"60-69 years\" and \"50-59 years,\" suggesting a higher cancer incidence with increasing age. The trend for these groups is relatively stable. The younger age groups (\"<5 years\" through \"25-49 years\") show significantly fewer deaths, with the lowest numbers in the \"<5 years\" category. The data underscores the importance of age as a risk factor in both cancer incidence."
   ]
  },
  {
   "cell_type": "markdown",
   "metadata": {},
   "source": [
    "__c) Demographic Analysis of Kidney Cancer Mortality Over Three Decades__\n",
    "\n",
    "The purpose is to construct a series of population pyramids that detail the distribution of kidney cancer fatalities segmented by age and sex for consecutive five-year intervals from 1990 to 2019. "
   ]
  },
  {
   "cell_type": "code",
   "execution_count": null,
   "metadata": {},
   "outputs": [],
   "source": [
    "# Define the year groups\n",
    "year_groups = {\n",
    "    '1990-1994': list(range(1990, 1995)),\n",
    "    '1995-1999': list(range(1995, 2000)),\n",
    "    '2000-2004': list(range(2000, 2005)),\n",
    "    '2005-2009': list(range(2005, 2010)),\n",
    "    '2010-2014': list(range(2010, 2015)),\n",
    "    '2015-2019': list(range(2015, 2020))\n",
    "}\n",
    "\n",
    "# Function to assign each year to a group\n",
    "def map_year_to_group(year):\n",
    "    for group, years in year_groups.items():\n",
    "        if year in years:\n",
    "            return group\n",
    "    return None\n",
    "\n",
    "data['year_group'] = data['year'].apply(map_year_to_group)\n",
    "\n",
    "# Filter data for deaths and kidney cancer\n",
    "data_kidney_deaths = data[(data['measure_name'] == 'Deaths') & (data['cause_name'] == 'Kidney cancer')]\n",
    "\n",
    "colors = {\n",
    "    'Female': 'red',\n",
    "    'Male': 'blue'\n",
    "}\n",
    "\n",
    "sorted_age_names = ['<5 years', '5-14 years', '15-19 years', '20-24 years', '25-29 years',\n",
    "                    '30-34 years', '35-39 years', '40-44 years', '45-49 years', '50-54 years',\n",
    "                    '55-59 years', '60-64 years', '65-69 years', '70-74 years', '75+ years']\n",
    "\n",
    "# Set 'age_name' to a categorical type with the specified order before grouping\n",
    "data_kidney_deaths['age_name'] = pd.Categorical(\n",
    "    data_kidney_deaths['age_name'], \n",
    "    categories=sorted_age_names, \n",
    "    ordered=True\n",
    ")\n",
    "\n",
    "# Iterate through each year group to create a separate population pyramid\n",
    "for year_group in sorted(year_groups.keys()):\n",
    "    # Filter the data for the specific year group\n",
    "    group_data = data_kidney_deaths[data_kidney_deaths['year_group'] == year_group]\n",
    "\n",
    "    fig = go.Figure()\n",
    "\n",
    "    for sex in ['Female', 'Male']:\n",
    "        sex_data = group_data[group_data['sex_name'] == sex]\n",
    "\n",
    "        # Group by 'age_name' and sum 'val'—this will now respect the order of 'sorted_age_names'\n",
    "        age_data = sex_data.groupby('age_name')['val'].sum()\n",
    "\n",
    "        # If the sex is male, we want the bar to go left, so we multiply by -1\n",
    "        multiplier = -1 if sex == 'Male' else 1\n",
    "\n",
    "        fig.add_trace(go.Bar(\n",
    "            x=multiplier * age_data.values,  # age_data\n",
    "            y=age_data.index,\n",
    "            name=sex,\n",
    "            orientation='h',\n",
    "            marker=dict(color=colors[sex]),\n",
    "            hoverinfo='x'\n",
    "        ))\n",
    "\n",
    "    fig.update_layout(\n",
    "        barmode='overlay',\n",
    "        title=f'Population Pyramid for Kidney Cancer Deaths: {year_group}',\n",
    "        xaxis=dict(title='Number of Deaths', showgrid=False),\n",
    "        yaxis=dict(title='Age Group'),\n",
    "        legend=dict(x=0.1, y=1.1, orientation='h')\n",
    "    )\n",
    "\n",
    "    fig.show()\n"
   ]
  },
  {
   "cell_type": "markdown",
   "metadata": {},
   "source": [
    "The series of population pyramids represent kidney cancer deaths within various age groups for different five-year periods, from 1990-1994 through to 2015-2019. The graphs illustrate:\n",
    "\n",
    "- For each period, deaths are more prevalent in older age groups, with the \"75+ years\" category consistently showing the highest mortality.\n",
    "- Male deaths outnumber female deaths across nearly all age categories, which is a consistent trend over the 30-year span. This follows the study we made of cancer over time.\n",
    "- Over time, there is a noticeable shift towards a higher number of deaths in both genders, suggesting either an increase in kidney cancer mortality or improvements in the reporting and diagnosis of the disease."
   ]
  }
 ],
 "metadata": {
  "kernelspec": {
   "display_name": "Python 3",
   "language": "python",
   "name": "python3"
  },
  "language_info": {
   "codemirror_mode": {
    "name": "ipython",
    "version": 3
   },
   "file_extension": ".py",
   "mimetype": "text/x-python",
   "name": "python",
   "nbconvert_exporter": "python",
   "pygments_lexer": "ipython3",
   "version": "3.9.7"
  }
 },
 "nbformat": 4,
 "nbformat_minor": 2
}
